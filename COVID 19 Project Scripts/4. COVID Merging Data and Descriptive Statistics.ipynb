{
 "cells": [
  {
   "cell_type": "markdown",
   "id": "30b535ba",
   "metadata": {},
   "source": [
    "# Import Library and Data"
   ]
  },
  {
   "cell_type": "code",
   "execution_count": 22,
   "id": "dade06b1",
   "metadata": {},
   "outputs": [],
   "source": [
    "# Import libraries\n",
    "import pandas as pd\n",
    "import numpy as np\n",
    "import os"
   ]
  },
  {
   "cell_type": "code",
   "execution_count": 23,
   "id": "3e126c2c",
   "metadata": {},
   "outputs": [],
   "source": [
    "# Create path to folder\n",
    "path = r'/Users/caitlin/iCloud/Caitlin/COVID Data'"
   ]
  },
  {
   "cell_type": "code",
   "execution_count": 24,
   "id": "e6dd4f8c",
   "metadata": {},
   "outputs": [
    {
     "data": {
      "text/plain": [
       "'/Users/caitlin/iCloud/Caitlin/COVID Data'"
      ]
     },
     "execution_count": 24,
     "metadata": {},
     "output_type": "execute_result"
    }
   ],
   "source": [
    "path"
   ]
  },
  {
   "cell_type": "code",
   "execution_count": 25,
   "id": "09047cdc",
   "metadata": {},
   "outputs": [],
   "source": [
    "# Import stay at home data file\n",
    "COVID_home = pd.read_pickle(os.path.join(path, 'COVID_home_clean.pkl'))"
   ]
  },
  {
   "cell_type": "code",
   "execution_count": 26,
   "id": "83bd388a",
   "metadata": {},
   "outputs": [
    {
     "data": {
      "text/html": [
       "<div>\n",
       "<style scoped>\n",
       "    .dataframe tbody tr th:only-of-type {\n",
       "        vertical-align: middle;\n",
       "    }\n",
       "\n",
       "    .dataframe tbody tr th {\n",
       "        vertical-align: top;\n",
       "    }\n",
       "\n",
       "    .dataframe thead th {\n",
       "        text-align: right;\n",
       "    }\n",
       "</style>\n",
       "<table border=\"1\" class=\"dataframe\">\n",
       "  <thead>\n",
       "    <tr style=\"text-align: right;\">\n",
       "      <th></th>\n",
       "      <th>state</th>\n",
       "      <th>County_Name</th>\n",
       "      <th>FIPS_State</th>\n",
       "      <th>FIPS_County</th>\n",
       "      <th>date</th>\n",
       "      <th>order_code_home</th>\n",
       "      <th>Stay_at_Home_Order_Recommendation</th>\n",
       "    </tr>\n",
       "  </thead>\n",
       "  <tbody>\n",
       "    <tr>\n",
       "      <th>26</th>\n",
       "      <td>AL</td>\n",
       "      <td>Autauga County</td>\n",
       "      <td>1</td>\n",
       "      <td>1</td>\n",
       "      <td>2020-04-10</td>\n",
       "      <td>1</td>\n",
       "      <td>Mandatory for all individuals</td>\n",
       "    </tr>\n",
       "    <tr>\n",
       "      <th>27</th>\n",
       "      <td>AL</td>\n",
       "      <td>Autauga County</td>\n",
       "      <td>1</td>\n",
       "      <td>1</td>\n",
       "      <td>2020-04-11</td>\n",
       "      <td>1</td>\n",
       "      <td>Mandatory for all individuals</td>\n",
       "    </tr>\n",
       "  </tbody>\n",
       "</table>\n",
       "</div>"
      ],
      "text/plain": [
       "   state     County_Name  FIPS_State  FIPS_County       date  order_code_home  \\\n",
       "26    AL  Autauga County           1            1 2020-04-10                1   \n",
       "27    AL  Autauga County           1            1 2020-04-11                1   \n",
       "\n",
       "   Stay_at_Home_Order_Recommendation  \n",
       "26     Mandatory for all individuals  \n",
       "27     Mandatory for all individuals  "
      ]
     },
     "execution_count": 26,
     "metadata": {},
     "output_type": "execute_result"
    }
   ],
   "source": [
    "COVID_home.head(2)"
   ]
  },
  {
   "cell_type": "code",
   "execution_count": 27,
   "id": "8edbb357",
   "metadata": {},
   "outputs": [
    {
     "data": {
      "text/plain": [
       "(779216, 7)"
      ]
     },
     "execution_count": 27,
     "metadata": {},
     "output_type": "execute_result"
    }
   ],
   "source": [
    "COVID_home.shape"
   ]
  },
  {
   "cell_type": "code",
   "execution_count": 29,
   "id": "7d293281",
   "metadata": {},
   "outputs": [],
   "source": [
    "# Import mask mandate data file\n",
    "COVID_mask = pd.read_pickle(os.path.join(path, 'COVID_mask_clean.pkl'))"
   ]
  },
  {
   "cell_type": "code",
   "execution_count": 30,
   "id": "21ea5143",
   "metadata": {},
   "outputs": [
    {
     "data": {
      "text/html": [
       "<div>\n",
       "<style scoped>\n",
       "    .dataframe tbody tr th:only-of-type {\n",
       "        vertical-align: middle;\n",
       "    }\n",
       "\n",
       "    .dataframe tbody tr th {\n",
       "        vertical-align: top;\n",
       "    }\n",
       "\n",
       "    .dataframe thead th {\n",
       "        text-align: right;\n",
       "    }\n",
       "</style>\n",
       "<table border=\"1\" class=\"dataframe\">\n",
       "  <thead>\n",
       "    <tr style=\"text-align: right;\">\n",
       "      <th></th>\n",
       "      <th>state</th>\n",
       "      <th>County_Name</th>\n",
       "      <th>FIPS_State</th>\n",
       "      <th>FIPS_County</th>\n",
       "      <th>date</th>\n",
       "      <th>order_code_mask</th>\n",
       "      <th>Face_Masks_Required_in_Public</th>\n",
       "    </tr>\n",
       "  </thead>\n",
       "  <tbody>\n",
       "    <tr>\n",
       "      <th>0</th>\n",
       "      <td>AL</td>\n",
       "      <td>Autauga County</td>\n",
       "      <td>1</td>\n",
       "      <td>1</td>\n",
       "      <td>2020-04-10</td>\n",
       "      <td>2</td>\n",
       "      <td>No</td>\n",
       "    </tr>\n",
       "    <tr>\n",
       "      <th>1</th>\n",
       "      <td>AL</td>\n",
       "      <td>Autauga County</td>\n",
       "      <td>1</td>\n",
       "      <td>1</td>\n",
       "      <td>2020-04-11</td>\n",
       "      <td>2</td>\n",
       "      <td>No</td>\n",
       "    </tr>\n",
       "  </tbody>\n",
       "</table>\n",
       "</div>"
      ],
      "text/plain": [
       "  state     County_Name  FIPS_State  FIPS_County       date  order_code_mask  \\\n",
       "0    AL  Autauga County           1            1 2020-04-10                2   \n",
       "1    AL  Autauga County           1            1 2020-04-11                2   \n",
       "\n",
       "  Face_Masks_Required_in_Public  \n",
       "0                            No  \n",
       "1                            No  "
      ]
     },
     "execution_count": 30,
     "metadata": {},
     "output_type": "execute_result"
    }
   ],
   "source": [
    "COVID_mask.head(2)"
   ]
  },
  {
   "cell_type": "code",
   "execution_count": 31,
   "id": "59ddf4ba",
   "metadata": {},
   "outputs": [
    {
     "data": {
      "text/plain": [
       "(779216, 7)"
      ]
     },
     "execution_count": 31,
     "metadata": {},
     "output_type": "execute_result"
    }
   ],
   "source": [
    "COVID_mask.shape"
   ]
  },
  {
   "cell_type": "markdown",
   "id": "732e9993",
   "metadata": {},
   "source": [
    "## Merge stay at home and mask data"
   ]
  },
  {
   "cell_type": "code",
   "execution_count": 32,
   "id": "90c3b8a8",
   "metadata": {},
   "outputs": [],
   "source": [
    "# Merge dataframes\n",
    "COVID_mask_home = COVID_home.merge(COVID_mask, on = ['state', 'County_Name', 'FIPS_State', 'FIPS_County', 'date'])"
   ]
  },
  {
   "cell_type": "code",
   "execution_count": 33,
   "id": "5e542702",
   "metadata": {},
   "outputs": [
    {
     "data": {
      "text/html": [
       "<div>\n",
       "<style scoped>\n",
       "    .dataframe tbody tr th:only-of-type {\n",
       "        vertical-align: middle;\n",
       "    }\n",
       "\n",
       "    .dataframe tbody tr th {\n",
       "        vertical-align: top;\n",
       "    }\n",
       "\n",
       "    .dataframe thead th {\n",
       "        text-align: right;\n",
       "    }\n",
       "</style>\n",
       "<table border=\"1\" class=\"dataframe\">\n",
       "  <thead>\n",
       "    <tr style=\"text-align: right;\">\n",
       "      <th></th>\n",
       "      <th>state</th>\n",
       "      <th>County_Name</th>\n",
       "      <th>FIPS_State</th>\n",
       "      <th>FIPS_County</th>\n",
       "      <th>date</th>\n",
       "      <th>order_code_home</th>\n",
       "      <th>Stay_at_Home_Order_Recommendation</th>\n",
       "      <th>order_code_mask</th>\n",
       "      <th>Face_Masks_Required_in_Public</th>\n",
       "    </tr>\n",
       "  </thead>\n",
       "  <tbody>\n",
       "    <tr>\n",
       "      <th>0</th>\n",
       "      <td>AL</td>\n",
       "      <td>Autauga County</td>\n",
       "      <td>1</td>\n",
       "      <td>1</td>\n",
       "      <td>2020-04-10</td>\n",
       "      <td>1</td>\n",
       "      <td>Mandatory for all individuals</td>\n",
       "      <td>2</td>\n",
       "      <td>No</td>\n",
       "    </tr>\n",
       "    <tr>\n",
       "      <th>1</th>\n",
       "      <td>AL</td>\n",
       "      <td>Autauga County</td>\n",
       "      <td>1</td>\n",
       "      <td>1</td>\n",
       "      <td>2020-04-11</td>\n",
       "      <td>1</td>\n",
       "      <td>Mandatory for all individuals</td>\n",
       "      <td>2</td>\n",
       "      <td>No</td>\n",
       "    </tr>\n",
       "    <tr>\n",
       "      <th>2</th>\n",
       "      <td>AL</td>\n",
       "      <td>Autauga County</td>\n",
       "      <td>1</td>\n",
       "      <td>1</td>\n",
       "      <td>2020-04-12</td>\n",
       "      <td>1</td>\n",
       "      <td>Mandatory for all individuals</td>\n",
       "      <td>2</td>\n",
       "      <td>No</td>\n",
       "    </tr>\n",
       "    <tr>\n",
       "      <th>3</th>\n",
       "      <td>AL</td>\n",
       "      <td>Autauga County</td>\n",
       "      <td>1</td>\n",
       "      <td>1</td>\n",
       "      <td>2020-04-13</td>\n",
       "      <td>1</td>\n",
       "      <td>Mandatory for all individuals</td>\n",
       "      <td>2</td>\n",
       "      <td>No</td>\n",
       "    </tr>\n",
       "    <tr>\n",
       "      <th>4</th>\n",
       "      <td>AL</td>\n",
       "      <td>Autauga County</td>\n",
       "      <td>1</td>\n",
       "      <td>1</td>\n",
       "      <td>2020-04-14</td>\n",
       "      <td>1</td>\n",
       "      <td>Mandatory for all individuals</td>\n",
       "      <td>2</td>\n",
       "      <td>No</td>\n",
       "    </tr>\n",
       "  </tbody>\n",
       "</table>\n",
       "</div>"
      ],
      "text/plain": [
       "  state     County_Name  FIPS_State  FIPS_County       date  order_code_home  \\\n",
       "0    AL  Autauga County           1            1 2020-04-10                1   \n",
       "1    AL  Autauga County           1            1 2020-04-11                1   \n",
       "2    AL  Autauga County           1            1 2020-04-12                1   \n",
       "3    AL  Autauga County           1            1 2020-04-13                1   \n",
       "4    AL  Autauga County           1            1 2020-04-14                1   \n",
       "\n",
       "  Stay_at_Home_Order_Recommendation  order_code_mask  \\\n",
       "0     Mandatory for all individuals                2   \n",
       "1     Mandatory for all individuals                2   \n",
       "2     Mandatory for all individuals                2   \n",
       "3     Mandatory for all individuals                2   \n",
       "4     Mandatory for all individuals                2   \n",
       "\n",
       "  Face_Masks_Required_in_Public  \n",
       "0                            No  \n",
       "1                            No  \n",
       "2                            No  \n",
       "3                            No  \n",
       "4                            No  "
      ]
     },
     "execution_count": 33,
     "metadata": {},
     "output_type": "execute_result"
    }
   ],
   "source": [
    "COVID_mask_home.head(5)"
   ]
  },
  {
   "cell_type": "markdown",
   "id": "e701b115",
   "metadata": {},
   "source": [
    "## Merge COVID case and mask/home data"
   ]
  },
  {
   "cell_type": "code",
   "execution_count": 34,
   "id": "65ccdea4",
   "metadata": {},
   "outputs": [],
   "source": [
    "# Import stay at COVID cases\n",
    "COVID_cases = pd.read_pickle(os.path.join(path, 'COVID_cases_clean.pkl'))"
   ]
  },
  {
   "cell_type": "code",
   "execution_count": 35,
   "id": "5526435a",
   "metadata": {},
   "outputs": [
    {
     "data": {
      "text/html": [
       "<div>\n",
       "<style scoped>\n",
       "    .dataframe tbody tr th:only-of-type {\n",
       "        vertical-align: middle;\n",
       "    }\n",
       "\n",
       "    .dataframe tbody tr th {\n",
       "        vertical-align: top;\n",
       "    }\n",
       "\n",
       "    .dataframe thead th {\n",
       "        text-align: right;\n",
       "    }\n",
       "</style>\n",
       "<table border=\"1\" class=\"dataframe\">\n",
       "  <thead>\n",
       "    <tr style=\"text-align: right;\">\n",
       "      <th></th>\n",
       "      <th>date</th>\n",
       "      <th>state</th>\n",
       "      <th>tot_cases</th>\n",
       "      <th>new_case</th>\n",
       "      <th>tot_death</th>\n",
       "      <th>new_death</th>\n",
       "    </tr>\n",
       "  </thead>\n",
       "  <tbody>\n",
       "    <tr>\n",
       "      <th>5</th>\n",
       "      <td>2020-06-10</td>\n",
       "      <td>VT</td>\n",
       "      <td>1009</td>\n",
       "      <td>10</td>\n",
       "      <td>54</td>\n",
       "      <td>0</td>\n",
       "    </tr>\n",
       "    <tr>\n",
       "      <th>6</th>\n",
       "      <td>2020-04-28</td>\n",
       "      <td>MI</td>\n",
       "      <td>51401</td>\n",
       "      <td>1218</td>\n",
       "      <td>4310</td>\n",
       "      <td>105</td>\n",
       "    </tr>\n",
       "    <tr>\n",
       "      <th>7</th>\n",
       "      <td>2020-05-03</td>\n",
       "      <td>NH</td>\n",
       "      <td>2518</td>\n",
       "      <td>89</td>\n",
       "      <td>86</td>\n",
       "      <td>2</td>\n",
       "    </tr>\n",
       "    <tr>\n",
       "      <th>8</th>\n",
       "      <td>2020-07-31</td>\n",
       "      <td>ND</td>\n",
       "      <td>6602</td>\n",
       "      <td>133</td>\n",
       "      <td>103</td>\n",
       "      <td>0</td>\n",
       "    </tr>\n",
       "    <tr>\n",
       "      <th>10</th>\n",
       "      <td>2020-09-24</td>\n",
       "      <td>AL</td>\n",
       "      <td>148606</td>\n",
       "      <td>2188</td>\n",
       "      <td>3894</td>\n",
       "      <td>13</td>\n",
       "    </tr>\n",
       "  </tbody>\n",
       "</table>\n",
       "</div>"
      ],
      "text/plain": [
       "         date state  tot_cases  new_case  tot_death  new_death\n",
       "5  2020-06-10    VT       1009        10         54          0\n",
       "6  2020-04-28    MI      51401      1218       4310        105\n",
       "7  2020-05-03    NH       2518        89         86          2\n",
       "8  2020-07-31    ND       6602       133        103          0\n",
       "10 2020-09-24    AL     148606      2188       3894         13"
      ]
     },
     "execution_count": 35,
     "metadata": {},
     "output_type": "execute_result"
    }
   ],
   "source": [
    "COVID_cases.head(5)"
   ]
  },
  {
   "cell_type": "code",
   "execution_count": 36,
   "id": "b06f5492",
   "metadata": {},
   "outputs": [],
   "source": [
    "# Merge dataframes\n",
    "COVID_merge = COVID_mask_home.merge(COVID_cases, on = ['date', 'state'])"
   ]
  },
  {
   "cell_type": "code",
   "execution_count": 37,
   "id": "96fda728",
   "metadata": {},
   "outputs": [
    {
     "data": {
      "text/html": [
       "<div>\n",
       "<style scoped>\n",
       "    .dataframe tbody tr th:only-of-type {\n",
       "        vertical-align: middle;\n",
       "    }\n",
       "\n",
       "    .dataframe tbody tr th {\n",
       "        vertical-align: top;\n",
       "    }\n",
       "\n",
       "    .dataframe thead th {\n",
       "        text-align: right;\n",
       "    }\n",
       "</style>\n",
       "<table border=\"1\" class=\"dataframe\">\n",
       "  <thead>\n",
       "    <tr style=\"text-align: right;\">\n",
       "      <th></th>\n",
       "      <th>state</th>\n",
       "      <th>County_Name</th>\n",
       "      <th>FIPS_State</th>\n",
       "      <th>FIPS_County</th>\n",
       "      <th>date</th>\n",
       "      <th>order_code_home</th>\n",
       "      <th>Stay_at_Home_Order_Recommendation</th>\n",
       "      <th>order_code_mask</th>\n",
       "      <th>Face_Masks_Required_in_Public</th>\n",
       "      <th>tot_cases</th>\n",
       "      <th>new_case</th>\n",
       "      <th>tot_death</th>\n",
       "      <th>new_death</th>\n",
       "    </tr>\n",
       "  </thead>\n",
       "  <tbody>\n",
       "    <tr>\n",
       "      <th>0</th>\n",
       "      <td>AL</td>\n",
       "      <td>Autauga County</td>\n",
       "      <td>1</td>\n",
       "      <td>1</td>\n",
       "      <td>2020-04-10</td>\n",
       "      <td>1</td>\n",
       "      <td>Mandatory for all individuals</td>\n",
       "      <td>2</td>\n",
       "      <td>No</td>\n",
       "      <td>3103</td>\n",
       "      <td>158</td>\n",
       "      <td>141</td>\n",
       "      <td>12</td>\n",
       "    </tr>\n",
       "    <tr>\n",
       "      <th>1</th>\n",
       "      <td>AL</td>\n",
       "      <td>Baldwin County</td>\n",
       "      <td>1</td>\n",
       "      <td>3</td>\n",
       "      <td>2020-04-10</td>\n",
       "      <td>1</td>\n",
       "      <td>Mandatory for all individuals</td>\n",
       "      <td>2</td>\n",
       "      <td>No</td>\n",
       "      <td>3103</td>\n",
       "      <td>158</td>\n",
       "      <td>141</td>\n",
       "      <td>12</td>\n",
       "    </tr>\n",
       "    <tr>\n",
       "      <th>2</th>\n",
       "      <td>AL</td>\n",
       "      <td>Barbour County</td>\n",
       "      <td>1</td>\n",
       "      <td>5</td>\n",
       "      <td>2020-04-10</td>\n",
       "      <td>1</td>\n",
       "      <td>Mandatory for all individuals</td>\n",
       "      <td>2</td>\n",
       "      <td>No</td>\n",
       "      <td>3103</td>\n",
       "      <td>158</td>\n",
       "      <td>141</td>\n",
       "      <td>12</td>\n",
       "    </tr>\n",
       "    <tr>\n",
       "      <th>3</th>\n",
       "      <td>AL</td>\n",
       "      <td>Bibb County</td>\n",
       "      <td>1</td>\n",
       "      <td>7</td>\n",
       "      <td>2020-04-10</td>\n",
       "      <td>1</td>\n",
       "      <td>Mandatory for all individuals</td>\n",
       "      <td>2</td>\n",
       "      <td>No</td>\n",
       "      <td>3103</td>\n",
       "      <td>158</td>\n",
       "      <td>141</td>\n",
       "      <td>12</td>\n",
       "    </tr>\n",
       "    <tr>\n",
       "      <th>4</th>\n",
       "      <td>AL</td>\n",
       "      <td>Blount County</td>\n",
       "      <td>1</td>\n",
       "      <td>9</td>\n",
       "      <td>2020-04-10</td>\n",
       "      <td>1</td>\n",
       "      <td>Mandatory for all individuals</td>\n",
       "      <td>2</td>\n",
       "      <td>No</td>\n",
       "      <td>3103</td>\n",
       "      <td>158</td>\n",
       "      <td>141</td>\n",
       "      <td>12</td>\n",
       "    </tr>\n",
       "  </tbody>\n",
       "</table>\n",
       "</div>"
      ],
      "text/plain": [
       "  state     County_Name  FIPS_State  FIPS_County       date  order_code_home  \\\n",
       "0    AL  Autauga County           1            1 2020-04-10                1   \n",
       "1    AL  Baldwin County           1            3 2020-04-10                1   \n",
       "2    AL  Barbour County           1            5 2020-04-10                1   \n",
       "3    AL     Bibb County           1            7 2020-04-10                1   \n",
       "4    AL   Blount County           1            9 2020-04-10                1   \n",
       "\n",
       "  Stay_at_Home_Order_Recommendation  order_code_mask  \\\n",
       "0     Mandatory for all individuals                2   \n",
       "1     Mandatory for all individuals                2   \n",
       "2     Mandatory for all individuals                2   \n",
       "3     Mandatory for all individuals                2   \n",
       "4     Mandatory for all individuals                2   \n",
       "\n",
       "  Face_Masks_Required_in_Public  tot_cases  new_case  tot_death  new_death  \n",
       "0                            No       3103       158        141         12  \n",
       "1                            No       3103       158        141         12  \n",
       "2                            No       3103       158        141         12  \n",
       "3                            No       3103       158        141         12  \n",
       "4                            No       3103       158        141         12  "
      ]
     },
     "execution_count": 37,
     "metadata": {},
     "output_type": "execute_result"
    }
   ],
   "source": [
    "COVID_merge.head(5)"
   ]
  },
  {
   "cell_type": "code",
   "execution_count": 39,
   "id": "41a0b3c4",
   "metadata": {},
   "outputs": [
    {
     "data": {
      "text/plain": [
       "(779216, 13)"
      ]
     },
     "execution_count": 39,
     "metadata": {},
     "output_type": "execute_result"
    }
   ],
   "source": [
    "# Shape of new dataframe\n",
    "COVID_merge.shape"
   ]
  },
  {
   "cell_type": "markdown",
   "id": "ebcfd23e",
   "metadata": {},
   "source": [
    "# Descriptive Statistics"
   ]
  },
  {
   "cell_type": "code",
   "execution_count": 21,
   "id": "7055b741",
   "metadata": {},
   "outputs": [
    {
     "data": {
      "text/html": [
       "<div>\n",
       "<style scoped>\n",
       "    .dataframe tbody tr th:only-of-type {\n",
       "        vertical-align: middle;\n",
       "    }\n",
       "\n",
       "    .dataframe tbody tr th {\n",
       "        vertical-align: top;\n",
       "    }\n",
       "\n",
       "    .dataframe thead th {\n",
       "        text-align: right;\n",
       "    }\n",
       "</style>\n",
       "<table border=\"1\" class=\"dataframe\">\n",
       "  <thead>\n",
       "    <tr style=\"text-align: right;\">\n",
       "      <th></th>\n",
       "      <th>FIPS_State</th>\n",
       "      <th>FIPS_County</th>\n",
       "      <th>order_code_home</th>\n",
       "      <th>order_code_mask</th>\n",
       "      <th>tot_cases</th>\n",
       "      <th>new_case</th>\n",
       "      <th>tot_death</th>\n",
       "      <th>new_death</th>\n",
       "    </tr>\n",
       "  </thead>\n",
       "  <tbody>\n",
       "    <tr>\n",
       "      <th>count</th>\n",
       "      <td>779216.000000</td>\n",
       "      <td>779216.000000</td>\n",
       "      <td>779216.000000</td>\n",
       "      <td>779216.000000</td>\n",
       "      <td>7.792160e+05</td>\n",
       "      <td>779216.000000</td>\n",
       "      <td>779216.000000</td>\n",
       "      <td>779216.000000</td>\n",
       "    </tr>\n",
       "    <tr>\n",
       "      <th>mean</th>\n",
       "      <td>30.280076</td>\n",
       "      <td>103.572884</td>\n",
       "      <td>5.702217</td>\n",
       "      <td>1.524297</td>\n",
       "      <td>1.518014e+05</td>\n",
       "      <td>1769.964116</td>\n",
       "      <td>3574.719507</td>\n",
       "      <td>30.008464</td>\n",
       "    </tr>\n",
       "    <tr>\n",
       "      <th>std</th>\n",
       "      <td>15.141939</td>\n",
       "      <td>107.686988</td>\n",
       "      <td>1.705856</td>\n",
       "      <td>0.499410</td>\n",
       "      <td>2.210232e+05</td>\n",
       "      <td>2616.216266</td>\n",
       "      <td>4664.923479</td>\n",
       "      <td>45.958932</td>\n",
       "    </tr>\n",
       "    <tr>\n",
       "      <th>min</th>\n",
       "      <td>1.000000</td>\n",
       "      <td>1.000000</td>\n",
       "      <td>1.000000</td>\n",
       "      <td>1.000000</td>\n",
       "      <td>2.460000e+02</td>\n",
       "      <td>-3401.000000</td>\n",
       "      <td>0.000000</td>\n",
       "      <td>-349.000000</td>\n",
       "    </tr>\n",
       "    <tr>\n",
       "      <th>25%</th>\n",
       "      <td>18.000000</td>\n",
       "      <td>35.000000</td>\n",
       "      <td>6.000000</td>\n",
       "      <td>1.000000</td>\n",
       "      <td>2.223700e+04</td>\n",
       "      <td>335.000000</td>\n",
       "      <td>540.000000</td>\n",
       "      <td>5.000000</td>\n",
       "    </tr>\n",
       "    <tr>\n",
       "      <th>50%</th>\n",
       "      <td>29.000000</td>\n",
       "      <td>79.000000</td>\n",
       "      <td>6.000000</td>\n",
       "      <td>2.000000</td>\n",
       "      <td>7.232100e+04</td>\n",
       "      <td>861.000000</td>\n",
       "      <td>1813.000000</td>\n",
       "      <td>14.000000</td>\n",
       "    </tr>\n",
       "    <tr>\n",
       "      <th>75%</th>\n",
       "      <td>45.000000</td>\n",
       "      <td>133.000000</td>\n",
       "      <td>7.000000</td>\n",
       "      <td>2.000000</td>\n",
       "      <td>1.797690e+05</td>\n",
       "      <td>1958.000000</td>\n",
       "      <td>4466.000000</td>\n",
       "      <td>34.000000</td>\n",
       "    </tr>\n",
       "    <tr>\n",
       "      <th>max</th>\n",
       "      <td>56.000000</td>\n",
       "      <td>840.000000</td>\n",
       "      <td>7.000000</td>\n",
       "      <td>2.000000</td>\n",
       "      <td>1.551766e+06</td>\n",
       "      <td>35729.000000</td>\n",
       "      <td>26962.000000</td>\n",
       "      <td>678.000000</td>\n",
       "    </tr>\n",
       "  </tbody>\n",
       "</table>\n",
       "</div>"
      ],
      "text/plain": [
       "          FIPS_State    FIPS_County  order_code_home  order_code_mask  \\\n",
       "count  779216.000000  779216.000000    779216.000000    779216.000000   \n",
       "mean       30.280076     103.572884         5.702217         1.524297   \n",
       "std        15.141939     107.686988         1.705856         0.499410   \n",
       "min         1.000000       1.000000         1.000000         1.000000   \n",
       "25%        18.000000      35.000000         6.000000         1.000000   \n",
       "50%        29.000000      79.000000         6.000000         2.000000   \n",
       "75%        45.000000     133.000000         7.000000         2.000000   \n",
       "max        56.000000     840.000000         7.000000         2.000000   \n",
       "\n",
       "          tot_cases       new_case      tot_death      new_death  \n",
       "count  7.792160e+05  779216.000000  779216.000000  779216.000000  \n",
       "mean   1.518014e+05    1769.964116    3574.719507      30.008464  \n",
       "std    2.210232e+05    2616.216266    4664.923479      45.958932  \n",
       "min    2.460000e+02   -3401.000000       0.000000    -349.000000  \n",
       "25%    2.223700e+04     335.000000     540.000000       5.000000  \n",
       "50%    7.232100e+04     861.000000    1813.000000      14.000000  \n",
       "75%    1.797690e+05    1958.000000    4466.000000      34.000000  \n",
       "max    1.551766e+06   35729.000000   26962.000000     678.000000  "
      ]
     },
     "execution_count": 21,
     "metadata": {},
     "output_type": "execute_result"
    }
   ],
   "source": [
    "# Statistics\n",
    "COVID_merge.describe()"
   ]
  },
  {
   "cell_type": "markdown",
   "id": "4a168188",
   "metadata": {},
   "source": [
    "# Download Data Set"
   ]
  },
  {
   "cell_type": "code",
   "execution_count": 40,
   "id": "89e41555",
   "metadata": {},
   "outputs": [],
   "source": [
    "#Download cleaned data\n",
    "COVID_merge.to_pickle(os.path.join(path, 'COVID_final_data.pkl'))"
   ]
  },
  {
   "cell_type": "code",
   "execution_count": null,
   "id": "5b4ff0d2",
   "metadata": {},
   "outputs": [],
   "source": []
  }
 ],
 "metadata": {
  "kernelspec": {
   "display_name": "Python 3 (ipykernel)",
   "language": "python",
   "name": "python3"
  },
  "language_info": {
   "codemirror_mode": {
    "name": "ipython",
    "version": 3
   },
   "file_extension": ".py",
   "mimetype": "text/x-python",
   "name": "python",
   "nbconvert_exporter": "python",
   "pygments_lexer": "ipython3",
   "version": "3.9.7"
  }
 },
 "nbformat": 4,
 "nbformat_minor": 5
}
