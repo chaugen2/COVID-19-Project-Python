{
 "cells": [
  {
   "cell_type": "markdown",
   "id": "11b85d1c",
   "metadata": {},
   "source": [
    "## Import Libraries, Create Folder Path"
   ]
  },
  {
   "cell_type": "code",
   "execution_count": 2,
   "id": "5b5b0125",
   "metadata": {},
   "outputs": [],
   "source": [
    "# Import libraries\n",
    "import pandas as pd\n",
    "import numpy as np\n",
    "import os"
   ]
  },
  {
   "cell_type": "code",
   "execution_count": 3,
   "id": "467117a6",
   "metadata": {},
   "outputs": [],
   "source": [
    "# Create path to folder\n",
    "path = r'/Users/caitlin/iCloud/Caitlin/COVID Data'"
   ]
  },
  {
   "cell_type": "code",
   "execution_count": 4,
   "id": "c63f61d5",
   "metadata": {},
   "outputs": [
    {
     "data": {
      "text/plain": [
       "'/Users/caitlin/iCloud/Caitlin/COVID Data'"
      ]
     },
     "execution_count": 4,
     "metadata": {},
     "output_type": "execute_result"
    }
   ],
   "source": [
    "path"
   ]
  },
  {
   "cell_type": "markdown",
   "id": "4b235b55",
   "metadata": {},
   "source": [
    "## Download Data - Mask Mandates"
   ]
  },
  {
   "cell_type": "code",
   "execution_count": 5,
   "id": "4693893a",
   "metadata": {},
   "outputs": [],
   "source": [
    "# Download mask mandate data\n",
    "COVID_mask_order = pd.read_csv(os.path.join(path, 'COVID_mask_mandates.csv'))"
   ]
  },
  {
   "cell_type": "code",
   "execution_count": 6,
   "id": "3c4b44c9",
   "metadata": {},
   "outputs": [
    {
     "data": {
      "text/plain": [
       "(1593869, 10)"
      ]
     },
     "execution_count": 6,
     "metadata": {},
     "output_type": "execute_result"
    }
   ],
   "source": [
    "# Examine shape\n",
    "COVID_mask_order.shape"
   ]
  },
  {
   "cell_type": "code",
   "execution_count": 7,
   "id": "8e79aac7",
   "metadata": {},
   "outputs": [
    {
     "data": {
      "text/html": [
       "<div>\n",
       "<style scoped>\n",
       "    .dataframe tbody tr th:only-of-type {\n",
       "        vertical-align: middle;\n",
       "    }\n",
       "\n",
       "    .dataframe tbody tr th {\n",
       "        vertical-align: top;\n",
       "    }\n",
       "\n",
       "    .dataframe thead th {\n",
       "        text-align: right;\n",
       "    }\n",
       "</style>\n",
       "<table border=\"1\" class=\"dataframe\">\n",
       "  <thead>\n",
       "    <tr style=\"text-align: right;\">\n",
       "      <th></th>\n",
       "      <th>State_Tribe_Territory</th>\n",
       "      <th>County_Name</th>\n",
       "      <th>FIPS_State</th>\n",
       "      <th>FIPS_County</th>\n",
       "      <th>date</th>\n",
       "      <th>order_code</th>\n",
       "      <th>Face_Masks_Required_in_Public</th>\n",
       "      <th>Source_of_Action</th>\n",
       "      <th>URL</th>\n",
       "      <th>Citation</th>\n",
       "    </tr>\n",
       "  </thead>\n",
       "  <tbody>\n",
       "    <tr>\n",
       "      <th>0</th>\n",
       "      <td>AL</td>\n",
       "      <td>Autauga County</td>\n",
       "      <td>1</td>\n",
       "      <td>1</td>\n",
       "      <td>4/10/2020</td>\n",
       "      <td>2</td>\n",
       "      <td>NaN</td>\n",
       "      <td>NaN</td>\n",
       "      <td>NaN</td>\n",
       "      <td>NaN</td>\n",
       "    </tr>\n",
       "    <tr>\n",
       "      <th>1</th>\n",
       "      <td>AL</td>\n",
       "      <td>Autauga County</td>\n",
       "      <td>1</td>\n",
       "      <td>1</td>\n",
       "      <td>4/11/2020</td>\n",
       "      <td>2</td>\n",
       "      <td>NaN</td>\n",
       "      <td>NaN</td>\n",
       "      <td>NaN</td>\n",
       "      <td>NaN</td>\n",
       "    </tr>\n",
       "    <tr>\n",
       "      <th>2</th>\n",
       "      <td>AL</td>\n",
       "      <td>Autauga County</td>\n",
       "      <td>1</td>\n",
       "      <td>1</td>\n",
       "      <td>4/12/2020</td>\n",
       "      <td>2</td>\n",
       "      <td>NaN</td>\n",
       "      <td>NaN</td>\n",
       "      <td>NaN</td>\n",
       "      <td>NaN</td>\n",
       "    </tr>\n",
       "    <tr>\n",
       "      <th>3</th>\n",
       "      <td>AL</td>\n",
       "      <td>Autauga County</td>\n",
       "      <td>1</td>\n",
       "      <td>1</td>\n",
       "      <td>4/13/2020</td>\n",
       "      <td>2</td>\n",
       "      <td>NaN</td>\n",
       "      <td>NaN</td>\n",
       "      <td>NaN</td>\n",
       "      <td>NaN</td>\n",
       "    </tr>\n",
       "    <tr>\n",
       "      <th>4</th>\n",
       "      <td>AL</td>\n",
       "      <td>Autauga County</td>\n",
       "      <td>1</td>\n",
       "      <td>1</td>\n",
       "      <td>4/14/2020</td>\n",
       "      <td>2</td>\n",
       "      <td>NaN</td>\n",
       "      <td>NaN</td>\n",
       "      <td>NaN</td>\n",
       "      <td>NaN</td>\n",
       "    </tr>\n",
       "  </tbody>\n",
       "</table>\n",
       "</div>"
      ],
      "text/plain": [
       "  State_Tribe_Territory     County_Name  FIPS_State  FIPS_County       date  \\\n",
       "0                    AL  Autauga County           1            1  4/10/2020   \n",
       "1                    AL  Autauga County           1            1  4/11/2020   \n",
       "2                    AL  Autauga County           1            1  4/12/2020   \n",
       "3                    AL  Autauga County           1            1  4/13/2020   \n",
       "4                    AL  Autauga County           1            1  4/14/2020   \n",
       "\n",
       "   order_code Face_Masks_Required_in_Public Source_of_Action  URL Citation  \n",
       "0           2                           NaN              NaN  NaN      NaN  \n",
       "1           2                           NaN              NaN  NaN      NaN  \n",
       "2           2                           NaN              NaN  NaN      NaN  \n",
       "3           2                           NaN              NaN  NaN      NaN  \n",
       "4           2                           NaN              NaN  NaN      NaN  "
      ]
     },
     "execution_count": 7,
     "metadata": {},
     "output_type": "execute_result"
    }
   ],
   "source": [
    "# Examine columns for mask mandate data\n",
    "COVID_mask_order.head()"
   ]
  },
  {
   "cell_type": "markdown",
   "id": "ec7f9b0b",
   "metadata": {},
   "source": [
    "## Consistency Checks and Cleaning - Mask Mandates"
   ]
  },
  {
   "cell_type": "code",
   "execution_count": 8,
   "id": "86fd25c5",
   "metadata": {},
   "outputs": [
    {
     "name": "stdout",
     "output_type": "stream",
     "text": [
      "<class 'pandas.core.frame.DataFrame'>\n",
      "RangeIndex: 1593869 entries, 0 to 1593868\n",
      "Data columns (total 10 columns):\n",
      " #   Column                         Non-Null Count    Dtype \n",
      "---  ------                         --------------    ----- \n",
      " 0   State_Tribe_Territory          1593869 non-null  object\n",
      " 1   County_Name                    1593869 non-null  object\n",
      " 2   FIPS_State                     1593869 non-null  int64 \n",
      " 3   FIPS_County                    1593869 non-null  int64 \n",
      " 4   date                           1593869 non-null  object\n",
      " 5   order_code                     1593869 non-null  int64 \n",
      " 6   Face_Masks_Required_in_Public  987555 non-null   object\n",
      " 7   Source_of_Action               987555 non-null   object\n",
      " 8   URL                            942295 non-null   object\n",
      " 9   Citation                       977273 non-null   object\n",
      "dtypes: int64(3), object(7)\n",
      "memory usage: 121.6+ MB\n"
     ]
    }
   ],
   "source": [
    "# Check info\n",
    "COVID_mask_order.info()"
   ]
  },
  {
   "cell_type": "markdown",
   "id": "c1ecfee5",
   "metadata": {},
   "source": [
    "## Drop Columns"
   ]
  },
  {
   "cell_type": "code",
   "execution_count": 9,
   "id": "c28a8247",
   "metadata": {},
   "outputs": [],
   "source": [
    "# Drop unnecessary columns\n",
    "## The source of the data is not important - the focus is on the actual close orders.\n",
    "COVID_mask_order_2 = COVID_mask_order.drop(columns = ['Source_of_Action','URL','Citation'],)"
   ]
  },
  {
   "cell_type": "code",
   "execution_count": 10,
   "id": "bb21625a",
   "metadata": {},
   "outputs": [
    {
     "data": {
      "text/html": [
       "<div>\n",
       "<style scoped>\n",
       "    .dataframe tbody tr th:only-of-type {\n",
       "        vertical-align: middle;\n",
       "    }\n",
       "\n",
       "    .dataframe tbody tr th {\n",
       "        vertical-align: top;\n",
       "    }\n",
       "\n",
       "    .dataframe thead th {\n",
       "        text-align: right;\n",
       "    }\n",
       "</style>\n",
       "<table border=\"1\" class=\"dataframe\">\n",
       "  <thead>\n",
       "    <tr style=\"text-align: right;\">\n",
       "      <th></th>\n",
       "      <th>State_Tribe_Territory</th>\n",
       "      <th>County_Name</th>\n",
       "      <th>FIPS_State</th>\n",
       "      <th>FIPS_County</th>\n",
       "      <th>date</th>\n",
       "      <th>order_code</th>\n",
       "      <th>Face_Masks_Required_in_Public</th>\n",
       "    </tr>\n",
       "  </thead>\n",
       "  <tbody>\n",
       "    <tr>\n",
       "      <th>0</th>\n",
       "      <td>AL</td>\n",
       "      <td>Autauga County</td>\n",
       "      <td>1</td>\n",
       "      <td>1</td>\n",
       "      <td>4/10/2020</td>\n",
       "      <td>2</td>\n",
       "      <td>NaN</td>\n",
       "    </tr>\n",
       "    <tr>\n",
       "      <th>1</th>\n",
       "      <td>AL</td>\n",
       "      <td>Autauga County</td>\n",
       "      <td>1</td>\n",
       "      <td>1</td>\n",
       "      <td>4/11/2020</td>\n",
       "      <td>2</td>\n",
       "      <td>NaN</td>\n",
       "    </tr>\n",
       "    <tr>\n",
       "      <th>2</th>\n",
       "      <td>AL</td>\n",
       "      <td>Autauga County</td>\n",
       "      <td>1</td>\n",
       "      <td>1</td>\n",
       "      <td>4/12/2020</td>\n",
       "      <td>2</td>\n",
       "      <td>NaN</td>\n",
       "    </tr>\n",
       "    <tr>\n",
       "      <th>3</th>\n",
       "      <td>AL</td>\n",
       "      <td>Autauga County</td>\n",
       "      <td>1</td>\n",
       "      <td>1</td>\n",
       "      <td>4/13/2020</td>\n",
       "      <td>2</td>\n",
       "      <td>NaN</td>\n",
       "    </tr>\n",
       "    <tr>\n",
       "      <th>4</th>\n",
       "      <td>AL</td>\n",
       "      <td>Autauga County</td>\n",
       "      <td>1</td>\n",
       "      <td>1</td>\n",
       "      <td>4/14/2020</td>\n",
       "      <td>2</td>\n",
       "      <td>NaN</td>\n",
       "    </tr>\n",
       "  </tbody>\n",
       "</table>\n",
       "</div>"
      ],
      "text/plain": [
       "  State_Tribe_Territory     County_Name  FIPS_State  FIPS_County       date  \\\n",
       "0                    AL  Autauga County           1            1  4/10/2020   \n",
       "1                    AL  Autauga County           1            1  4/11/2020   \n",
       "2                    AL  Autauga County           1            1  4/12/2020   \n",
       "3                    AL  Autauga County           1            1  4/13/2020   \n",
       "4                    AL  Autauga County           1            1  4/14/2020   \n",
       "\n",
       "   order_code Face_Masks_Required_in_Public  \n",
       "0           2                           NaN  \n",
       "1           2                           NaN  \n",
       "2           2                           NaN  \n",
       "3           2                           NaN  \n",
       "4           2                           NaN  "
      ]
     },
     "execution_count": 10,
     "metadata": {},
     "output_type": "execute_result"
    }
   ],
   "source": [
    "# Check column drop\n",
    "COVID_mask_order_2.head()"
   ]
  },
  {
   "cell_type": "markdown",
   "id": "121aeca6",
   "metadata": {},
   "source": [
    "## Find Duplicates"
   ]
  },
  {
   "cell_type": "code",
   "execution_count": 11,
   "id": "0c4273ed",
   "metadata": {},
   "outputs": [],
   "source": [
    "# Find mask mandate duplicates\n",
    "COVID_mask_order_dups = COVID_mask_order_2[COVID_mask_order_2.duplicated()]"
   ]
  },
  {
   "cell_type": "code",
   "execution_count": 12,
   "id": "7354437f",
   "metadata": {},
   "outputs": [
    {
     "data": {
      "text/html": [
       "<div>\n",
       "<style scoped>\n",
       "    .dataframe tbody tr th:only-of-type {\n",
       "        vertical-align: middle;\n",
       "    }\n",
       "\n",
       "    .dataframe tbody tr th {\n",
       "        vertical-align: top;\n",
       "    }\n",
       "\n",
       "    .dataframe thead th {\n",
       "        text-align: right;\n",
       "    }\n",
       "</style>\n",
       "<table border=\"1\" class=\"dataframe\">\n",
       "  <thead>\n",
       "    <tr style=\"text-align: right;\">\n",
       "      <th></th>\n",
       "      <th>State_Tribe_Territory</th>\n",
       "      <th>County_Name</th>\n",
       "      <th>FIPS_State</th>\n",
       "      <th>FIPS_County</th>\n",
       "      <th>date</th>\n",
       "      <th>order_code</th>\n",
       "      <th>Face_Masks_Required_in_Public</th>\n",
       "    </tr>\n",
       "  </thead>\n",
       "  <tbody>\n",
       "  </tbody>\n",
       "</table>\n",
       "</div>"
      ],
      "text/plain": [
       "Empty DataFrame\n",
       "Columns: [State_Tribe_Territory, County_Name, FIPS_State, FIPS_County, date, order_code, Face_Masks_Required_in_Public]\n",
       "Index: []"
      ]
     },
     "execution_count": 12,
     "metadata": {},
     "output_type": "execute_result"
    }
   ],
   "source": [
    "COVID_mask_order_dups"
   ]
  },
  {
   "cell_type": "code",
   "execution_count": 13,
   "id": "7bc5c6ab",
   "metadata": {},
   "outputs": [
    {
     "data": {
      "text/plain": [
       "(0, 7)"
      ]
     },
     "execution_count": 13,
     "metadata": {},
     "output_type": "execute_result"
    }
   ],
   "source": [
    "COVID_mask_order_dups.shape"
   ]
  },
  {
   "cell_type": "markdown",
   "id": "4dec45e4",
   "metadata": {},
   "source": [
    "No duplicates"
   ]
  },
  {
   "cell_type": "markdown",
   "id": "016428b5",
   "metadata": {},
   "source": [
    "## Change Data Type for Date"
   ]
  },
  {
   "cell_type": "code",
   "execution_count": 14,
   "id": "d39ddada",
   "metadata": {},
   "outputs": [],
   "source": [
    "# Change date column to datetime format so it behaves as a number\n",
    "COVID_mask_order_2['date'] = pd.to_datetime(COVID_mask_order_2['date'])"
   ]
  },
  {
   "cell_type": "code",
   "execution_count": 15,
   "id": "5088f8b0",
   "metadata": {},
   "outputs": [
    {
     "name": "stdout",
     "output_type": "stream",
     "text": [
      "<class 'pandas.core.frame.DataFrame'>\n",
      "RangeIndex: 1593869 entries, 0 to 1593868\n",
      "Data columns (total 7 columns):\n",
      " #   Column                         Non-Null Count    Dtype         \n",
      "---  ------                         --------------    -----         \n",
      " 0   State_Tribe_Territory          1593869 non-null  object        \n",
      " 1   County_Name                    1593869 non-null  object        \n",
      " 2   FIPS_State                     1593869 non-null  int64         \n",
      " 3   FIPS_County                    1593869 non-null  int64         \n",
      " 4   date                           1593869 non-null  datetime64[ns]\n",
      " 5   order_code                     1593869 non-null  int64         \n",
      " 6   Face_Masks_Required_in_Public  987555 non-null   object        \n",
      "dtypes: datetime64[ns](1), int64(3), object(3)\n",
      "memory usage: 85.1+ MB\n"
     ]
    }
   ],
   "source": [
    "COVID_mask_order_2.info()"
   ]
  },
  {
   "cell_type": "markdown",
   "id": "39f463d8",
   "metadata": {},
   "source": [
    "## Eliminate unwanted values"
   ]
  },
  {
   "cell_type": "code",
   "execution_count": 16,
   "id": "40486d0d",
   "metadata": {},
   "outputs": [
    {
     "data": {
      "text/plain": [
       "Timestamp('2021-08-15 00:00:00')"
      ]
     },
     "execution_count": 16,
     "metadata": {},
     "output_type": "execute_result"
    }
   ],
   "source": [
    "# Check min and max values to see which ones to eliminate\n",
    "COVID_mask_order_2['date'].max()"
   ]
  },
  {
   "cell_type": "code",
   "execution_count": 17,
   "id": "7f97c1bd",
   "metadata": {},
   "outputs": [
    {
     "data": {
      "text/plain": [
       "Timestamp('2020-04-10 00:00:00')"
      ]
     },
     "execution_count": 17,
     "metadata": {},
     "output_type": "execute_result"
    }
   ],
   "source": [
    "COVID_mask_order_2['date'].min()"
   ]
  },
  {
   "cell_type": "markdown",
   "id": "9466d480",
   "metadata": {},
   "source": [
    "I am only interested in the time before vaccines (14 Dec) so eliminating other values."
   ]
  },
  {
   "cell_type": "code",
   "execution_count": 18,
   "id": "6e39caf7",
   "metadata": {},
   "outputs": [],
   "source": [
    "# Make subset of desired time values\n",
    "COVID_mask_3 = COVID_mask_order_2[(COVID_mask_order_2['date'] < '2020-12-14')]"
   ]
  },
  {
   "cell_type": "code",
   "execution_count": 19,
   "id": "1d063d13",
   "metadata": {
    "scrolled": true
   },
   "outputs": [
    {
     "data": {
      "text/plain": [
       "Timestamp('2020-12-13 00:00:00')"
      ]
     },
     "execution_count": 19,
     "metadata": {},
     "output_type": "execute_result"
    }
   ],
   "source": [
    "COVID_mask_3['date'].max()"
   ]
  },
  {
   "cell_type": "code",
   "execution_count": 20,
   "id": "3cb0eedc",
   "metadata": {},
   "outputs": [
    {
     "data": {
      "text/plain": [
       "FIPS_State  State_Tribe_Territory\n",
       "1           AL                       16616\n",
       "2           AK                        7192\n",
       "4           AZ                        3720\n",
       "5           AR                       18600\n",
       "6           CA                       14384\n",
       "8           CO                       15872\n",
       "9           CT                        1984\n",
       "10          DE                         744\n",
       "11          DC                         248\n",
       "12          FL                       16616\n",
       "13          GA                       39432\n",
       "15          HI                        1240\n",
       "16          ID                       10912\n",
       "17          IL                       25296\n",
       "18          IN                       22816\n",
       "19          IA                       24552\n",
       "20          KS                       26040\n",
       "21          KY                       29760\n",
       "22          LA                       15872\n",
       "23          ME                        3968\n",
       "24          MD                        5952\n",
       "25          MA                        3472\n",
       "26          MI                       20584\n",
       "27          MN                       21576\n",
       "28          MS                       20336\n",
       "29          MO                       28520\n",
       "30          MT                       13888\n",
       "31          NE                       23064\n",
       "32          NV                        4216\n",
       "33          NH                        2480\n",
       "34          NJ                        5208\n",
       "35          NM                        8184\n",
       "36          NY                       15376\n",
       "37          NC                       24800\n",
       "38          ND                       13144\n",
       "39          OH                       21824\n",
       "40          OK                       19096\n",
       "41          OR                        8928\n",
       "42          PA                       16616\n",
       "44          RI                        1240\n",
       "45          SC                       11408\n",
       "46          SD                       16368\n",
       "47          TN                       23560\n",
       "48          TX                       62992\n",
       "49          UT                        7192\n",
       "50          VT                        3472\n",
       "51          VA                       32984\n",
       "53          WA                        9672\n",
       "54          WV                       13640\n",
       "55          WI                       17856\n",
       "56          WY                        5704\n",
       "60          AS                        1240\n",
       "66          GU                         248\n",
       "69          MP                         992\n",
       "72          PR                       19344\n",
       "78          VI                         744\n",
       "Name: State_Tribe_Territory, dtype: int64"
      ]
     },
     "execution_count": 20,
     "metadata": {},
     "output_type": "execute_result"
    }
   ],
   "source": [
    "# Group by to index state names by FIPS code\n",
    "COVID_mask_3.groupby(['FIPS_State'])['State_Tribe_Territory'].value_counts()"
   ]
  },
  {
   "cell_type": "code",
   "execution_count": 21,
   "id": "b2444cb3",
   "metadata": {},
   "outputs": [],
   "source": [
    "# Remove all but 50 states and DC\n",
    "COVID_mask_4 = COVID_mask_3[(COVID_mask_3.FIPS_State != 78) \n",
    "                            & (COVID_mask_3.FIPS_State != 72) \n",
    "                            & (COVID_mask_3.FIPS_State != 69)\n",
    "                            & (COVID_mask_3.FIPS_State != 66)\n",
    "                            & (COVID_mask_3.FIPS_State != 60)]"
   ]
  },
  {
   "cell_type": "code",
   "execution_count": 22,
   "id": "38f6f4d9",
   "metadata": {},
   "outputs": [
    {
     "data": {
      "text/plain": [
       "FIPS_State  State_Tribe_Territory\n",
       "1           AL                       16616\n",
       "2           AK                        7192\n",
       "4           AZ                        3720\n",
       "5           AR                       18600\n",
       "6           CA                       14384\n",
       "8           CO                       15872\n",
       "9           CT                        1984\n",
       "10          DE                         744\n",
       "11          DC                         248\n",
       "12          FL                       16616\n",
       "13          GA                       39432\n",
       "15          HI                        1240\n",
       "16          ID                       10912\n",
       "17          IL                       25296\n",
       "18          IN                       22816\n",
       "19          IA                       24552\n",
       "20          KS                       26040\n",
       "21          KY                       29760\n",
       "22          LA                       15872\n",
       "23          ME                        3968\n",
       "24          MD                        5952\n",
       "25          MA                        3472\n",
       "26          MI                       20584\n",
       "27          MN                       21576\n",
       "28          MS                       20336\n",
       "29          MO                       28520\n",
       "30          MT                       13888\n",
       "31          NE                       23064\n",
       "32          NV                        4216\n",
       "33          NH                        2480\n",
       "34          NJ                        5208\n",
       "35          NM                        8184\n",
       "36          NY                       15376\n",
       "37          NC                       24800\n",
       "38          ND                       13144\n",
       "39          OH                       21824\n",
       "40          OK                       19096\n",
       "41          OR                        8928\n",
       "42          PA                       16616\n",
       "44          RI                        1240\n",
       "45          SC                       11408\n",
       "46          SD                       16368\n",
       "47          TN                       23560\n",
       "48          TX                       62992\n",
       "49          UT                        7192\n",
       "50          VT                        3472\n",
       "51          VA                       32984\n",
       "53          WA                        9672\n",
       "54          WV                       13640\n",
       "55          WI                       17856\n",
       "56          WY                        5704\n",
       "Name: State_Tribe_Territory, dtype: int64"
      ]
     },
     "execution_count": 22,
     "metadata": {},
     "output_type": "execute_result"
    }
   ],
   "source": [
    "# Index by group by to confirm drop\n",
    "COVID_mask_4.groupby(['FIPS_State'])['State_Tribe_Territory'].value_counts()"
   ]
  },
  {
   "cell_type": "code",
   "execution_count": 23,
   "id": "cfa4e62d",
   "metadata": {},
   "outputs": [
    {
     "data": {
      "text/plain": [
       "(779216, 7)"
      ]
     },
     "execution_count": 23,
     "metadata": {},
     "output_type": "execute_result"
    }
   ],
   "source": [
    "COVID_mask_4.shape"
   ]
  },
  {
   "cell_type": "markdown",
   "id": "24f1efd4",
   "metadata": {},
   "source": [
    "## Change data type to reduce memory"
   ]
  },
  {
   "cell_type": "code",
   "execution_count": 24,
   "id": "26706b53",
   "metadata": {},
   "outputs": [
    {
     "name": "stderr",
     "output_type": "stream",
     "text": [
      "/var/folders/w8/gy54n1g94d31tmr9tf_tq_ym0000gn/T/ipykernel_11630/2219018065.py:2: SettingWithCopyWarning: \n",
      "A value is trying to be set on a copy of a slice from a DataFrame.\n",
      "Try using .loc[row_indexer,col_indexer] = value instead\n",
      "\n",
      "See the caveats in the documentation: https://pandas.pydata.org/pandas-docs/stable/user_guide/indexing.html#returning-a-view-versus-a-copy\n",
      "  COVID_mask_4['order_code'] = COVID_mask_4['order_code'].astype('int8')\n"
     ]
    }
   ],
   "source": [
    "# Change int values to lower int values to save memory - order code only has 2 values so int8\n",
    "COVID_mask_4['order_code'] = COVID_mask_4['order_code'].astype('int8')"
   ]
  },
  {
   "cell_type": "code",
   "execution_count": 25,
   "id": "a5db91d1",
   "metadata": {},
   "outputs": [
    {
     "name": "stderr",
     "output_type": "stream",
     "text": [
      "/var/folders/w8/gy54n1g94d31tmr9tf_tq_ym0000gn/T/ipykernel_11630/2178687151.py:2: SettingWithCopyWarning: \n",
      "A value is trying to be set on a copy of a slice from a DataFrame.\n",
      "Try using .loc[row_indexer,col_indexer] = value instead\n",
      "\n",
      "See the caveats in the documentation: https://pandas.pydata.org/pandas-docs/stable/user_guide/indexing.html#returning-a-view-versus-a-copy\n",
      "  COVID_mask_4['FIPS_State'] = COVID_mask_4['FIPS_State'].astype('int8')\n"
     ]
    }
   ],
   "source": [
    "# Change int values to lower int values to save memory - FIPS only has ~50 values so int8\n",
    "COVID_mask_4['FIPS_State'] = COVID_mask_4['FIPS_State'].astype('int8')"
   ]
  },
  {
   "cell_type": "code",
   "execution_count": 26,
   "id": "3db8af03",
   "metadata": {},
   "outputs": [
    {
     "data": {
      "text/plain": [
       "840"
      ]
     },
     "execution_count": 26,
     "metadata": {},
     "output_type": "execute_result"
    }
   ],
   "source": [
    "#Check max value for county for int change\n",
    "COVID_mask_4['FIPS_County'].max()"
   ]
  },
  {
   "cell_type": "code",
   "execution_count": 27,
   "id": "a3a5ca6a",
   "metadata": {},
   "outputs": [
    {
     "name": "stderr",
     "output_type": "stream",
     "text": [
      "/var/folders/w8/gy54n1g94d31tmr9tf_tq_ym0000gn/T/ipykernel_11630/2134460952.py:2: SettingWithCopyWarning: \n",
      "A value is trying to be set on a copy of a slice from a DataFrame.\n",
      "Try using .loc[row_indexer,col_indexer] = value instead\n",
      "\n",
      "See the caveats in the documentation: https://pandas.pydata.org/pandas-docs/stable/user_guide/indexing.html#returning-a-view-versus-a-copy\n",
      "  COVID_mask_4['FIPS_County'] = COVID_mask_4['FIPS_County'].astype('int16')\n"
     ]
    }
   ],
   "source": [
    "# Change FIPS county to int 16 because that has max value over 30,000\n",
    "COVID_mask_4['FIPS_County'] = COVID_mask_4['FIPS_County'].astype('int16')"
   ]
  },
  {
   "cell_type": "code",
   "execution_count": 28,
   "id": "76ecf7d2",
   "metadata": {},
   "outputs": [
    {
     "name": "stdout",
     "output_type": "stream",
     "text": [
      "<class 'pandas.core.frame.DataFrame'>\n",
      "Int64Index: 779216 entries, 0 to 835753\n",
      "Data columns (total 7 columns):\n",
      " #   Column                         Non-Null Count   Dtype         \n",
      "---  ------                         --------------   -----         \n",
      " 0   State_Tribe_Territory          779216 non-null  object        \n",
      " 1   County_Name                    779216 non-null  object        \n",
      " 2   FIPS_State                     779216 non-null  int8          \n",
      " 3   FIPS_County                    779216 non-null  int16         \n",
      " 4   date                           779216 non-null  datetime64[ns]\n",
      " 5   order_code                     779216 non-null  int8          \n",
      " 6   Face_Masks_Required_in_Public  377210 non-null  object        \n",
      "dtypes: datetime64[ns](1), int16(1), int8(2), object(3)\n",
      "memory usage: 32.7+ MB\n"
     ]
    }
   ],
   "source": [
    "# Check final changes - significantly reduced memory\n",
    "COVID_mask_4.info()"
   ]
  },
  {
   "cell_type": "markdown",
   "id": "30d61278",
   "metadata": {},
   "source": [
    "## Check for missing values"
   ]
  },
  {
   "cell_type": "code",
   "execution_count": 29,
   "id": "c2478ac9",
   "metadata": {},
   "outputs": [
    {
     "data": {
      "text/plain": [
       "State_Tribe_Territory                 0\n",
       "County_Name                           0\n",
       "FIPS_State                            0\n",
       "FIPS_County                           0\n",
       "date                                  0\n",
       "order_code                            0\n",
       "Face_Masks_Required_in_Public    402006\n",
       "dtype: int64"
      ]
     },
     "execution_count": 29,
     "metadata": {},
     "output_type": "execute_result"
    }
   ],
   "source": [
    "# Check for missing values in mask mandate dataframe\n",
    "COVID_mask_4.isnull().sum()"
   ]
  },
  {
   "cell_type": "code",
   "execution_count": 30,
   "id": "5834a230",
   "metadata": {},
   "outputs": [
    {
     "data": {
      "text/plain": [
       "NaN    402006\n",
       "Yes    370675\n",
       "No       6535\n",
       "Name: Face_Masks_Required_in_Public, dtype: int64"
      ]
     },
     "execution_count": 30,
     "metadata": {},
     "output_type": "execute_result"
    }
   ],
   "source": [
    "# Value counts to check source of NaNs\n",
    "COVID_mask_4['Face_Masks_Required_in_Public'].value_counts(dropna=False)"
   ]
  },
  {
   "cell_type": "code",
   "execution_count": 31,
   "id": "54ce6356",
   "metadata": {},
   "outputs": [
    {
     "data": {
      "text/plain": [
       "2    408541\n",
       "1    370675\n",
       "Name: order_code, dtype: int64"
      ]
     },
     "execution_count": 31,
     "metadata": {},
     "output_type": "execute_result"
    }
   ],
   "source": [
    "# Value counts to check source of NaNs\n",
    "COVID_mask_4['order_code'].value_counts(dropna=False)"
   ]
  },
  {
   "cell_type": "code",
   "execution_count": 32,
   "id": "5cb6b717",
   "metadata": {},
   "outputs": [],
   "source": [
    "# Create dataframe for NaNs - masks\n",
    "COVID_mask_nan = COVID_mask_4[COVID_mask_4['Face_Masks_Required_in_Public'].isnull() == True]"
   ]
  },
  {
   "cell_type": "code",
   "execution_count": 33,
   "id": "c597c3f4",
   "metadata": {},
   "outputs": [
    {
     "data": {
      "text/plain": [
       "2    402006\n",
       "Name: order_code, dtype: int64"
      ]
     },
     "execution_count": 33,
     "metadata": {},
     "output_type": "execute_result"
    }
   ],
   "source": [
    "COVID_mask_nan['order_code'].value_counts(dropna=False)"
   ]
  },
  {
   "cell_type": "markdown",
   "id": "ca19f2f3",
   "metadata": {},
   "source": [
    "All of the NaN values in the mask mandate database have the same code - 2 - which is \" both in retail businesses and in restaurants/food establishments\" defined by the CDC. Since the 2s are equal to the NaN and NO, I am going to change the NaNs to reflect those values."
   ]
  },
  {
   "cell_type": "code",
   "execution_count": 34,
   "id": "7aee97f0",
   "metadata": {},
   "outputs": [
    {
     "name": "stderr",
     "output_type": "stream",
     "text": [
      "/var/folders/w8/gy54n1g94d31tmr9tf_tq_ym0000gn/T/ipykernel_11630/2750300060.py:2: SettingWithCopyWarning: \n",
      "A value is trying to be set on a copy of a slice from a DataFrame.\n",
      "Try using .loc[row_indexer,col_indexer] = value instead\n",
      "\n",
      "See the caveats in the documentation: https://pandas.pydata.org/pandas-docs/stable/user_guide/indexing.html#returning-a-view-versus-a-copy\n",
      "  COVID_mask_4['Face_Masks_Required_in_Public'] = COVID_mask_4['Face_Masks_Required_in_Public'].fillna('No')\n"
     ]
    }
   ],
   "source": [
    "# Change NaN to No\n",
    "COVID_mask_4['Face_Masks_Required_in_Public'] = COVID_mask_4['Face_Masks_Required_in_Public'].fillna('No')"
   ]
  },
  {
   "cell_type": "code",
   "execution_count": 35,
   "id": "ca572603",
   "metadata": {},
   "outputs": [
    {
     "data": {
      "text/plain": [
       "No     408541\n",
       "Yes    370675\n",
       "Name: Face_Masks_Required_in_Public, dtype: int64"
      ]
     },
     "execution_count": 35,
     "metadata": {},
     "output_type": "execute_result"
    }
   ],
   "source": [
    "# Value counts to check source of NaNs\n",
    "COVID_mask_4['Face_Masks_Required_in_Public'].value_counts(dropna=False)"
   ]
  },
  {
   "cell_type": "markdown",
   "id": "baf61d27",
   "metadata": {},
   "source": [
    "## Rename columns for later merge"
   ]
  },
  {
   "cell_type": "code",
   "execution_count": 46,
   "id": "cb80bea3",
   "metadata": {},
   "outputs": [
    {
     "name": "stderr",
     "output_type": "stream",
     "text": [
      "/Users/caitlin/opt/anaconda3/lib/python3.9/site-packages/pandas/core/frame.py:5039: SettingWithCopyWarning: \n",
      "A value is trying to be set on a copy of a slice from a DataFrame\n",
      "\n",
      "See the caveats in the documentation: https://pandas.pydata.org/pandas-docs/stable/user_guide/indexing.html#returning-a-view-versus-a-copy\n",
      "  return super().rename(\n"
     ]
    }
   ],
   "source": [
    "# Changing column names\n",
    "COVID_mask_4.rename(columns = {'State_Tribe_Territory' : 'state'}, inplace = True)"
   ]
  },
  {
   "cell_type": "code",
   "execution_count": 49,
   "id": "957cbbee",
   "metadata": {},
   "outputs": [
    {
     "name": "stderr",
     "output_type": "stream",
     "text": [
      "/Users/caitlin/opt/anaconda3/lib/python3.9/site-packages/pandas/core/frame.py:5039: SettingWithCopyWarning: \n",
      "A value is trying to be set on a copy of a slice from a DataFrame\n",
      "\n",
      "See the caveats in the documentation: https://pandas.pydata.org/pandas-docs/stable/user_guide/indexing.html#returning-a-view-versus-a-copy\n",
      "  return super().rename(\n"
     ]
    }
   ],
   "source": [
    "COVID_mask_4.rename(columns = {'order_code' : 'order_code_mask'}, inplace = True)"
   ]
  },
  {
   "cell_type": "code",
   "execution_count": 50,
   "id": "90393ce1",
   "metadata": {},
   "outputs": [
    {
     "data": {
      "text/html": [
       "<div>\n",
       "<style scoped>\n",
       "    .dataframe tbody tr th:only-of-type {\n",
       "        vertical-align: middle;\n",
       "    }\n",
       "\n",
       "    .dataframe tbody tr th {\n",
       "        vertical-align: top;\n",
       "    }\n",
       "\n",
       "    .dataframe thead th {\n",
       "        text-align: right;\n",
       "    }\n",
       "</style>\n",
       "<table border=\"1\" class=\"dataframe\">\n",
       "  <thead>\n",
       "    <tr style=\"text-align: right;\">\n",
       "      <th></th>\n",
       "      <th>state</th>\n",
       "      <th>County_Name</th>\n",
       "      <th>FIPS_State</th>\n",
       "      <th>FIPS_County</th>\n",
       "      <th>date</th>\n",
       "      <th>order_code_mask</th>\n",
       "      <th>Face_Masks_Required_in_Public</th>\n",
       "    </tr>\n",
       "  </thead>\n",
       "  <tbody>\n",
       "    <tr>\n",
       "      <th>0</th>\n",
       "      <td>AL</td>\n",
       "      <td>Autauga County</td>\n",
       "      <td>1</td>\n",
       "      <td>1</td>\n",
       "      <td>2020-04-10</td>\n",
       "      <td>2</td>\n",
       "      <td>No</td>\n",
       "    </tr>\n",
       "    <tr>\n",
       "      <th>1</th>\n",
       "      <td>AL</td>\n",
       "      <td>Autauga County</td>\n",
       "      <td>1</td>\n",
       "      <td>1</td>\n",
       "      <td>2020-04-11</td>\n",
       "      <td>2</td>\n",
       "      <td>No</td>\n",
       "    </tr>\n",
       "    <tr>\n",
       "      <th>2</th>\n",
       "      <td>AL</td>\n",
       "      <td>Autauga County</td>\n",
       "      <td>1</td>\n",
       "      <td>1</td>\n",
       "      <td>2020-04-12</td>\n",
       "      <td>2</td>\n",
       "      <td>No</td>\n",
       "    </tr>\n",
       "    <tr>\n",
       "      <th>3</th>\n",
       "      <td>AL</td>\n",
       "      <td>Autauga County</td>\n",
       "      <td>1</td>\n",
       "      <td>1</td>\n",
       "      <td>2020-04-13</td>\n",
       "      <td>2</td>\n",
       "      <td>No</td>\n",
       "    </tr>\n",
       "    <tr>\n",
       "      <th>4</th>\n",
       "      <td>AL</td>\n",
       "      <td>Autauga County</td>\n",
       "      <td>1</td>\n",
       "      <td>1</td>\n",
       "      <td>2020-04-14</td>\n",
       "      <td>2</td>\n",
       "      <td>No</td>\n",
       "    </tr>\n",
       "  </tbody>\n",
       "</table>\n",
       "</div>"
      ],
      "text/plain": [
       "  state     County_Name  FIPS_State  FIPS_County       date  order_code_mask  \\\n",
       "0    AL  Autauga County           1            1 2020-04-10                2   \n",
       "1    AL  Autauga County           1            1 2020-04-11                2   \n",
       "2    AL  Autauga County           1            1 2020-04-12                2   \n",
       "3    AL  Autauga County           1            1 2020-04-13                2   \n",
       "4    AL  Autauga County           1            1 2020-04-14                2   \n",
       "\n",
       "  Face_Masks_Required_in_Public  \n",
       "0                            No  \n",
       "1                            No  \n",
       "2                            No  \n",
       "3                            No  \n",
       "4                            No  "
      ]
     },
     "execution_count": 50,
     "metadata": {},
     "output_type": "execute_result"
    }
   ],
   "source": [
    "COVID_mask_4.head()"
   ]
  },
  {
   "cell_type": "markdown",
   "id": "c916b6e3",
   "metadata": {},
   "source": [
    "# Download dataset"
   ]
  },
  {
   "cell_type": "code",
   "execution_count": 51,
   "id": "9a2a717f",
   "metadata": {},
   "outputs": [],
   "source": [
    "#Download mask data\n",
    "COVID_mask_4.to_pickle(os.path.join(path, 'COVID_mask_clean.pkl'))"
   ]
  },
  {
   "cell_type": "code",
   "execution_count": null,
   "id": "4950566b",
   "metadata": {},
   "outputs": [],
   "source": []
  }
 ],
 "metadata": {
  "kernelspec": {
   "display_name": "Python 3 (ipykernel)",
   "language": "python",
   "name": "python3"
  },
  "language_info": {
   "codemirror_mode": {
    "name": "ipython",
    "version": 3
   },
   "file_extension": ".py",
   "mimetype": "text/x-python",
   "name": "python",
   "nbconvert_exporter": "python",
   "pygments_lexer": "ipython3",
   "version": "3.9.7"
  }
 },
 "nbformat": 4,
 "nbformat_minor": 5
}
