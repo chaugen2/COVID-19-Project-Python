{
 "cells": [
  {
   "cell_type": "markdown",
   "id": "b175ac36",
   "metadata": {},
   "source": [
    "# Import Data and Libraries"
   ]
  },
  {
   "cell_type": "code",
   "execution_count": 1,
   "id": "fe948cd0",
   "metadata": {},
   "outputs": [],
   "source": [
    "# Import libraries\n",
    "import pandas as pd\n",
    "import numpy as np\n",
    "import os"
   ]
  },
  {
   "cell_type": "code",
   "execution_count": 2,
   "id": "b266ea1c",
   "metadata": {},
   "outputs": [],
   "source": [
    "# Create path to folder\n",
    "path = r'/Users/caitlin/iCloud/Caitlin/COVID Data'"
   ]
  },
  {
   "cell_type": "code",
   "execution_count": 3,
   "id": "70d21aef",
   "metadata": {},
   "outputs": [
    {
     "data": {
      "text/plain": [
       "'/Users/caitlin/iCloud/Caitlin/COVID Data'"
      ]
     },
     "execution_count": 3,
     "metadata": {},
     "output_type": "execute_result"
    }
   ],
   "source": [
    "path"
   ]
  },
  {
   "cell_type": "markdown",
   "id": "aa329909",
   "metadata": {},
   "source": [
    "# Upload Data - COVID Cases and Deaths"
   ]
  },
  {
   "cell_type": "code",
   "execution_count": 6,
   "id": "b8eaa692",
   "metadata": {},
   "outputs": [],
   "source": [
    "# Import data file\n",
    "COVID_cases = pd.read_csv(os.path.join(path, 'COVID_cases_deaths.csv'), index_col = False)"
   ]
  },
  {
   "cell_type": "code",
   "execution_count": 7,
   "id": "3aa08f1b",
   "metadata": {},
   "outputs": [],
   "source": [
    "# Show all columns\n",
    "pd.options.display.max_columns = None"
   ]
  },
  {
   "cell_type": "code",
   "execution_count": 8,
   "id": "dacfcb66",
   "metadata": {},
   "outputs": [
    {
     "data": {
      "text/plain": [
       "(47100, 15)"
      ]
     },
     "execution_count": 8,
     "metadata": {},
     "output_type": "execute_result"
    }
   ],
   "source": [
    "# Examine shape\n",
    "COVID_cases.shape"
   ]
  },
  {
   "cell_type": "code",
   "execution_count": 9,
   "id": "837794dd",
   "metadata": {},
   "outputs": [
    {
     "name": "stdout",
     "output_type": "stream",
     "text": [
      "<class 'pandas.core.frame.DataFrame'>\n",
      "RangeIndex: 47100 entries, 0 to 47099\n",
      "Data columns (total 15 columns):\n",
      " #   Column           Non-Null Count  Dtype  \n",
      "---  ------           --------------  -----  \n",
      " 0   submission_date  47100 non-null  object \n",
      " 1   state            47100 non-null  object \n",
      " 2   tot_cases        47100 non-null  int64  \n",
      " 3   conf_cases       25784 non-null  float64\n",
      " 4   prob_cases       25712 non-null  float64\n",
      " 5   new_case         47100 non-null  int64  \n",
      " 6   pnew_case        43316 non-null  float64\n",
      " 7   tot_death        47100 non-null  int64  \n",
      " 8   conf_death       25408 non-null  float64\n",
      " 9   prob_death       25408 non-null  float64\n",
      " 10  new_death        47100 non-null  int64  \n",
      " 11  pnew_death       43301 non-null  float64\n",
      " 12  created_at       47100 non-null  object \n",
      " 13  consent_cases    39245 non-null  object \n",
      " 14  consent_deaths   40035 non-null  object \n",
      "dtypes: float64(6), int64(4), object(5)\n",
      "memory usage: 5.4+ MB\n"
     ]
    }
   ],
   "source": [
    "# Check info\n",
    "COVID_cases.info()"
   ]
  },
  {
   "cell_type": "code",
   "execution_count": 10,
   "id": "a65b1ed7",
   "metadata": {},
   "outputs": [
    {
     "data": {
      "text/html": [
       "<div>\n",
       "<style scoped>\n",
       "    .dataframe tbody tr th:only-of-type {\n",
       "        vertical-align: middle;\n",
       "    }\n",
       "\n",
       "    .dataframe tbody tr th {\n",
       "        vertical-align: top;\n",
       "    }\n",
       "\n",
       "    .dataframe thead th {\n",
       "        text-align: right;\n",
       "    }\n",
       "</style>\n",
       "<table border=\"1\" class=\"dataframe\">\n",
       "  <thead>\n",
       "    <tr style=\"text-align: right;\">\n",
       "      <th></th>\n",
       "      <th>submission_date</th>\n",
       "      <th>state</th>\n",
       "      <th>tot_cases</th>\n",
       "      <th>conf_cases</th>\n",
       "      <th>prob_cases</th>\n",
       "      <th>new_case</th>\n",
       "      <th>pnew_case</th>\n",
       "      <th>tot_death</th>\n",
       "      <th>conf_death</th>\n",
       "      <th>prob_death</th>\n",
       "      <th>new_death</th>\n",
       "      <th>pnew_death</th>\n",
       "      <th>created_at</th>\n",
       "      <th>consent_cases</th>\n",
       "      <th>consent_deaths</th>\n",
       "    </tr>\n",
       "  </thead>\n",
       "  <tbody>\n",
       "    <tr>\n",
       "      <th>0</th>\n",
       "      <td>09/09/2021</td>\n",
       "      <td>NC</td>\n",
       "      <td>1277752</td>\n",
       "      <td>1085076.0</td>\n",
       "      <td>192676.0</td>\n",
       "      <td>7785</td>\n",
       "      <td>1730.0</td>\n",
       "      <td>15703</td>\n",
       "      <td>13811.0</td>\n",
       "      <td>1892.0</td>\n",
       "      <td>69</td>\n",
       "      <td>13.0</td>\n",
       "      <td>09/09/2021 12:00:00 AM</td>\n",
       "      <td>Agree</td>\n",
       "      <td>Agree</td>\n",
       "    </tr>\n",
       "    <tr>\n",
       "      <th>1</th>\n",
       "      <td>09/01/2021</td>\n",
       "      <td>ND</td>\n",
       "      <td>118491</td>\n",
       "      <td>107475.0</td>\n",
       "      <td>11016.0</td>\n",
       "      <td>536</td>\n",
       "      <td>66.0</td>\n",
       "      <td>1562</td>\n",
       "      <td>NaN</td>\n",
       "      <td>NaN</td>\n",
       "      <td>1</td>\n",
       "      <td>0.0</td>\n",
       "      <td>09/02/2021 01:49:05 PM</td>\n",
       "      <td>Agree</td>\n",
       "      <td>Not agree</td>\n",
       "    </tr>\n",
       "    <tr>\n",
       "      <th>2</th>\n",
       "      <td>03/18/2020</td>\n",
       "      <td>ME</td>\n",
       "      <td>44</td>\n",
       "      <td>44.0</td>\n",
       "      <td>0.0</td>\n",
       "      <td>12</td>\n",
       "      <td>0.0</td>\n",
       "      <td>0</td>\n",
       "      <td>0.0</td>\n",
       "      <td>0.0</td>\n",
       "      <td>0</td>\n",
       "      <td>0.0</td>\n",
       "      <td>03/20/2020 12:00:00 AM</td>\n",
       "      <td>Agree</td>\n",
       "      <td>Agree</td>\n",
       "    </tr>\n",
       "    <tr>\n",
       "      <th>3</th>\n",
       "      <td>02/06/2020</td>\n",
       "      <td>NE</td>\n",
       "      <td>0</td>\n",
       "      <td>NaN</td>\n",
       "      <td>NaN</td>\n",
       "      <td>0</td>\n",
       "      <td>NaN</td>\n",
       "      <td>0</td>\n",
       "      <td>NaN</td>\n",
       "      <td>NaN</td>\n",
       "      <td>0</td>\n",
       "      <td>NaN</td>\n",
       "      <td>03/26/2020 04:22:39 PM</td>\n",
       "      <td>Agree</td>\n",
       "      <td>Agree</td>\n",
       "    </tr>\n",
       "    <tr>\n",
       "      <th>4</th>\n",
       "      <td>02/02/2021</td>\n",
       "      <td>IL</td>\n",
       "      <td>1130917</td>\n",
       "      <td>1130917.0</td>\n",
       "      <td>0.0</td>\n",
       "      <td>2304</td>\n",
       "      <td>0.0</td>\n",
       "      <td>21336</td>\n",
       "      <td>19306.0</td>\n",
       "      <td>2030.0</td>\n",
       "      <td>63</td>\n",
       "      <td>16.0</td>\n",
       "      <td>02/03/2021 02:55:58 PM</td>\n",
       "      <td>Agree</td>\n",
       "      <td>Agree</td>\n",
       "    </tr>\n",
       "  </tbody>\n",
       "</table>\n",
       "</div>"
      ],
      "text/plain": [
       "  submission_date state  tot_cases  conf_cases  prob_cases  new_case  \\\n",
       "0      09/09/2021    NC    1277752   1085076.0    192676.0      7785   \n",
       "1      09/01/2021    ND     118491    107475.0     11016.0       536   \n",
       "2      03/18/2020    ME         44        44.0         0.0        12   \n",
       "3      02/06/2020    NE          0         NaN         NaN         0   \n",
       "4      02/02/2021    IL    1130917   1130917.0         0.0      2304   \n",
       "\n",
       "   pnew_case  tot_death  conf_death  prob_death  new_death  pnew_death  \\\n",
       "0     1730.0      15703     13811.0      1892.0         69        13.0   \n",
       "1       66.0       1562         NaN         NaN          1         0.0   \n",
       "2        0.0          0         0.0         0.0          0         0.0   \n",
       "3        NaN          0         NaN         NaN          0         NaN   \n",
       "4        0.0      21336     19306.0      2030.0         63        16.0   \n",
       "\n",
       "               created_at consent_cases consent_deaths  \n",
       "0  09/09/2021 12:00:00 AM         Agree          Agree  \n",
       "1  09/02/2021 01:49:05 PM         Agree      Not agree  \n",
       "2  03/20/2020 12:00:00 AM         Agree          Agree  \n",
       "3  03/26/2020 04:22:39 PM         Agree          Agree  \n",
       "4  02/03/2021 02:55:58 PM         Agree          Agree  "
      ]
     },
     "execution_count": 10,
     "metadata": {},
     "output_type": "execute_result"
    }
   ],
   "source": [
    "# Examine columns for covid cases\n",
    "COVID_cases.head()"
   ]
  },
  {
   "cell_type": "markdown",
   "id": "b6733372",
   "metadata": {},
   "source": [
    "# Consistency Checks and Cleaning - Stay at Home Orders"
   ]
  },
  {
   "cell_type": "markdown",
   "id": "d68c67d3",
   "metadata": {},
   "source": [
    "## Drop Columns"
   ]
  },
  {
   "cell_type": "code",
   "execution_count": 11,
   "id": "016fe3d7",
   "metadata": {},
   "outputs": [],
   "source": [
    "# Drop unnecessary columns\n",
    "## Only using total for each, not presumed or probable.\n",
    "COVID_cases_2 = COVID_cases.drop(columns = ['created_at', 'conf_cases', 'prob_cases', 'pnew_case', 'conf_death','prob_death', 'pnew_death', 'consent_cases', 'consent_deaths'])"
   ]
  },
  {
   "cell_type": "code",
   "execution_count": 12,
   "id": "27c119e6",
   "metadata": {},
   "outputs": [
    {
     "data": {
      "text/html": [
       "<div>\n",
       "<style scoped>\n",
       "    .dataframe tbody tr th:only-of-type {\n",
       "        vertical-align: middle;\n",
       "    }\n",
       "\n",
       "    .dataframe tbody tr th {\n",
       "        vertical-align: top;\n",
       "    }\n",
       "\n",
       "    .dataframe thead th {\n",
       "        text-align: right;\n",
       "    }\n",
       "</style>\n",
       "<table border=\"1\" class=\"dataframe\">\n",
       "  <thead>\n",
       "    <tr style=\"text-align: right;\">\n",
       "      <th></th>\n",
       "      <th>submission_date</th>\n",
       "      <th>state</th>\n",
       "      <th>tot_cases</th>\n",
       "      <th>new_case</th>\n",
       "      <th>tot_death</th>\n",
       "      <th>new_death</th>\n",
       "    </tr>\n",
       "  </thead>\n",
       "  <tbody>\n",
       "    <tr>\n",
       "      <th>0</th>\n",
       "      <td>09/09/2021</td>\n",
       "      <td>NC</td>\n",
       "      <td>1277752</td>\n",
       "      <td>7785</td>\n",
       "      <td>15703</td>\n",
       "      <td>69</td>\n",
       "    </tr>\n",
       "    <tr>\n",
       "      <th>1</th>\n",
       "      <td>09/01/2021</td>\n",
       "      <td>ND</td>\n",
       "      <td>118491</td>\n",
       "      <td>536</td>\n",
       "      <td>1562</td>\n",
       "      <td>1</td>\n",
       "    </tr>\n",
       "    <tr>\n",
       "      <th>2</th>\n",
       "      <td>03/18/2020</td>\n",
       "      <td>ME</td>\n",
       "      <td>44</td>\n",
       "      <td>12</td>\n",
       "      <td>0</td>\n",
       "      <td>0</td>\n",
       "    </tr>\n",
       "    <tr>\n",
       "      <th>3</th>\n",
       "      <td>02/06/2020</td>\n",
       "      <td>NE</td>\n",
       "      <td>0</td>\n",
       "      <td>0</td>\n",
       "      <td>0</td>\n",
       "      <td>0</td>\n",
       "    </tr>\n",
       "    <tr>\n",
       "      <th>4</th>\n",
       "      <td>02/02/2021</td>\n",
       "      <td>IL</td>\n",
       "      <td>1130917</td>\n",
       "      <td>2304</td>\n",
       "      <td>21336</td>\n",
       "      <td>63</td>\n",
       "    </tr>\n",
       "  </tbody>\n",
       "</table>\n",
       "</div>"
      ],
      "text/plain": [
       "  submission_date state  tot_cases  new_case  tot_death  new_death\n",
       "0      09/09/2021    NC    1277752      7785      15703         69\n",
       "1      09/01/2021    ND     118491       536       1562          1\n",
       "2      03/18/2020    ME         44        12          0          0\n",
       "3      02/06/2020    NE          0         0          0          0\n",
       "4      02/02/2021    IL    1130917      2304      21336         63"
      ]
     },
     "execution_count": 12,
     "metadata": {},
     "output_type": "execute_result"
    }
   ],
   "source": [
    "COVID_cases_2.head()"
   ]
  },
  {
   "cell_type": "markdown",
   "id": "9204f2c8",
   "metadata": {},
   "source": [
    "## Find Duplicates"
   ]
  },
  {
   "cell_type": "code",
   "execution_count": 13,
   "id": "4b71690c",
   "metadata": {},
   "outputs": [],
   "source": [
    "# Find duplicates\n",
    "COVID_cases_dups = COVID_cases_2[COVID_cases_2.duplicated()]"
   ]
  },
  {
   "cell_type": "code",
   "execution_count": 14,
   "id": "efab3ac4",
   "metadata": {},
   "outputs": [
    {
     "data": {
      "text/html": [
       "<div>\n",
       "<style scoped>\n",
       "    .dataframe tbody tr th:only-of-type {\n",
       "        vertical-align: middle;\n",
       "    }\n",
       "\n",
       "    .dataframe tbody tr th {\n",
       "        vertical-align: top;\n",
       "    }\n",
       "\n",
       "    .dataframe thead th {\n",
       "        text-align: right;\n",
       "    }\n",
       "</style>\n",
       "<table border=\"1\" class=\"dataframe\">\n",
       "  <thead>\n",
       "    <tr style=\"text-align: right;\">\n",
       "      <th></th>\n",
       "      <th>submission_date</th>\n",
       "      <th>state</th>\n",
       "      <th>tot_cases</th>\n",
       "      <th>new_case</th>\n",
       "      <th>tot_death</th>\n",
       "      <th>new_death</th>\n",
       "    </tr>\n",
       "  </thead>\n",
       "  <tbody>\n",
       "  </tbody>\n",
       "</table>\n",
       "</div>"
      ],
      "text/plain": [
       "Empty DataFrame\n",
       "Columns: [submission_date, state, tot_cases, new_case, tot_death, new_death]\n",
       "Index: []"
      ]
     },
     "execution_count": 14,
     "metadata": {},
     "output_type": "execute_result"
    }
   ],
   "source": [
    "COVID_cases_dups"
   ]
  },
  {
   "cell_type": "markdown",
   "id": "92e9008c",
   "metadata": {},
   "source": [
    "No duplicates"
   ]
  },
  {
   "cell_type": "markdown",
   "id": "2b9376ec",
   "metadata": {},
   "source": [
    "I am merging this dataset with mask mandate and stay at home orders data. That dataset starts 10 April. I am also only interested in the time before vaccines because I do not want to adjust for vaccines as another variable. The first vaccine was issued in the US on 14 Dec 2020, so I am ending on that date."
   ]
  },
  {
   "cell_type": "markdown",
   "id": "ac5a3339",
   "metadata": {},
   "source": [
    "## Change date column format"
   ]
  },
  {
   "cell_type": "code",
   "execution_count": 15,
   "id": "189646e3",
   "metadata": {},
   "outputs": [],
   "source": [
    "# Change date column to datetime format so it behaves as a number\n",
    "COVID_cases_2['submission_date'] = pd.to_datetime(COVID_cases_2['submission_date'])"
   ]
  },
  {
   "cell_type": "code",
   "execution_count": 16,
   "id": "df631016",
   "metadata": {},
   "outputs": [
    {
     "name": "stdout",
     "output_type": "stream",
     "text": [
      "<class 'pandas.core.frame.DataFrame'>\n",
      "RangeIndex: 47100 entries, 0 to 47099\n",
      "Data columns (total 6 columns):\n",
      " #   Column           Non-Null Count  Dtype         \n",
      "---  ------           --------------  -----         \n",
      " 0   submission_date  47100 non-null  datetime64[ns]\n",
      " 1   state            47100 non-null  object        \n",
      " 2   tot_cases        47100 non-null  int64         \n",
      " 3   new_case         47100 non-null  int64         \n",
      " 4   tot_death        47100 non-null  int64         \n",
      " 5   new_death        47100 non-null  int64         \n",
      "dtypes: datetime64[ns](1), int64(4), object(1)\n",
      "memory usage: 2.2+ MB\n"
     ]
    }
   ],
   "source": [
    "COVID_cases_2.info()"
   ]
  },
  {
   "cell_type": "code",
   "execution_count": 17,
   "id": "22750b57",
   "metadata": {},
   "outputs": [],
   "source": [
    "# Rename date column for later merge\n",
    "COVID_cases_3 = COVID_cases_2.rename(columns = {'submission_date' : 'date'})"
   ]
  },
  {
   "cell_type": "code",
   "execution_count": 18,
   "id": "cc86169f",
   "metadata": {},
   "outputs": [
    {
     "data": {
      "text/html": [
       "<div>\n",
       "<style scoped>\n",
       "    .dataframe tbody tr th:only-of-type {\n",
       "        vertical-align: middle;\n",
       "    }\n",
       "\n",
       "    .dataframe tbody tr th {\n",
       "        vertical-align: top;\n",
       "    }\n",
       "\n",
       "    .dataframe thead th {\n",
       "        text-align: right;\n",
       "    }\n",
       "</style>\n",
       "<table border=\"1\" class=\"dataframe\">\n",
       "  <thead>\n",
       "    <tr style=\"text-align: right;\">\n",
       "      <th></th>\n",
       "      <th>date</th>\n",
       "      <th>state</th>\n",
       "      <th>tot_cases</th>\n",
       "      <th>new_case</th>\n",
       "      <th>tot_death</th>\n",
       "      <th>new_death</th>\n",
       "    </tr>\n",
       "  </thead>\n",
       "  <tbody>\n",
       "    <tr>\n",
       "      <th>0</th>\n",
       "      <td>2021-09-09</td>\n",
       "      <td>NC</td>\n",
       "      <td>1277752</td>\n",
       "      <td>7785</td>\n",
       "      <td>15703</td>\n",
       "      <td>69</td>\n",
       "    </tr>\n",
       "    <tr>\n",
       "      <th>1</th>\n",
       "      <td>2021-09-01</td>\n",
       "      <td>ND</td>\n",
       "      <td>118491</td>\n",
       "      <td>536</td>\n",
       "      <td>1562</td>\n",
       "      <td>1</td>\n",
       "    </tr>\n",
       "  </tbody>\n",
       "</table>\n",
       "</div>"
      ],
      "text/plain": [
       "        date state  tot_cases  new_case  tot_death  new_death\n",
       "0 2021-09-09    NC    1277752      7785      15703         69\n",
       "1 2021-09-01    ND     118491       536       1562          1"
      ]
     },
     "execution_count": 18,
     "metadata": {},
     "output_type": "execute_result"
    }
   ],
   "source": [
    "COVID_cases_3.head(2)"
   ]
  },
  {
   "cell_type": "markdown",
   "id": "b8096892",
   "metadata": {},
   "source": [
    "## Remove unwanted values"
   ]
  },
  {
   "cell_type": "code",
   "execution_count": 19,
   "id": "52d5f758",
   "metadata": {},
   "outputs": [
    {
     "data": {
      "text/plain": [
       "Timestamp('2022-03-16 00:00:00')"
      ]
     },
     "execution_count": 19,
     "metadata": {},
     "output_type": "execute_result"
    }
   ],
   "source": [
    "# Check min and max values to see which ones to eliminate\n",
    "COVID_cases_3['date'].max()"
   ]
  },
  {
   "cell_type": "code",
   "execution_count": 20,
   "id": "702adce9",
   "metadata": {},
   "outputs": [
    {
     "data": {
      "text/plain": [
       "Timestamp('2020-01-22 00:00:00')"
      ]
     },
     "execution_count": 20,
     "metadata": {},
     "output_type": "execute_result"
    }
   ],
   "source": [
    "# Check min and max values to see which ones to eliminate\n",
    "COVID_cases_3['date'].min()"
   ]
  },
  {
   "cell_type": "markdown",
   "id": "18eb3d03",
   "metadata": {},
   "source": [
    "I am only interested in the time before the vaccine was administered - 14 December 2020. I will include 14 days after, however, because that is the incubation period for COVID."
   ]
  },
  {
   "cell_type": "code",
   "execution_count": 21,
   "id": "acea0db4",
   "metadata": {},
   "outputs": [],
   "source": [
    "# Make subset of desired date values\n",
    "COVID_cases_4 = COVID_cases_3[(COVID_cases_3['date'] >= '2020-04-10') & (COVID_cases_3['date'] <= '2020-12-28')]"
   ]
  },
  {
   "cell_type": "code",
   "execution_count": 22,
   "id": "9d6af774",
   "metadata": {},
   "outputs": [
    {
     "data": {
      "text/plain": [
       "Timestamp('2020-12-28 00:00:00')"
      ]
     },
     "execution_count": 22,
     "metadata": {},
     "output_type": "execute_result"
    }
   ],
   "source": [
    "# Check min and max values to check subset\n",
    "COVID_cases_4['date'].max()"
   ]
  },
  {
   "cell_type": "code",
   "execution_count": 23,
   "id": "c25dd7f9",
   "metadata": {},
   "outputs": [
    {
     "data": {
      "text/plain": [
       "Timestamp('2020-04-10 00:00:00')"
      ]
     },
     "execution_count": 23,
     "metadata": {},
     "output_type": "execute_result"
    }
   ],
   "source": [
    "COVID_cases_4['date'].min()"
   ]
  },
  {
   "cell_type": "code",
   "execution_count": 24,
   "id": "74c457e0",
   "metadata": {},
   "outputs": [
    {
     "data": {
      "text/plain": [
       "VT     263\n",
       "MI     263\n",
       "OR     263\n",
       "VA     263\n",
       "WY     263\n",
       "AR     263\n",
       "MP     263\n",
       "AS     263\n",
       "HI     263\n",
       "PR     263\n",
       "AK     263\n",
       "TX     263\n",
       "MA     263\n",
       "GA     263\n",
       "FL     263\n",
       "WV     263\n",
       "PW     263\n",
       "OK     263\n",
       "CO     263\n",
       "NYC    263\n",
       "KS     263\n",
       "UT     263\n",
       "PA     263\n",
       "IA     263\n",
       "NM     263\n",
       "OH     263\n",
       "NY     263\n",
       "SD     263\n",
       "TN     263\n",
       "RI     263\n",
       "DC     263\n",
       "KY     263\n",
       "IL     263\n",
       "NH     263\n",
       "ND     263\n",
       "GU     263\n",
       "AL     263\n",
       "CT     263\n",
       "NE     263\n",
       "MO     263\n",
       "MS     263\n",
       "NC     263\n",
       "MD     263\n",
       "WI     263\n",
       "ID     263\n",
       "ME     263\n",
       "MN     263\n",
       "CA     263\n",
       "DE     263\n",
       "IN     263\n",
       "VI     263\n",
       "MT     263\n",
       "NV     263\n",
       "WA     263\n",
       "LA     263\n",
       "FSM    263\n",
       "AZ     263\n",
       "NJ     263\n",
       "SC     263\n",
       "RMI    263\n",
       "Name: state, dtype: int64"
      ]
     },
     "execution_count": 24,
     "metadata": {},
     "output_type": "execute_result"
    }
   ],
   "source": [
    "# Value counts to see states included\n",
    "COVID_cases_4['state'].value_counts(dropna = False)"
   ]
  },
  {
   "cell_type": "markdown",
   "id": "8e5f4863",
   "metadata": {},
   "source": [
    "Only interested in 50 states and DC, take out others. "
   ]
  },
  {
   "cell_type": "code",
   "execution_count": 25,
   "id": "514b164e",
   "metadata": {},
   "outputs": [],
   "source": [
    "COVID_cases_5 = COVID_cases_4[(COVID_cases_4.state != \"RMI\") & (COVID_cases_4.state != \"FSM\") & (COVID_cases_4.state != \"GU\") & (COVID_cases_4.state != \"PW\") & (COVID_cases_4.state != \"VI\")]"
   ]
  },
  {
   "cell_type": "code",
   "execution_count": 26,
   "id": "84d31f74",
   "metadata": {},
   "outputs": [
    {
     "data": {
      "text/plain": [
       "VT     263\n",
       "FL     263\n",
       "VA     263\n",
       "WY     263\n",
       "AR     263\n",
       "MP     263\n",
       "AS     263\n",
       "HI     263\n",
       "PR     263\n",
       "AK     263\n",
       "TX     263\n",
       "MA     263\n",
       "GA     263\n",
       "WV     263\n",
       "RI     263\n",
       "OK     263\n",
       "CO     263\n",
       "NYC    263\n",
       "KS     263\n",
       "UT     263\n",
       "PA     263\n",
       "IA     263\n",
       "NM     263\n",
       "OH     263\n",
       "NY     263\n",
       "SD     263\n",
       "OR     263\n",
       "DC     263\n",
       "MI     263\n",
       "IL     263\n",
       "NH     263\n",
       "ND     263\n",
       "AL     263\n",
       "CT     263\n",
       "NE     263\n",
       "MO     263\n",
       "MS     263\n",
       "NC     263\n",
       "MD     263\n",
       "WI     263\n",
       "ID     263\n",
       "ME     263\n",
       "KY     263\n",
       "CA     263\n",
       "DE     263\n",
       "IN     263\n",
       "MT     263\n",
       "NV     263\n",
       "WA     263\n",
       "LA     263\n",
       "AZ     263\n",
       "NJ     263\n",
       "SC     263\n",
       "MN     263\n",
       "TN     263\n",
       "Name: state, dtype: int64"
      ]
     },
     "execution_count": 26,
     "metadata": {},
     "output_type": "execute_result"
    }
   ],
   "source": [
    "# Check omissions\n",
    "COVID_cases_5['state'].value_counts(dropna = False)"
   ]
  },
  {
   "cell_type": "markdown",
   "id": "6c083b7a",
   "metadata": {},
   "source": [
    "## Check for Missing Values"
   ]
  },
  {
   "cell_type": "code",
   "execution_count": 27,
   "id": "0776e956",
   "metadata": {},
   "outputs": [
    {
     "data": {
      "text/plain": [
       "date         0\n",
       "state        0\n",
       "tot_cases    0\n",
       "new_case     0\n",
       "tot_death    0\n",
       "new_death    0\n",
       "dtype: int64"
      ]
     },
     "execution_count": 27,
     "metadata": {},
     "output_type": "execute_result"
    }
   ],
   "source": [
    "# Check for missing values in home order dataframe\n",
    "COVID_cases_5.isnull().sum()"
   ]
  },
  {
   "cell_type": "markdown",
   "id": "4eb2a3d4",
   "metadata": {},
   "source": [
    "No missing values."
   ]
  },
  {
   "cell_type": "markdown",
   "id": "dee97e4c",
   "metadata": {},
   "source": [
    "## Check for mixed types"
   ]
  },
  {
   "cell_type": "code",
   "execution_count": 28,
   "id": "cb453813",
   "metadata": {},
   "outputs": [],
   "source": [
    "# Check for mixed types\n",
    "for col in COVID_cases_5.columns.tolist():\n",
    "    weird = (COVID_cases_5[[col]].applymap(type) != COVID_cases_5[[col]].iloc[0].apply(type)).any(axis = 1) \n",
    "    if len (COVID_cases_5[weird]) > 0:\n",
    "        print (col)"
   ]
  },
  {
   "cell_type": "markdown",
   "id": "ccc09fea",
   "metadata": {},
   "source": [
    "No mixed types."
   ]
  },
  {
   "cell_type": "markdown",
   "id": "dd4d28c8",
   "metadata": {},
   "source": [
    "# Download cleaned data"
   ]
  },
  {
   "cell_type": "code",
   "execution_count": 29,
   "id": "ae8ff28c",
   "metadata": {},
   "outputs": [],
   "source": [
    "#Download cleaned data\n",
    "COVID_cases_5.to_pickle(os.path.join(path, 'COVID_cases_clean.pkl'))"
   ]
  },
  {
   "cell_type": "code",
   "execution_count": null,
   "id": "463bde0f",
   "metadata": {},
   "outputs": [],
   "source": []
  }
 ],
 "metadata": {
  "kernelspec": {
   "display_name": "Python 3 (ipykernel)",
   "language": "python",
   "name": "python3"
  },
  "language_info": {
   "codemirror_mode": {
    "name": "ipython",
    "version": 3
   },
   "file_extension": ".py",
   "mimetype": "text/x-python",
   "name": "python",
   "nbconvert_exporter": "python",
   "pygments_lexer": "ipython3",
   "version": "3.9.7"
  }
 },
 "nbformat": 4,
 "nbformat_minor": 5
}
