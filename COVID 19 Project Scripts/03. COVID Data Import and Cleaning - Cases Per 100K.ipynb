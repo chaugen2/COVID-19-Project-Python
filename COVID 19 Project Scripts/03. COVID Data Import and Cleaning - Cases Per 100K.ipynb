{
 "cells": [
  {
   "cell_type": "markdown",
   "id": "f9a69960",
   "metadata": {},
   "source": [
    "# Contents\n",
    "### 1. Import Libraries\n",
    "### 2. Upload Data - COVID Cases Per 100K\n",
    "### 3. Consistency Checks and Cleaning\n",
    "* Re-Name Columns\n",
    "* Delete Unwanted Columns\n",
    "* Change Column Formats\n",
    "* Eliminate Unwanted Rows\n",
    "* Change Data Types\n",
    "* Check for Missing Values\n",
    "* Check for Duplicates\n",
    "* Check for Mixed Types\n",
    "* Derive New Variables\n",
    "\n",
    "### 4. Download Cleaned Data\n",
    "_____________________"
   ]
  },
  {
   "cell_type": "markdown",
   "id": "b761b9bf",
   "metadata": {},
   "source": [
    "## 1. Import Libraries, Create Folder Path"
   ]
  },
  {
   "cell_type": "code",
   "execution_count": 50,
   "id": "dd965f88",
   "metadata": {},
   "outputs": [],
   "source": [
    "# Import libraries\n",
    "import pandas as pd\n",
    "import numpy as np\n",
    "import os"
   ]
  },
  {
   "cell_type": "code",
   "execution_count": 51,
   "id": "bd77148f",
   "metadata": {},
   "outputs": [],
   "source": [
    "# Create path to folder\n",
    "path = r'/Users/caitlin/iCloud/Caitlin/COVID Data/Original Data'"
   ]
  },
  {
   "cell_type": "code",
   "execution_count": 52,
   "id": "079bdafe",
   "metadata": {},
   "outputs": [
    {
     "data": {
      "text/plain": [
       "'/Users/caitlin/iCloud/Caitlin/COVID Data/Original Data'"
      ]
     },
     "execution_count": 52,
     "metadata": {},
     "output_type": "execute_result"
    }
   ],
   "source": [
    "path"
   ]
  },
  {
   "cell_type": "markdown",
   "id": "bf0848bb",
   "metadata": {},
   "source": [
    "## 2. Upload Data - COVID Cases Per 100K"
   ]
  },
  {
   "cell_type": "code",
   "execution_count": 55,
   "id": "e625600b",
   "metadata": {},
   "outputs": [],
   "source": [
    "# Import data file\n",
    "COVID_cases = pd.read_csv(os.path.join(path, 'COVID_cases.csv'), index_col = False)"
   ]
  },
  {
   "cell_type": "code",
   "execution_count": 56,
   "id": "91431226",
   "metadata": {},
   "outputs": [],
   "source": [
    "# Show all columns\n",
    "pd.options.display.max_columns = None"
   ]
  },
  {
   "cell_type": "code",
   "execution_count": 57,
   "id": "7734166a",
   "metadata": {},
   "outputs": [
    {
     "name": "stdout",
     "output_type": "stream",
     "text": [
      "<class 'pandas.core.frame.DataFrame'>\n",
      "RangeIndex: 2748366 entries, 0 to 2748365\n",
      "Data columns (total 7 columns):\n",
      " #   Column                                              Dtype  \n",
      "---  ------                                              -----  \n",
      " 0   state_name                                          object \n",
      " 1   county_name                                         object \n",
      " 2   fips_code                                           int64  \n",
      " 3   date                                                object \n",
      " 4   cases_per_100K_7_day_count_change                   object \n",
      " 5   percent_test_results_reported_positive_last_7_days  float64\n",
      " 6   community_transmission_level                        object \n",
      "dtypes: float64(1), int64(1), object(5)\n",
      "memory usage: 146.8+ MB\n"
     ]
    }
   ],
   "source": [
    "# Inspect Data File\n",
    "COVID_cases.info()"
   ]
  },
  {
   "cell_type": "code",
   "execution_count": 58,
   "id": "4e76cb73",
   "metadata": {},
   "outputs": [
    {
     "name": "stdout",
     "output_type": "stream",
     "text": [
      "<class 'pandas.core.frame.DataFrame'>\n",
      "RangeIndex: 2748366 entries, 0 to 2748365\n",
      "Data columns (total 7 columns):\n",
      " #   Column                                              Dtype  \n",
      "---  ------                                              -----  \n",
      " 0   state_name                                          object \n",
      " 1   county_name                                         object \n",
      " 2   fips_code                                           int64  \n",
      " 3   date                                                object \n",
      " 4   cases_per_100K_7_day_count_change                   object \n",
      " 5   percent_test_results_reported_positive_last_7_days  float64\n",
      " 6   community_transmission_level                        object \n",
      "dtypes: float64(1), int64(1), object(5)\n",
      "memory usage: 146.8+ MB\n"
     ]
    }
   ],
   "source": [
    "# Inspect info\n",
    "COVID_cases.info()"
   ]
  },
  {
   "cell_type": "code",
   "execution_count": 59,
   "id": "a28faa0c",
   "metadata": {},
   "outputs": [
    {
     "data": {
      "text/plain": [
       "(2748366, 7)"
      ]
     },
     "execution_count": 59,
     "metadata": {},
     "output_type": "execute_result"
    }
   ],
   "source": [
    "# Inspect shape\n",
    "COVID_cases.shape"
   ]
  },
  {
   "cell_type": "code",
   "execution_count": 60,
   "id": "cc315a4a",
   "metadata": {
    "scrolled": true
   },
   "outputs": [
    {
     "data": {
      "text/html": [
       "<div>\n",
       "<style scoped>\n",
       "    .dataframe tbody tr th:only-of-type {\n",
       "        vertical-align: middle;\n",
       "    }\n",
       "\n",
       "    .dataframe tbody tr th {\n",
       "        vertical-align: top;\n",
       "    }\n",
       "\n",
       "    .dataframe thead th {\n",
       "        text-align: right;\n",
       "    }\n",
       "</style>\n",
       "<table border=\"1\" class=\"dataframe\">\n",
       "  <thead>\n",
       "    <tr style=\"text-align: right;\">\n",
       "      <th></th>\n",
       "      <th>state_name</th>\n",
       "      <th>county_name</th>\n",
       "      <th>fips_code</th>\n",
       "      <th>date</th>\n",
       "      <th>cases_per_100K_7_day_count_change</th>\n",
       "      <th>percent_test_results_reported_positive_last_7_days</th>\n",
       "      <th>community_transmission_level</th>\n",
       "    </tr>\n",
       "  </thead>\n",
       "  <tbody>\n",
       "    <tr>\n",
       "      <th>0</th>\n",
       "      <td>Iowa</td>\n",
       "      <td>Emmet County</td>\n",
       "      <td>19063</td>\n",
       "      <td>01/26/2020</td>\n",
       "      <td>0.000</td>\n",
       "      <td>NaN</td>\n",
       "      <td>NaN</td>\n",
       "    </tr>\n",
       "    <tr>\n",
       "      <th>1</th>\n",
       "      <td>Texas</td>\n",
       "      <td>Lynn County</td>\n",
       "      <td>48305</td>\n",
       "      <td>01/24/2020</td>\n",
       "      <td>0.000</td>\n",
       "      <td>NaN</td>\n",
       "      <td>NaN</td>\n",
       "    </tr>\n",
       "    <tr>\n",
       "      <th>2</th>\n",
       "      <td>Maine</td>\n",
       "      <td>York County</td>\n",
       "      <td>23031</td>\n",
       "      <td>01/24/2020</td>\n",
       "      <td>0.000</td>\n",
       "      <td>NaN</td>\n",
       "      <td>NaN</td>\n",
       "    </tr>\n",
       "    <tr>\n",
       "      <th>3</th>\n",
       "      <td>Iowa</td>\n",
       "      <td>Davis County</td>\n",
       "      <td>19051</td>\n",
       "      <td>01/27/2020</td>\n",
       "      <td>0.000</td>\n",
       "      <td>NaN</td>\n",
       "      <td>NaN</td>\n",
       "    </tr>\n",
       "    <tr>\n",
       "      <th>4</th>\n",
       "      <td>Texas</td>\n",
       "      <td>Lamb County</td>\n",
       "      <td>48279</td>\n",
       "      <td>01/27/2020</td>\n",
       "      <td>0.000</td>\n",
       "      <td>NaN</td>\n",
       "      <td>NaN</td>\n",
       "    </tr>\n",
       "  </tbody>\n",
       "</table>\n",
       "</div>"
      ],
      "text/plain": [
       "  state_name   county_name  fips_code        date  \\\n",
       "0       Iowa  Emmet County      19063  01/26/2020   \n",
       "1      Texas   Lynn County      48305  01/24/2020   \n",
       "2      Maine   York County      23031  01/24/2020   \n",
       "3       Iowa  Davis County      19051  01/27/2020   \n",
       "4      Texas   Lamb County      48279  01/27/2020   \n",
       "\n",
       "  cases_per_100K_7_day_count_change  \\\n",
       "0                             0.000   \n",
       "1                             0.000   \n",
       "2                             0.000   \n",
       "3                             0.000   \n",
       "4                             0.000   \n",
       "\n",
       "   percent_test_results_reported_positive_last_7_days  \\\n",
       "0                                                NaN    \n",
       "1                                                NaN    \n",
       "2                                                NaN    \n",
       "3                                                NaN    \n",
       "4                                                NaN    \n",
       "\n",
       "  community_transmission_level  \n",
       "0                          NaN  \n",
       "1                          NaN  \n",
       "2                          NaN  \n",
       "3                          NaN  \n",
       "4                          NaN  "
      ]
     },
     "execution_count": 60,
     "metadata": {},
     "output_type": "execute_result"
    }
   ],
   "source": [
    "# Inspect DF heads\n",
    "COVID_cases.head(5)"
   ]
  },
  {
   "cell_type": "markdown",
   "id": "5ab4b02a",
   "metadata": {},
   "source": [
    "## 3. Consistency Checks and Cleaning"
   ]
  },
  {
   "cell_type": "markdown",
   "id": "b88a200c",
   "metadata": {},
   "source": [
    "### Rename Columns"
   ]
  },
  {
   "cell_type": "code",
   "execution_count": 61,
   "id": "98a9ef0f",
   "metadata": {},
   "outputs": [],
   "source": [
    "# Rename columns for clarity\n",
    "COVID_cases_2 = COVID_cases.rename(columns = {'cases_per_100K_7_day_count_change' : 'cases_per_100K'})"
   ]
  },
  {
   "cell_type": "code",
   "execution_count": 62,
   "id": "b36e61df",
   "metadata": {},
   "outputs": [
    {
     "data": {
      "text/html": [
       "<div>\n",
       "<style scoped>\n",
       "    .dataframe tbody tr th:only-of-type {\n",
       "        vertical-align: middle;\n",
       "    }\n",
       "\n",
       "    .dataframe tbody tr th {\n",
       "        vertical-align: top;\n",
       "    }\n",
       "\n",
       "    .dataframe thead th {\n",
       "        text-align: right;\n",
       "    }\n",
       "</style>\n",
       "<table border=\"1\" class=\"dataframe\">\n",
       "  <thead>\n",
       "    <tr style=\"text-align: right;\">\n",
       "      <th></th>\n",
       "      <th>state_name</th>\n",
       "      <th>county_name</th>\n",
       "      <th>fips_code</th>\n",
       "      <th>date</th>\n",
       "      <th>cases_per_100K</th>\n",
       "      <th>percent_test_results_reported_positive_last_7_days</th>\n",
       "      <th>community_transmission_level</th>\n",
       "    </tr>\n",
       "  </thead>\n",
       "  <tbody>\n",
       "    <tr>\n",
       "      <th>0</th>\n",
       "      <td>Iowa</td>\n",
       "      <td>Emmet County</td>\n",
       "      <td>19063</td>\n",
       "      <td>01/26/2020</td>\n",
       "      <td>0.000</td>\n",
       "      <td>NaN</td>\n",
       "      <td>NaN</td>\n",
       "    </tr>\n",
       "    <tr>\n",
       "      <th>1</th>\n",
       "      <td>Texas</td>\n",
       "      <td>Lynn County</td>\n",
       "      <td>48305</td>\n",
       "      <td>01/24/2020</td>\n",
       "      <td>0.000</td>\n",
       "      <td>NaN</td>\n",
       "      <td>NaN</td>\n",
       "    </tr>\n",
       "    <tr>\n",
       "      <th>2</th>\n",
       "      <td>Maine</td>\n",
       "      <td>York County</td>\n",
       "      <td>23031</td>\n",
       "      <td>01/24/2020</td>\n",
       "      <td>0.000</td>\n",
       "      <td>NaN</td>\n",
       "      <td>NaN</td>\n",
       "    </tr>\n",
       "  </tbody>\n",
       "</table>\n",
       "</div>"
      ],
      "text/plain": [
       "  state_name   county_name  fips_code        date cases_per_100K  \\\n",
       "0       Iowa  Emmet County      19063  01/26/2020          0.000   \n",
       "1      Texas   Lynn County      48305  01/24/2020          0.000   \n",
       "2      Maine   York County      23031  01/24/2020          0.000   \n",
       "\n",
       "   percent_test_results_reported_positive_last_7_days  \\\n",
       "0                                                NaN    \n",
       "1                                                NaN    \n",
       "2                                                NaN    \n",
       "\n",
       "  community_transmission_level  \n",
       "0                          NaN  \n",
       "1                          NaN  \n",
       "2                          NaN  "
      ]
     },
     "execution_count": 62,
     "metadata": {},
     "output_type": "execute_result"
    }
   ],
   "source": [
    "# Check change\n",
    "COVID_cases_2.head(3)"
   ]
  },
  {
   "cell_type": "markdown",
   "id": "b8410b84",
   "metadata": {},
   "source": [
    "### Delete Unwanted Columns"
   ]
  },
  {
   "cell_type": "code",
   "execution_count": 63,
   "id": "3b8510b4",
   "metadata": {},
   "outputs": [],
   "source": [
    "# Drop unnecessary columns\n",
    "COVID_cases_3 = COVID_cases_2.drop(columns = ['percent_test_results_reported_positive_last_7_days'])"
   ]
  },
  {
   "cell_type": "code",
   "execution_count": 64,
   "id": "d61dbe16",
   "metadata": {},
   "outputs": [
    {
     "data": {
      "text/html": [
       "<div>\n",
       "<style scoped>\n",
       "    .dataframe tbody tr th:only-of-type {\n",
       "        vertical-align: middle;\n",
       "    }\n",
       "\n",
       "    .dataframe tbody tr th {\n",
       "        vertical-align: top;\n",
       "    }\n",
       "\n",
       "    .dataframe thead th {\n",
       "        text-align: right;\n",
       "    }\n",
       "</style>\n",
       "<table border=\"1\" class=\"dataframe\">\n",
       "  <thead>\n",
       "    <tr style=\"text-align: right;\">\n",
       "      <th></th>\n",
       "      <th>state_name</th>\n",
       "      <th>county_name</th>\n",
       "      <th>fips_code</th>\n",
       "      <th>date</th>\n",
       "      <th>cases_per_100K</th>\n",
       "      <th>community_transmission_level</th>\n",
       "    </tr>\n",
       "  </thead>\n",
       "  <tbody>\n",
       "    <tr>\n",
       "      <th>0</th>\n",
       "      <td>Iowa</td>\n",
       "      <td>Emmet County</td>\n",
       "      <td>19063</td>\n",
       "      <td>01/26/2020</td>\n",
       "      <td>0.000</td>\n",
       "      <td>NaN</td>\n",
       "    </tr>\n",
       "    <tr>\n",
       "      <th>1</th>\n",
       "      <td>Texas</td>\n",
       "      <td>Lynn County</td>\n",
       "      <td>48305</td>\n",
       "      <td>01/24/2020</td>\n",
       "      <td>0.000</td>\n",
       "      <td>NaN</td>\n",
       "    </tr>\n",
       "    <tr>\n",
       "      <th>2</th>\n",
       "      <td>Maine</td>\n",
       "      <td>York County</td>\n",
       "      <td>23031</td>\n",
       "      <td>01/24/2020</td>\n",
       "      <td>0.000</td>\n",
       "      <td>NaN</td>\n",
       "    </tr>\n",
       "    <tr>\n",
       "      <th>3</th>\n",
       "      <td>Iowa</td>\n",
       "      <td>Davis County</td>\n",
       "      <td>19051</td>\n",
       "      <td>01/27/2020</td>\n",
       "      <td>0.000</td>\n",
       "      <td>NaN</td>\n",
       "    </tr>\n",
       "    <tr>\n",
       "      <th>4</th>\n",
       "      <td>Texas</td>\n",
       "      <td>Lamb County</td>\n",
       "      <td>48279</td>\n",
       "      <td>01/27/2020</td>\n",
       "      <td>0.000</td>\n",
       "      <td>NaN</td>\n",
       "    </tr>\n",
       "  </tbody>\n",
       "</table>\n",
       "</div>"
      ],
      "text/plain": [
       "  state_name   county_name  fips_code        date cases_per_100K  \\\n",
       "0       Iowa  Emmet County      19063  01/26/2020          0.000   \n",
       "1      Texas   Lynn County      48305  01/24/2020          0.000   \n",
       "2      Maine   York County      23031  01/24/2020          0.000   \n",
       "3       Iowa  Davis County      19051  01/27/2020          0.000   \n",
       "4      Texas   Lamb County      48279  01/27/2020          0.000   \n",
       "\n",
       "  community_transmission_level  \n",
       "0                          NaN  \n",
       "1                          NaN  \n",
       "2                          NaN  \n",
       "3                          NaN  \n",
       "4                          NaN  "
      ]
     },
     "execution_count": 64,
     "metadata": {},
     "output_type": "execute_result"
    }
   ],
   "source": [
    "# Inspect drop\n",
    "COVID_cases_3.head(5)"
   ]
  },
  {
   "cell_type": "markdown",
   "id": "3aa1dfd7",
   "metadata": {},
   "source": [
    "#### Check that there are only states, no territories"
   ]
  },
  {
   "cell_type": "markdown",
   "id": "d87cf24f",
   "metadata": {},
   "source": [
    "I am only interested in the US states, not territories, so deleting like I did for the other two DFs."
   ]
  },
  {
   "cell_type": "code",
   "execution_count": 65,
   "id": "aeec18e7",
   "metadata": {},
   "outputs": [
    {
     "data": {
      "text/plain": [
       "Texas                   216662\n",
       "Georgia                 135627\n",
       "Virginia                113449\n",
       "Kentucky                102360\n",
       "Missouri                 98095\n",
       "Kansas                   89565\n",
       "Illinois                 87006\n",
       "North Carolina           85300\n",
       "Iowa                     84447\n",
       "Tennessee                81035\n",
       "Nebraska                 79329\n",
       "Indiana                  78476\n",
       "Ohio                     75064\n",
       "Minnesota                74211\n",
       "Michigan                 70799\n",
       "Mississippi              69946\n",
       "Puerto Rico              66534\n",
       "Oklahoma                 65681\n",
       "Arkansas                 63975\n",
       "Wisconsin                61416\n",
       "Pennsylvania             57151\n",
       "Florida                  57151\n",
       "Alabama                  57151\n",
       "South Dakota             56298\n",
       "Louisiana                54592\n",
       "Colorado                 54592\n",
       "New York                 52886\n",
       "California               49474\n",
       "Montana                  47768\n",
       "West Virginia            46915\n",
       "North Dakota             45209\n",
       "South Carolina           39238\n",
       "Idaho                    37532\n",
       "Washington               33267\n",
       "Oregon                   30708\n",
       "New Mexico               28149\n",
       "Alaska                   26443\n",
       "Utah                     24737\n",
       "Maryland                 20472\n",
       "Wyoming                  19619\n",
       "New Jersey               17913\n",
       "Nevada                   14501\n",
       "Maine                    13648\n",
       "Arizona                  12795\n",
       "Massachusetts            11942\n",
       "Vermont                  11942\n",
       "New Hampshire             8530\n",
       "Connecticut               6824\n",
       "Hawaii                    4265\n",
       "Rhode Island              4265\n",
       "Delaware                  2559\n",
       "District of Columbia       853\n",
       "Name: state_name, dtype: int64"
      ]
     },
     "execution_count": 65,
     "metadata": {},
     "output_type": "execute_result"
    }
   ],
   "source": [
    "# Count values of each state to see states and how many records for each\n",
    "COVID_cases_3['state_name'].value_counts()"
   ]
  },
  {
   "cell_type": "markdown",
   "id": "1bcb3183",
   "metadata": {},
   "source": [
    "Only states, no territories - good. No deletions necessary."
   ]
  },
  {
   "cell_type": "markdown",
   "id": "c7dd2175",
   "metadata": {},
   "source": [
    "### Change Column Formats"
   ]
  },
  {
   "cell_type": "code",
   "execution_count": 66,
   "id": "da66dc47",
   "metadata": {},
   "outputs": [],
   "source": [
    "# Change date column to datetime format so it behaves as a number\n",
    "COVID_cases_3['date'] = pd.to_datetime(COVID_cases_3['date'])"
   ]
  },
  {
   "cell_type": "code",
   "execution_count": 67,
   "id": "08a5a8a5",
   "metadata": {},
   "outputs": [
    {
     "name": "stdout",
     "output_type": "stream",
     "text": [
      "<class 'pandas.core.frame.DataFrame'>\n",
      "RangeIndex: 2748366 entries, 0 to 2748365\n",
      "Data columns (total 6 columns):\n",
      " #   Column                        Dtype         \n",
      "---  ------                        -----         \n",
      " 0   state_name                    object        \n",
      " 1   county_name                   object        \n",
      " 2   fips_code                     int64         \n",
      " 3   date                          datetime64[ns]\n",
      " 4   cases_per_100K                object        \n",
      " 5   community_transmission_level  object        \n",
      "dtypes: datetime64[ns](1), int64(1), object(4)\n",
      "memory usage: 125.8+ MB\n"
     ]
    }
   ],
   "source": [
    "# Check change of data type\n",
    "COVID_cases_3.info()"
   ]
  },
  {
   "cell_type": "markdown",
   "id": "dba9104c",
   "metadata": {},
   "source": [
    "### Eliminate Unwanted Rows"
   ]
  },
  {
   "cell_type": "markdown",
   "id": "e103ade0",
   "metadata": {},
   "source": [
    "I am only looking at data from 10 April (first available data on home and mask orders) to 13 December (before the first vaccine)."
   ]
  },
  {
   "cell_type": "code",
   "execution_count": 68,
   "id": "de2dbd24",
   "metadata": {},
   "outputs": [
    {
     "data": {
      "text/plain": [
       "Timestamp('2022-05-23 00:00:00')"
      ]
     },
     "execution_count": 68,
     "metadata": {},
     "output_type": "execute_result"
    }
   ],
   "source": [
    "# Check min and max values to see which ones to eliminate\n",
    "COVID_cases_3['date'].max()"
   ]
  },
  {
   "cell_type": "code",
   "execution_count": 69,
   "id": "04d92785",
   "metadata": {},
   "outputs": [
    {
     "data": {
      "text/plain": [
       "Timestamp('2020-01-22 00:00:00')"
      ]
     },
     "execution_count": 69,
     "metadata": {},
     "output_type": "execute_result"
    }
   ],
   "source": [
    "# Check min and max values to see which ones to eliminate\n",
    "COVID_cases_3['date'].min()"
   ]
  },
  {
   "cell_type": "code",
   "execution_count": 70,
   "id": "95d9a69f",
   "metadata": {},
   "outputs": [],
   "source": [
    "# Make subset of desired time values\n",
    "COVID_cases_4 = COVID_cases_3[(COVID_cases_3['date'] >= '2020-04-10') & (COVID_cases_3['date'] < '2020-12-14')]"
   ]
  },
  {
   "cell_type": "code",
   "execution_count": 71,
   "id": "d3464d04",
   "metadata": {},
   "outputs": [
    {
     "data": {
      "text/plain": [
       "Timestamp('2020-12-13 00:00:00')"
      ]
     },
     "execution_count": 71,
     "metadata": {},
     "output_type": "execute_result"
    }
   ],
   "source": [
    "# Check min and max values again\n",
    "COVID_cases_4['date'].max()"
   ]
  },
  {
   "cell_type": "code",
   "execution_count": 72,
   "id": "407038bb",
   "metadata": {},
   "outputs": [
    {
     "data": {
      "text/plain": [
       "Timestamp('2020-04-10 00:00:00')"
      ]
     },
     "execution_count": 72,
     "metadata": {},
     "output_type": "execute_result"
    }
   ],
   "source": [
    "COVID_cases_4['date'].min()"
   ]
  },
  {
   "cell_type": "markdown",
   "id": "c5ce23e2",
   "metadata": {},
   "source": [
    "### Change Data Types"
   ]
  },
  {
   "cell_type": "code",
   "execution_count": 73,
   "id": "5dd18d0b",
   "metadata": {},
   "outputs": [
    {
     "name": "stderr",
     "output_type": "stream",
     "text": [
      "/var/folders/5y/s1_zpnxx04z7kvvp3b6fff9w0000gn/T/ipykernel_38510/770610814.py:2: SettingWithCopyWarning: \n",
      "A value is trying to be set on a copy of a slice from a DataFrame.\n",
      "Try using .loc[row_indexer,col_indexer] = value instead\n",
      "\n",
      "See the caveats in the documentation: https://pandas.pydata.org/pandas-docs/stable/user_guide/indexing.html#returning-a-view-versus-a-copy\n",
      "  COVID_cases_4['cases_per_100K'] = pd.to_numeric(COVID_cases_4['cases_per_100K'], errors='coerce')\n"
     ]
    }
   ],
   "source": [
    "# Change cases per 100K to numerical and coerce suppressed to NaN\n",
    "COVID_cases_4['cases_per_100K'] = pd.to_numeric(COVID_cases_4['cases_per_100K'], errors='coerce')"
   ]
  },
  {
   "cell_type": "code",
   "execution_count": 74,
   "id": "aa62cf4b",
   "metadata": {},
   "outputs": [
    {
     "name": "stdout",
     "output_type": "stream",
     "text": [
      "<class 'pandas.core.frame.DataFrame'>\n",
      "Int64Index: 799056 entries, 8 to 1112415\n",
      "Data columns (total 6 columns):\n",
      " #   Column                        Non-Null Count   Dtype         \n",
      "---  ------                        --------------   -----         \n",
      " 0   state_name                    799056 non-null  object        \n",
      " 1   county_name                   799056 non-null  object        \n",
      " 2   fips_code                     799056 non-null  int64         \n",
      " 3   date                          799056 non-null  datetime64[ns]\n",
      " 4   cases_per_100K                579930 non-null  float64       \n",
      " 5   community_transmission_level  799056 non-null  object        \n",
      "dtypes: datetime64[ns](1), float64(1), int64(1), object(3)\n",
      "memory usage: 42.7+ MB\n"
     ]
    }
   ],
   "source": [
    "# Check datatype change\n",
    "COVID_cases_4.info()"
   ]
  },
  {
   "cell_type": "code",
   "execution_count": 75,
   "id": "ec928fe3",
   "metadata": {},
   "outputs": [
    {
     "data": {
      "text/plain": [
       "0.0"
      ]
     },
     "execution_count": 75,
     "metadata": {},
     "output_type": "execute_result"
    }
   ],
   "source": [
    "# Min and max values to double check\n",
    "COVID_cases_4['cases_per_100K'].min()"
   ]
  },
  {
   "cell_type": "code",
   "execution_count": 76,
   "id": "dba78c16",
   "metadata": {},
   "outputs": [
    {
     "data": {
      "text/plain": [
       "999.936"
      ]
     },
     "execution_count": 76,
     "metadata": {},
     "output_type": "execute_result"
    }
   ],
   "source": [
    "COVID_cases_4['cases_per_100K'].max()"
   ]
  },
  {
   "cell_type": "markdown",
   "id": "a8b50abc",
   "metadata": {},
   "source": [
    "### Check for Missing Values"
   ]
  },
  {
   "cell_type": "code",
   "execution_count": 77,
   "id": "12be86bd",
   "metadata": {},
   "outputs": [
    {
     "data": {
      "text/plain": [
       "state_name                           0\n",
       "county_name                          0\n",
       "fips_code                            0\n",
       "date                                 0\n",
       "cases_per_100K                  219126\n",
       "community_transmission_level         0\n",
       "dtype: int64"
      ]
     },
     "execution_count": 77,
     "metadata": {},
     "output_type": "execute_result"
    }
   ],
   "source": [
    "# Check for missing values in home order dataframe\n",
    "COVID_cases_4.isnull().sum()"
   ]
  },
  {
   "cell_type": "markdown",
   "id": "87f95cde",
   "metadata": {},
   "source": [
    "There are a significant number NaN values in the cases per 100K, but I do not want to delete them because they are simply just days where the data was not reported, according to the CDC."
   ]
  },
  {
   "cell_type": "markdown",
   "id": "120bb749",
   "metadata": {},
   "source": [
    "### Check for Duplicates"
   ]
  },
  {
   "cell_type": "code",
   "execution_count": 78,
   "id": "2d3d9777",
   "metadata": {},
   "outputs": [],
   "source": [
    "#Check for Duplicates\n",
    "COVID_cases_dups = COVID_cases_4[COVID_cases_4.duplicated()]"
   ]
  },
  {
   "cell_type": "code",
   "execution_count": 79,
   "id": "62d2a18f",
   "metadata": {},
   "outputs": [
    {
     "data": {
      "text/html": [
       "<div>\n",
       "<style scoped>\n",
       "    .dataframe tbody tr th:only-of-type {\n",
       "        vertical-align: middle;\n",
       "    }\n",
       "\n",
       "    .dataframe tbody tr th {\n",
       "        vertical-align: top;\n",
       "    }\n",
       "\n",
       "    .dataframe thead th {\n",
       "        text-align: right;\n",
       "    }\n",
       "</style>\n",
       "<table border=\"1\" class=\"dataframe\">\n",
       "  <thead>\n",
       "    <tr style=\"text-align: right;\">\n",
       "      <th></th>\n",
       "      <th>state_name</th>\n",
       "      <th>county_name</th>\n",
       "      <th>fips_code</th>\n",
       "      <th>date</th>\n",
       "      <th>cases_per_100K</th>\n",
       "      <th>community_transmission_level</th>\n",
       "    </tr>\n",
       "  </thead>\n",
       "  <tbody>\n",
       "  </tbody>\n",
       "</table>\n",
       "</div>"
      ],
      "text/plain": [
       "Empty DataFrame\n",
       "Columns: [state_name, county_name, fips_code, date, cases_per_100K, community_transmission_level]\n",
       "Index: []"
      ]
     },
     "execution_count": 79,
     "metadata": {},
     "output_type": "execute_result"
    }
   ],
   "source": [
    "COVID_cases_dups"
   ]
  },
  {
   "cell_type": "markdown",
   "id": "029f31c0",
   "metadata": {},
   "source": [
    "No duplicates"
   ]
  },
  {
   "cell_type": "markdown",
   "id": "6238eca6",
   "metadata": {},
   "source": [
    "### Check for Mixed Types"
   ]
  },
  {
   "cell_type": "code",
   "execution_count": 80,
   "id": "0f722622",
   "metadata": {},
   "outputs": [],
   "source": [
    "# Check for mixed types\n",
    "for col in COVID_cases_4.columns.tolist():\n",
    "    weird = (COVID_cases_4[[col]].applymap(type) != COVID_cases_4[[col]].iloc[0].apply(type)).any(axis = 1) \n",
    "    if len (COVID_cases_4[weird]) > 0:\n",
    "        print (col)"
   ]
  },
  {
   "cell_type": "markdown",
   "id": "3fd584e2",
   "metadata": {},
   "source": [
    "No mixed types"
   ]
  },
  {
   "cell_type": "code",
   "execution_count": 81,
   "id": "5e2deecf",
   "metadata": {},
   "outputs": [],
   "source": [
    "#Download cleaned data\n",
    "COVID_cases_4.to_csv(os.path.join(path, 'COVID_cases_per_100K.csv'))"
   ]
  },
  {
   "cell_type": "markdown",
   "id": "a259fe3a",
   "metadata": {},
   "source": [
    "### Derive New Variables"
   ]
  },
  {
   "cell_type": "markdown",
   "id": "b6776717",
   "metadata": {},
   "source": [
    "#### Add +14, +30, +60 Day Columns"
   ]
  },
  {
   "cell_type": "markdown",
   "id": "b2de2845",
   "metadata": {},
   "source": [
    "A major premise of this project is determining how mask and stay at home mandates impacted COVID cases and deaths. Since COVID has a 14 day incubation period, a column that adds 14, 30, and 60 days to the date of the mandate is important to track the effectiveness of the mandates. A new DF will create the new variable, and then they will be merged."
   ]
  },
  {
   "cell_type": "code",
   "execution_count": 30,
   "id": "759f8a95",
   "metadata": {},
   "outputs": [],
   "source": [
    "# Import Timedelta\n",
    "from datetime import timedelta"
   ]
  },
  {
   "cell_type": "code",
   "execution_count": 31,
   "id": "4a30cd7d",
   "metadata": {},
   "outputs": [],
   "source": [
    "# Duplicate DF for later variable creation\n",
    "COVID_cases_5 = COVID_cases_4"
   ]
  },
  {
   "cell_type": "code",
   "execution_count": 32,
   "id": "94f91c37",
   "metadata": {},
   "outputs": [
    {
     "data": {
      "text/html": [
       "<div>\n",
       "<style scoped>\n",
       "    .dataframe tbody tr th:only-of-type {\n",
       "        vertical-align: middle;\n",
       "    }\n",
       "\n",
       "    .dataframe tbody tr th {\n",
       "        vertical-align: top;\n",
       "    }\n",
       "\n",
       "    .dataframe thead th {\n",
       "        text-align: right;\n",
       "    }\n",
       "</style>\n",
       "<table border=\"1\" class=\"dataframe\">\n",
       "  <thead>\n",
       "    <tr style=\"text-align: right;\">\n",
       "      <th></th>\n",
       "      <th>state_name</th>\n",
       "      <th>county_name</th>\n",
       "      <th>fips_code</th>\n",
       "      <th>date</th>\n",
       "      <th>cases_per_100K</th>\n",
       "      <th>community_transmission_level</th>\n",
       "    </tr>\n",
       "  </thead>\n",
       "  <tbody>\n",
       "    <tr>\n",
       "      <th>8</th>\n",
       "      <td>Kansas</td>\n",
       "      <td>Riley County</td>\n",
       "      <td>20161</td>\n",
       "      <td>2020-07-04</td>\n",
       "      <td>119.894</td>\n",
       "      <td>high</td>\n",
       "    </tr>\n",
       "    <tr>\n",
       "      <th>9</th>\n",
       "      <td>Indiana</td>\n",
       "      <td>Posey County</td>\n",
       "      <td>18129</td>\n",
       "      <td>2020-07-04</td>\n",
       "      <td>39.328</td>\n",
       "      <td>moderate</td>\n",
       "    </tr>\n",
       "    <tr>\n",
       "      <th>10</th>\n",
       "      <td>Georgia</td>\n",
       "      <td>Hart County</td>\n",
       "      <td>13147</td>\n",
       "      <td>2020-07-04</td>\n",
       "      <td>95.402</td>\n",
       "      <td>high</td>\n",
       "    </tr>\n",
       "    <tr>\n",
       "      <th>11</th>\n",
       "      <td>New Jersey</td>\n",
       "      <td>Ocean County</td>\n",
       "      <td>34029</td>\n",
       "      <td>2020-07-04</td>\n",
       "      <td>24.704</td>\n",
       "      <td>moderate</td>\n",
       "    </tr>\n",
       "    <tr>\n",
       "      <th>12</th>\n",
       "      <td>Florida</td>\n",
       "      <td>Lee County</td>\n",
       "      <td>12071</td>\n",
       "      <td>2020-07-04</td>\n",
       "      <td>293.157</td>\n",
       "      <td>high</td>\n",
       "    </tr>\n",
       "  </tbody>\n",
       "</table>\n",
       "</div>"
      ],
      "text/plain": [
       "    state_name   county_name  fips_code       date  cases_per_100K  \\\n",
       "8       Kansas  Riley County      20161 2020-07-04         119.894   \n",
       "9      Indiana  Posey County      18129 2020-07-04          39.328   \n",
       "10     Georgia   Hart County      13147 2020-07-04          95.402   \n",
       "11  New Jersey  Ocean County      34029 2020-07-04          24.704   \n",
       "12     Florida    Lee County      12071 2020-07-04         293.157   \n",
       "\n",
       "   community_transmission_level  \n",
       "8                          high  \n",
       "9                      moderate  \n",
       "10                         high  \n",
       "11                     moderate  \n",
       "12                         high  "
      ]
     },
     "execution_count": 32,
     "metadata": {},
     "output_type": "execute_result"
    }
   ],
   "source": [
    "COVID_cases_5.head(5)"
   ]
  },
  {
   "cell_type": "markdown",
   "id": "a6f795b5",
   "metadata": {},
   "source": [
    "#### +14 Day Variable"
   ]
  },
  {
   "cell_type": "code",
   "execution_count": 33,
   "id": "afa3bec7",
   "metadata": {},
   "outputs": [
    {
     "name": "stderr",
     "output_type": "stream",
     "text": [
      "/var/folders/5y/s1_zpnxx04z7kvvp3b6fff9w0000gn/T/ipykernel_38510/3857559804.py:2: SettingWithCopyWarning: \n",
      "A value is trying to be set on a copy of a slice from a DataFrame.\n",
      "Try using .loc[row_indexer,col_indexer] = value instead\n",
      "\n",
      "See the caveats in the documentation: https://pandas.pydata.org/pandas-docs/stable/user_guide/indexing.html#returning-a-view-versus-a-copy\n",
      "  COVID_cases_5['plus_14_days'] = COVID_cases_5['date'] + timedelta(days=14)\n"
     ]
    }
   ],
   "source": [
    "# Create new column for +14 days\n",
    "COVID_cases_5['plus_14_days'] = COVID_cases_5['date'] + timedelta(days=14)"
   ]
  },
  {
   "cell_type": "markdown",
   "id": "782cd08a",
   "metadata": {},
   "source": [
    "# START HERE - FIGURE OUT HOW TO POPULATE THE +14 COLUMN with 100K VALUE from that date"
   ]
  },
  {
   "cell_type": "code",
   "execution_count": 44,
   "id": "93be1f78",
   "metadata": {},
   "outputs": [
    {
     "name": "stdout",
     "output_type": "stream",
     "text": [
      "<class 'pandas.core.frame.DataFrame'>\n",
      "Int64Index: 799056 entries, 8 to 1112415\n",
      "Data columns (total 7 columns):\n",
      " #   Column                        Non-Null Count   Dtype         \n",
      "---  ------                        --------------   -----         \n",
      " 0   state_name                    799056 non-null  object        \n",
      " 1   county_name                   799056 non-null  object        \n",
      " 2   fips_code                     799056 non-null  int64         \n",
      " 3   date                          799056 non-null  datetime64[ns]\n",
      " 4   cases_per_100K                579930 non-null  float64       \n",
      " 5   community_transmission_level  799056 non-null  object        \n",
      " 6   plus_14_days                  799056 non-null  datetime64[ns]\n",
      "dtypes: datetime64[ns](2), float64(1), int64(1), object(3)\n",
      "memory usage: 64.9+ MB\n"
     ]
    }
   ],
   "source": [
    "COVID_cases_5.info()"
   ]
  },
  {
   "cell_type": "code",
   "execution_count": 34,
   "id": "7ea24910",
   "metadata": {},
   "outputs": [
    {
     "data": {
      "text/html": [
       "<div>\n",
       "<style scoped>\n",
       "    .dataframe tbody tr th:only-of-type {\n",
       "        vertical-align: middle;\n",
       "    }\n",
       "\n",
       "    .dataframe tbody tr th {\n",
       "        vertical-align: top;\n",
       "    }\n",
       "\n",
       "    .dataframe thead th {\n",
       "        text-align: right;\n",
       "    }\n",
       "</style>\n",
       "<table border=\"1\" class=\"dataframe\">\n",
       "  <thead>\n",
       "    <tr style=\"text-align: right;\">\n",
       "      <th></th>\n",
       "      <th>state_name</th>\n",
       "      <th>county_name</th>\n",
       "      <th>fips_code</th>\n",
       "      <th>date</th>\n",
       "      <th>cases_per_100K</th>\n",
       "      <th>community_transmission_level</th>\n",
       "      <th>plus_14_days</th>\n",
       "    </tr>\n",
       "  </thead>\n",
       "  <tbody>\n",
       "    <tr>\n",
       "      <th>8</th>\n",
       "      <td>Kansas</td>\n",
       "      <td>Riley County</td>\n",
       "      <td>20161</td>\n",
       "      <td>2020-07-04</td>\n",
       "      <td>119.894</td>\n",
       "      <td>high</td>\n",
       "      <td>2020-07-18</td>\n",
       "    </tr>\n",
       "    <tr>\n",
       "      <th>9</th>\n",
       "      <td>Indiana</td>\n",
       "      <td>Posey County</td>\n",
       "      <td>18129</td>\n",
       "      <td>2020-07-04</td>\n",
       "      <td>39.328</td>\n",
       "      <td>moderate</td>\n",
       "      <td>2020-07-18</td>\n",
       "    </tr>\n",
       "    <tr>\n",
       "      <th>10</th>\n",
       "      <td>Georgia</td>\n",
       "      <td>Hart County</td>\n",
       "      <td>13147</td>\n",
       "      <td>2020-07-04</td>\n",
       "      <td>95.402</td>\n",
       "      <td>high</td>\n",
       "      <td>2020-07-18</td>\n",
       "    </tr>\n",
       "  </tbody>\n",
       "</table>\n",
       "</div>"
      ],
      "text/plain": [
       "   state_name   county_name  fips_code       date  cases_per_100K  \\\n",
       "8      Kansas  Riley County      20161 2020-07-04         119.894   \n",
       "9     Indiana  Posey County      18129 2020-07-04          39.328   \n",
       "10    Georgia   Hart County      13147 2020-07-04          95.402   \n",
       "\n",
       "   community_transmission_level plus_14_days  \n",
       "8                          high   2020-07-18  \n",
       "9                      moderate   2020-07-18  \n",
       "10                         high   2020-07-18  "
      ]
     },
     "execution_count": 34,
     "metadata": {},
     "output_type": "execute_result"
    }
   ],
   "source": [
    "COVID_cases_5.head(3)"
   ]
  },
  {
   "cell_type": "code",
   "execution_count": null,
   "id": "6b69e869",
   "metadata": {},
   "outputs": [],
   "source": [
    "df['value2'] = np.where(df['condition'].ge(0),0,df['value'])"
   ]
  },
  {
   "cell_type": "code",
   "execution_count": 49,
   "id": "d3aac451",
   "metadata": {},
   "outputs": [
    {
     "ename": "TypeError",
     "evalue": "Invalid comparison between dtype=datetime64[ns] and int",
     "output_type": "error",
     "traceback": [
      "\u001b[0;31m---------------------------------------------------------------------------\u001b[0m",
      "\u001b[0;31mInvalidComparison\u001b[0m                         Traceback (most recent call last)",
      "\u001b[0;32m~/opt/anaconda3/lib/python3.9/site-packages/pandas/core/arrays/datetimelike.py\u001b[0m in \u001b[0;36m_cmp_method\u001b[0;34m(self, other, op)\u001b[0m\n\u001b[1;32m   1007\u001b[0m         \u001b[0;32mtry\u001b[0m\u001b[0;34m:\u001b[0m\u001b[0;34m\u001b[0m\u001b[0;34m\u001b[0m\u001b[0m\n\u001b[0;32m-> 1008\u001b[0;31m             \u001b[0mother\u001b[0m \u001b[0;34m=\u001b[0m \u001b[0mself\u001b[0m\u001b[0;34m.\u001b[0m\u001b[0m_validate_comparison_value\u001b[0m\u001b[0;34m(\u001b[0m\u001b[0mother\u001b[0m\u001b[0;34m)\u001b[0m\u001b[0;34m\u001b[0m\u001b[0;34m\u001b[0m\u001b[0m\n\u001b[0m\u001b[1;32m   1009\u001b[0m         \u001b[0;32mexcept\u001b[0m \u001b[0mInvalidComparison\u001b[0m\u001b[0;34m:\u001b[0m\u001b[0;34m\u001b[0m\u001b[0;34m\u001b[0m\u001b[0m\n",
      "\u001b[0;32m~/opt/anaconda3/lib/python3.9/site-packages/pandas/core/arrays/datetimelike.py\u001b[0m in \u001b[0;36m_validate_comparison_value\u001b[0;34m(self, other)\u001b[0m\n\u001b[1;32m    545\u001b[0m         \u001b[0;32melif\u001b[0m \u001b[0;32mnot\u001b[0m \u001b[0mis_list_like\u001b[0m\u001b[0;34m(\u001b[0m\u001b[0mother\u001b[0m\u001b[0;34m)\u001b[0m\u001b[0;34m:\u001b[0m\u001b[0;34m\u001b[0m\u001b[0;34m\u001b[0m\u001b[0m\n\u001b[0;32m--> 546\u001b[0;31m             \u001b[0;32mraise\u001b[0m \u001b[0mInvalidComparison\u001b[0m\u001b[0;34m(\u001b[0m\u001b[0mother\u001b[0m\u001b[0;34m)\u001b[0m\u001b[0;34m\u001b[0m\u001b[0;34m\u001b[0m\u001b[0m\n\u001b[0m\u001b[1;32m    547\u001b[0m \u001b[0;34m\u001b[0m\u001b[0m\n",
      "\u001b[0;31mInvalidComparison\u001b[0m: 0",
      "\nDuring handling of the above exception, another exception occurred:\n",
      "\u001b[0;31mTypeError\u001b[0m                                 Traceback (most recent call last)",
      "\u001b[0;32m/var/folders/5y/s1_zpnxx04z7kvvp3b6fff9w0000gn/T/ipykernel_38510/630869153.py\u001b[0m in \u001b[0;36m<module>\u001b[0;34m\u001b[0m\n\u001b[0;32m----> 1\u001b[0;31m \u001b[0mCOVID_cases_6\u001b[0m\u001b[0;34m[\u001b[0m\u001b[0;34m'100K_+14'\u001b[0m\u001b[0;34m]\u001b[0m \u001b[0;34m=\u001b[0m \u001b[0mnp\u001b[0m\u001b[0;34m.\u001b[0m\u001b[0mwhere\u001b[0m\u001b[0;34m(\u001b[0m\u001b[0mCOVID_cases_5\u001b[0m\u001b[0;34m[\u001b[0m\u001b[0;34m'date'\u001b[0m\u001b[0;34m]\u001b[0m \u001b[0;34m==\u001b[0m \u001b[0mCOVID_cases_5\u001b[0m\u001b[0;34m[\u001b[0m\u001b[0;34m'plus_14_days'\u001b[0m\u001b[0;34m]\u001b[0m\u001b[0;34m.\u001b[0m\u001b[0mge\u001b[0m\u001b[0;34m(\u001b[0m\u001b[0;36m0\u001b[0m\u001b[0;34m)\u001b[0m\u001b[0;34m,\u001b[0m\u001b[0;36m0\u001b[0m\u001b[0;34m,\u001b[0m\u001b[0mCOVID_cases_5\u001b[0m\u001b[0;34m[\u001b[0m\u001b[0;34m'cases_per_100K'\u001b[0m\u001b[0;34m]\u001b[0m\u001b[0;34m)\u001b[0m\u001b[0;34m\u001b[0m\u001b[0;34m\u001b[0m\u001b[0m\n\u001b[0m",
      "\u001b[0;32m~/opt/anaconda3/lib/python3.9/site-packages/pandas/core/ops/__init__.py\u001b[0m in \u001b[0;36mflex_wrapper\u001b[0;34m(self, other, level, fill_value, axis)\u001b[0m\n\u001b[1;32m    194\u001b[0m                 \u001b[0mself\u001b[0m \u001b[0;34m=\u001b[0m \u001b[0mself\u001b[0m\u001b[0;34m.\u001b[0m\u001b[0mfillna\u001b[0m\u001b[0;34m(\u001b[0m\u001b[0mfill_value\u001b[0m\u001b[0;34m)\u001b[0m\u001b[0;34m\u001b[0m\u001b[0;34m\u001b[0m\u001b[0m\n\u001b[1;32m    195\u001b[0m \u001b[0;34m\u001b[0m\u001b[0m\n\u001b[0;32m--> 196\u001b[0;31m             \u001b[0;32mreturn\u001b[0m \u001b[0mop\u001b[0m\u001b[0;34m(\u001b[0m\u001b[0mself\u001b[0m\u001b[0;34m,\u001b[0m \u001b[0mother\u001b[0m\u001b[0;34m)\u001b[0m\u001b[0;34m\u001b[0m\u001b[0;34m\u001b[0m\u001b[0m\n\u001b[0m\u001b[1;32m    197\u001b[0m \u001b[0;34m\u001b[0m\u001b[0m\n\u001b[1;32m    198\u001b[0m     \u001b[0mflex_wrapper\u001b[0m\u001b[0;34m.\u001b[0m\u001b[0m__name__\u001b[0m \u001b[0;34m=\u001b[0m \u001b[0mname\u001b[0m\u001b[0;34m\u001b[0m\u001b[0;34m\u001b[0m\u001b[0m\n",
      "\u001b[0;32m~/opt/anaconda3/lib/python3.9/site-packages/pandas/core/ops/common.py\u001b[0m in \u001b[0;36mnew_method\u001b[0;34m(self, other)\u001b[0m\n\u001b[1;32m     67\u001b[0m         \u001b[0mother\u001b[0m \u001b[0;34m=\u001b[0m \u001b[0mitem_from_zerodim\u001b[0m\u001b[0;34m(\u001b[0m\u001b[0mother\u001b[0m\u001b[0;34m)\u001b[0m\u001b[0;34m\u001b[0m\u001b[0;34m\u001b[0m\u001b[0m\n\u001b[1;32m     68\u001b[0m \u001b[0;34m\u001b[0m\u001b[0m\n\u001b[0;32m---> 69\u001b[0;31m         \u001b[0;32mreturn\u001b[0m \u001b[0mmethod\u001b[0m\u001b[0;34m(\u001b[0m\u001b[0mself\u001b[0m\u001b[0;34m,\u001b[0m \u001b[0mother\u001b[0m\u001b[0;34m)\u001b[0m\u001b[0;34m\u001b[0m\u001b[0;34m\u001b[0m\u001b[0m\n\u001b[0m\u001b[1;32m     70\u001b[0m \u001b[0;34m\u001b[0m\u001b[0m\n\u001b[1;32m     71\u001b[0m     \u001b[0;32mreturn\u001b[0m \u001b[0mnew_method\u001b[0m\u001b[0;34m\u001b[0m\u001b[0;34m\u001b[0m\u001b[0m\n",
      "\u001b[0;32m~/opt/anaconda3/lib/python3.9/site-packages/pandas/core/arraylike.py\u001b[0m in \u001b[0;36m__ge__\u001b[0;34m(self, other)\u001b[0m\n\u001b[1;32m     50\u001b[0m     \u001b[0;34m@\u001b[0m\u001b[0munpack_zerodim_and_defer\u001b[0m\u001b[0;34m(\u001b[0m\u001b[0;34m\"__ge__\"\u001b[0m\u001b[0;34m)\u001b[0m\u001b[0;34m\u001b[0m\u001b[0;34m\u001b[0m\u001b[0m\n\u001b[1;32m     51\u001b[0m     \u001b[0;32mdef\u001b[0m \u001b[0m__ge__\u001b[0m\u001b[0;34m(\u001b[0m\u001b[0mself\u001b[0m\u001b[0;34m,\u001b[0m \u001b[0mother\u001b[0m\u001b[0;34m)\u001b[0m\u001b[0;34m:\u001b[0m\u001b[0;34m\u001b[0m\u001b[0;34m\u001b[0m\u001b[0m\n\u001b[0;32m---> 52\u001b[0;31m         \u001b[0;32mreturn\u001b[0m \u001b[0mself\u001b[0m\u001b[0;34m.\u001b[0m\u001b[0m_cmp_method\u001b[0m\u001b[0;34m(\u001b[0m\u001b[0mother\u001b[0m\u001b[0;34m,\u001b[0m \u001b[0moperator\u001b[0m\u001b[0;34m.\u001b[0m\u001b[0mge\u001b[0m\u001b[0;34m)\u001b[0m\u001b[0;34m\u001b[0m\u001b[0;34m\u001b[0m\u001b[0m\n\u001b[0m\u001b[1;32m     53\u001b[0m \u001b[0;34m\u001b[0m\u001b[0m\n\u001b[1;32m     54\u001b[0m     \u001b[0;31m# -------------------------------------------------------------\u001b[0m\u001b[0;34m\u001b[0m\u001b[0;34m\u001b[0m\u001b[0m\n",
      "\u001b[0;32m~/opt/anaconda3/lib/python3.9/site-packages/pandas/core/series.py\u001b[0m in \u001b[0;36m_cmp_method\u001b[0;34m(self, other, op)\u001b[0m\n\u001b[1;32m   5500\u001b[0m \u001b[0;34m\u001b[0m\u001b[0m\n\u001b[1;32m   5501\u001b[0m         \u001b[0;32mwith\u001b[0m \u001b[0mnp\u001b[0m\u001b[0;34m.\u001b[0m\u001b[0merrstate\u001b[0m\u001b[0;34m(\u001b[0m\u001b[0mall\u001b[0m\u001b[0;34m=\u001b[0m\u001b[0;34m\"ignore\"\u001b[0m\u001b[0;34m)\u001b[0m\u001b[0;34m:\u001b[0m\u001b[0;34m\u001b[0m\u001b[0;34m\u001b[0m\u001b[0m\n\u001b[0;32m-> 5502\u001b[0;31m             \u001b[0mres_values\u001b[0m \u001b[0;34m=\u001b[0m \u001b[0mops\u001b[0m\u001b[0;34m.\u001b[0m\u001b[0mcomparison_op\u001b[0m\u001b[0;34m(\u001b[0m\u001b[0mlvalues\u001b[0m\u001b[0;34m,\u001b[0m \u001b[0mrvalues\u001b[0m\u001b[0;34m,\u001b[0m \u001b[0mop\u001b[0m\u001b[0;34m)\u001b[0m\u001b[0;34m\u001b[0m\u001b[0;34m\u001b[0m\u001b[0m\n\u001b[0m\u001b[1;32m   5503\u001b[0m \u001b[0;34m\u001b[0m\u001b[0m\n\u001b[1;32m   5504\u001b[0m         \u001b[0;32mreturn\u001b[0m \u001b[0mself\u001b[0m\u001b[0;34m.\u001b[0m\u001b[0m_construct_result\u001b[0m\u001b[0;34m(\u001b[0m\u001b[0mres_values\u001b[0m\u001b[0;34m,\u001b[0m \u001b[0mname\u001b[0m\u001b[0;34m=\u001b[0m\u001b[0mres_name\u001b[0m\u001b[0;34m)\u001b[0m\u001b[0;34m\u001b[0m\u001b[0;34m\u001b[0m\u001b[0m\n",
      "\u001b[0;32m~/opt/anaconda3/lib/python3.9/site-packages/pandas/core/ops/array_ops.py\u001b[0m in \u001b[0;36mcomparison_op\u001b[0;34m(left, right, op)\u001b[0m\n\u001b[1;32m    268\u001b[0m     ):\n\u001b[1;32m    269\u001b[0m         \u001b[0;31m# Call the method on lvalues\u001b[0m\u001b[0;34m\u001b[0m\u001b[0;34m\u001b[0m\u001b[0m\n\u001b[0;32m--> 270\u001b[0;31m         \u001b[0mres_values\u001b[0m \u001b[0;34m=\u001b[0m \u001b[0mop\u001b[0m\u001b[0;34m(\u001b[0m\u001b[0mlvalues\u001b[0m\u001b[0;34m,\u001b[0m \u001b[0mrvalues\u001b[0m\u001b[0;34m)\u001b[0m\u001b[0;34m\u001b[0m\u001b[0;34m\u001b[0m\u001b[0m\n\u001b[0m\u001b[1;32m    271\u001b[0m \u001b[0;34m\u001b[0m\u001b[0m\n\u001b[1;32m    272\u001b[0m     \u001b[0;32melif\u001b[0m \u001b[0mis_scalar\u001b[0m\u001b[0;34m(\u001b[0m\u001b[0mrvalues\u001b[0m\u001b[0;34m)\u001b[0m \u001b[0;32mand\u001b[0m \u001b[0misna\u001b[0m\u001b[0;34m(\u001b[0m\u001b[0mrvalues\u001b[0m\u001b[0;34m)\u001b[0m\u001b[0;34m:\u001b[0m\u001b[0;34m\u001b[0m\u001b[0;34m\u001b[0m\u001b[0m\n",
      "\u001b[0;32m~/opt/anaconda3/lib/python3.9/site-packages/pandas/core/ops/common.py\u001b[0m in \u001b[0;36mnew_method\u001b[0;34m(self, other)\u001b[0m\n\u001b[1;32m     67\u001b[0m         \u001b[0mother\u001b[0m \u001b[0;34m=\u001b[0m \u001b[0mitem_from_zerodim\u001b[0m\u001b[0;34m(\u001b[0m\u001b[0mother\u001b[0m\u001b[0;34m)\u001b[0m\u001b[0;34m\u001b[0m\u001b[0;34m\u001b[0m\u001b[0m\n\u001b[1;32m     68\u001b[0m \u001b[0;34m\u001b[0m\u001b[0m\n\u001b[0;32m---> 69\u001b[0;31m         \u001b[0;32mreturn\u001b[0m \u001b[0mmethod\u001b[0m\u001b[0;34m(\u001b[0m\u001b[0mself\u001b[0m\u001b[0;34m,\u001b[0m \u001b[0mother\u001b[0m\u001b[0;34m)\u001b[0m\u001b[0;34m\u001b[0m\u001b[0;34m\u001b[0m\u001b[0m\n\u001b[0m\u001b[1;32m     70\u001b[0m \u001b[0;34m\u001b[0m\u001b[0m\n\u001b[1;32m     71\u001b[0m     \u001b[0;32mreturn\u001b[0m \u001b[0mnew_method\u001b[0m\u001b[0;34m\u001b[0m\u001b[0;34m\u001b[0m\u001b[0m\n",
      "\u001b[0;32m~/opt/anaconda3/lib/python3.9/site-packages/pandas/core/arraylike.py\u001b[0m in \u001b[0;36m__ge__\u001b[0;34m(self, other)\u001b[0m\n\u001b[1;32m     50\u001b[0m     \u001b[0;34m@\u001b[0m\u001b[0munpack_zerodim_and_defer\u001b[0m\u001b[0;34m(\u001b[0m\u001b[0;34m\"__ge__\"\u001b[0m\u001b[0;34m)\u001b[0m\u001b[0;34m\u001b[0m\u001b[0;34m\u001b[0m\u001b[0m\n\u001b[1;32m     51\u001b[0m     \u001b[0;32mdef\u001b[0m \u001b[0m__ge__\u001b[0m\u001b[0;34m(\u001b[0m\u001b[0mself\u001b[0m\u001b[0;34m,\u001b[0m \u001b[0mother\u001b[0m\u001b[0;34m)\u001b[0m\u001b[0;34m:\u001b[0m\u001b[0;34m\u001b[0m\u001b[0;34m\u001b[0m\u001b[0m\n\u001b[0;32m---> 52\u001b[0;31m         \u001b[0;32mreturn\u001b[0m \u001b[0mself\u001b[0m\u001b[0;34m.\u001b[0m\u001b[0m_cmp_method\u001b[0m\u001b[0;34m(\u001b[0m\u001b[0mother\u001b[0m\u001b[0;34m,\u001b[0m \u001b[0moperator\u001b[0m\u001b[0;34m.\u001b[0m\u001b[0mge\u001b[0m\u001b[0;34m)\u001b[0m\u001b[0;34m\u001b[0m\u001b[0;34m\u001b[0m\u001b[0m\n\u001b[0m\u001b[1;32m     53\u001b[0m \u001b[0;34m\u001b[0m\u001b[0m\n\u001b[1;32m     54\u001b[0m     \u001b[0;31m# -------------------------------------------------------------\u001b[0m\u001b[0;34m\u001b[0m\u001b[0;34m\u001b[0m\u001b[0m\n",
      "\u001b[0;32m~/opt/anaconda3/lib/python3.9/site-packages/pandas/core/arrays/datetimelike.py\u001b[0m in \u001b[0;36m_cmp_method\u001b[0;34m(self, other, op)\u001b[0m\n\u001b[1;32m   1008\u001b[0m             \u001b[0mother\u001b[0m \u001b[0;34m=\u001b[0m \u001b[0mself\u001b[0m\u001b[0;34m.\u001b[0m\u001b[0m_validate_comparison_value\u001b[0m\u001b[0;34m(\u001b[0m\u001b[0mother\u001b[0m\u001b[0;34m)\u001b[0m\u001b[0;34m\u001b[0m\u001b[0;34m\u001b[0m\u001b[0m\n\u001b[1;32m   1009\u001b[0m         \u001b[0;32mexcept\u001b[0m \u001b[0mInvalidComparison\u001b[0m\u001b[0;34m:\u001b[0m\u001b[0;34m\u001b[0m\u001b[0;34m\u001b[0m\u001b[0m\n\u001b[0;32m-> 1010\u001b[0;31m             \u001b[0;32mreturn\u001b[0m \u001b[0minvalid_comparison\u001b[0m\u001b[0;34m(\u001b[0m\u001b[0mself\u001b[0m\u001b[0;34m,\u001b[0m \u001b[0mother\u001b[0m\u001b[0;34m,\u001b[0m \u001b[0mop\u001b[0m\u001b[0;34m)\u001b[0m\u001b[0;34m\u001b[0m\u001b[0;34m\u001b[0m\u001b[0m\n\u001b[0m\u001b[1;32m   1011\u001b[0m \u001b[0;34m\u001b[0m\u001b[0m\n\u001b[1;32m   1012\u001b[0m         \u001b[0mdtype\u001b[0m \u001b[0;34m=\u001b[0m \u001b[0mgetattr\u001b[0m\u001b[0;34m(\u001b[0m\u001b[0mother\u001b[0m\u001b[0;34m,\u001b[0m \u001b[0;34m\"dtype\"\u001b[0m\u001b[0;34m,\u001b[0m \u001b[0;32mNone\u001b[0m\u001b[0;34m)\u001b[0m\u001b[0;34m\u001b[0m\u001b[0;34m\u001b[0m\u001b[0m\n",
      "\u001b[0;32m~/opt/anaconda3/lib/python3.9/site-packages/pandas/core/ops/invalid.py\u001b[0m in \u001b[0;36minvalid_comparison\u001b[0;34m(left, right, op)\u001b[0m\n\u001b[1;32m     32\u001b[0m     \u001b[0;32melse\u001b[0m\u001b[0;34m:\u001b[0m\u001b[0;34m\u001b[0m\u001b[0;34m\u001b[0m\u001b[0m\n\u001b[1;32m     33\u001b[0m         \u001b[0mtyp\u001b[0m \u001b[0;34m=\u001b[0m \u001b[0mtype\u001b[0m\u001b[0;34m(\u001b[0m\u001b[0mright\u001b[0m\u001b[0;34m)\u001b[0m\u001b[0;34m.\u001b[0m\u001b[0m__name__\u001b[0m\u001b[0;34m\u001b[0m\u001b[0;34m\u001b[0m\u001b[0m\n\u001b[0;32m---> 34\u001b[0;31m         \u001b[0;32mraise\u001b[0m \u001b[0mTypeError\u001b[0m\u001b[0;34m(\u001b[0m\u001b[0;34mf\"Invalid comparison between dtype={left.dtype} and {typ}\"\u001b[0m\u001b[0;34m)\u001b[0m\u001b[0;34m\u001b[0m\u001b[0;34m\u001b[0m\u001b[0m\n\u001b[0m\u001b[1;32m     35\u001b[0m     \u001b[0;32mreturn\u001b[0m \u001b[0mres_values\u001b[0m\u001b[0;34m\u001b[0m\u001b[0;34m\u001b[0m\u001b[0m\n\u001b[1;32m     36\u001b[0m \u001b[0;34m\u001b[0m\u001b[0m\n",
      "\u001b[0;31mTypeError\u001b[0m: Invalid comparison between dtype=datetime64[ns] and int"
     ]
    }
   ],
   "source": [
    "COVID_cases_6['100K_+14'] = np.where(COVID_cases_5['date'] == COVID_cases_5['plus_14_days'].ge(0),0,COVID_cases_5['cases_per_100K'])"
   ]
  },
  {
   "cell_type": "code",
   "execution_count": 47,
   "id": "e9ef529e",
   "metadata": {},
   "outputs": [
    {
     "ename": "ValueError",
     "evalue": "either both or neither of x and y should be given",
     "output_type": "error",
     "traceback": [
      "\u001b[0;31m---------------------------------------------------------------------------\u001b[0m",
      "\u001b[0;31mValueError\u001b[0m                                Traceback (most recent call last)",
      "\u001b[0;32m/var/folders/5y/s1_zpnxx04z7kvvp3b6fff9w0000gn/T/ipykernel_38510/732083642.py\u001b[0m in \u001b[0;36m<module>\u001b[0;34m\u001b[0m\n\u001b[0;32m----> 1\u001b[0;31m \u001b[0mCOVID_cases_6\u001b[0m\u001b[0;34m[\u001b[0m\u001b[0;34m'100K_+14'\u001b[0m\u001b[0;34m]\u001b[0m \u001b[0;34m=\u001b[0m \u001b[0mnp\u001b[0m\u001b[0;34m.\u001b[0m\u001b[0mwhere\u001b[0m\u001b[0;34m(\u001b[0m\u001b[0mCOVID_cases_5\u001b[0m\u001b[0;34m[\u001b[0m\u001b[0;34m'date'\u001b[0m\u001b[0;34m]\u001b[0m \u001b[0;34m==\u001b[0m \u001b[0mCOVID_cases_5\u001b[0m\u001b[0;34m[\u001b[0m\u001b[0;34m'plus_14_days'\u001b[0m\u001b[0;34m]\u001b[0m\u001b[0;34m,\u001b[0m \u001b[0mCOVID_cases_5\u001b[0m\u001b[0;34m[\u001b[0m\u001b[0;34m'cases_per_100K'\u001b[0m\u001b[0;34m]\u001b[0m\u001b[0;34m)\u001b[0m\u001b[0;34m\u001b[0m\u001b[0;34m\u001b[0m\u001b[0m\n\u001b[0m",
      "\u001b[0;32m<__array_function__ internals>\u001b[0m in \u001b[0;36mwhere\u001b[0;34m(*args, **kwargs)\u001b[0m\n",
      "\u001b[0;31mValueError\u001b[0m: either both or neither of x and y should be given"
     ]
    }
   ],
   "source": [
    "COVID_cases_6['100K_+14'] = np.where(COVID_cases_5['date'] == COVID_cases_5['plus_14_days'], COVID_cases_5['cases_per_100K'])"
   ]
  },
  {
   "cell_type": "code",
   "execution_count": null,
   "id": "2cad1d86",
   "metadata": {},
   "outputs": [],
   "source": [
    "np.where(df[\"Number\"] > 0.5, df[\"Country\"], \"\")\n",
    "\n",
    "COVID_cases_5['date'] == COVID_cases_5['plus_14.days']"
   ]
  },
  {
   "cell_type": "code",
   "execution_count": 43,
   "id": "09838c28",
   "metadata": {},
   "outputs": [
    {
     "ename": "KeyError",
     "evalue": "'plus_14.days'",
     "output_type": "error",
     "traceback": [
      "\u001b[0;31m---------------------------------------------------------------------------\u001b[0m",
      "\u001b[0;31mKeyError\u001b[0m                                  Traceback (most recent call last)",
      "\u001b[0;32m~/opt/anaconda3/lib/python3.9/site-packages/pandas/core/indexes/base.py\u001b[0m in \u001b[0;36mget_loc\u001b[0;34m(self, key, method, tolerance)\u001b[0m\n\u001b[1;32m   3360\u001b[0m             \u001b[0;32mtry\u001b[0m\u001b[0;34m:\u001b[0m\u001b[0;34m\u001b[0m\u001b[0;34m\u001b[0m\u001b[0m\n\u001b[0;32m-> 3361\u001b[0;31m                 \u001b[0;32mreturn\u001b[0m \u001b[0mself\u001b[0m\u001b[0;34m.\u001b[0m\u001b[0m_engine\u001b[0m\u001b[0;34m.\u001b[0m\u001b[0mget_loc\u001b[0m\u001b[0;34m(\u001b[0m\u001b[0mcasted_key\u001b[0m\u001b[0;34m)\u001b[0m\u001b[0;34m\u001b[0m\u001b[0;34m\u001b[0m\u001b[0m\n\u001b[0m\u001b[1;32m   3362\u001b[0m             \u001b[0;32mexcept\u001b[0m \u001b[0mKeyError\u001b[0m \u001b[0;32mas\u001b[0m \u001b[0merr\u001b[0m\u001b[0;34m:\u001b[0m\u001b[0;34m\u001b[0m\u001b[0;34m\u001b[0m\u001b[0m\n",
      "\u001b[0;32m~/opt/anaconda3/lib/python3.9/site-packages/pandas/_libs/index.pyx\u001b[0m in \u001b[0;36mpandas._libs.index.IndexEngine.get_loc\u001b[0;34m()\u001b[0m\n",
      "\u001b[0;32mpandas/_libs/index_class_helper.pxi\u001b[0m in \u001b[0;36mpandas._libs.index.Int64Engine._check_type\u001b[0;34m()\u001b[0m\n",
      "\u001b[0;32mpandas/_libs/index_class_helper.pxi\u001b[0m in \u001b[0;36mpandas._libs.index.Int64Engine._check_type\u001b[0;34m()\u001b[0m\n",
      "\u001b[0;31mKeyError\u001b[0m: 'plus_14.days'",
      "\nThe above exception was the direct cause of the following exception:\n",
      "\u001b[0;31mKeyError\u001b[0m                                  Traceback (most recent call last)",
      "\u001b[0;32m/var/folders/5y/s1_zpnxx04z7kvvp3b6fff9w0000gn/T/ipykernel_38510/2255446735.py\u001b[0m in \u001b[0;36m<module>\u001b[0;34m\u001b[0m\n\u001b[0;32m----> 1\u001b[0;31m \u001b[0mCOVID_cases_5\u001b[0m\u001b[0;34m.\u001b[0m\u001b[0mloc\u001b[0m\u001b[0;34m[\u001b[0m\u001b[0;34m'date'\u001b[0m\u001b[0;34m]\u001b[0m \u001b[0;34m=\u001b[0m \u001b[0mCOVID_cases_5\u001b[0m\u001b[0;34m.\u001b[0m\u001b[0mloc\u001b[0m\u001b[0;34m[\u001b[0m\u001b[0;34m'plus_14.days'\u001b[0m\u001b[0;34m]\u001b[0m\u001b[0;34m.\u001b[0m\u001b[0mvalues\u001b[0m\u001b[0;34m\u001b[0m\u001b[0;34m\u001b[0m\u001b[0m\n\u001b[0m",
      "\u001b[0;32m~/opt/anaconda3/lib/python3.9/site-packages/pandas/core/indexing.py\u001b[0m in \u001b[0;36m__getitem__\u001b[0;34m(self, key)\u001b[0m\n\u001b[1;32m    929\u001b[0m \u001b[0;34m\u001b[0m\u001b[0m\n\u001b[1;32m    930\u001b[0m             \u001b[0mmaybe_callable\u001b[0m \u001b[0;34m=\u001b[0m \u001b[0mcom\u001b[0m\u001b[0;34m.\u001b[0m\u001b[0mapply_if_callable\u001b[0m\u001b[0;34m(\u001b[0m\u001b[0mkey\u001b[0m\u001b[0;34m,\u001b[0m \u001b[0mself\u001b[0m\u001b[0;34m.\u001b[0m\u001b[0mobj\u001b[0m\u001b[0;34m)\u001b[0m\u001b[0;34m\u001b[0m\u001b[0;34m\u001b[0m\u001b[0m\n\u001b[0;32m--> 931\u001b[0;31m             \u001b[0;32mreturn\u001b[0m \u001b[0mself\u001b[0m\u001b[0;34m.\u001b[0m\u001b[0m_getitem_axis\u001b[0m\u001b[0;34m(\u001b[0m\u001b[0mmaybe_callable\u001b[0m\u001b[0;34m,\u001b[0m \u001b[0maxis\u001b[0m\u001b[0;34m=\u001b[0m\u001b[0maxis\u001b[0m\u001b[0;34m)\u001b[0m\u001b[0;34m\u001b[0m\u001b[0;34m\u001b[0m\u001b[0m\n\u001b[0m\u001b[1;32m    932\u001b[0m \u001b[0;34m\u001b[0m\u001b[0m\n\u001b[1;32m    933\u001b[0m     \u001b[0;32mdef\u001b[0m \u001b[0m_is_scalar_access\u001b[0m\u001b[0;34m(\u001b[0m\u001b[0mself\u001b[0m\u001b[0;34m,\u001b[0m \u001b[0mkey\u001b[0m\u001b[0;34m:\u001b[0m \u001b[0mtuple\u001b[0m\u001b[0;34m)\u001b[0m\u001b[0;34m:\u001b[0m\u001b[0;34m\u001b[0m\u001b[0;34m\u001b[0m\u001b[0m\n",
      "\u001b[0;32m~/opt/anaconda3/lib/python3.9/site-packages/pandas/core/indexing.py\u001b[0m in \u001b[0;36m_getitem_axis\u001b[0;34m(self, key, axis)\u001b[0m\n\u001b[1;32m   1162\u001b[0m         \u001b[0;31m# fall thru to straight lookup\u001b[0m\u001b[0;34m\u001b[0m\u001b[0;34m\u001b[0m\u001b[0m\n\u001b[1;32m   1163\u001b[0m         \u001b[0mself\u001b[0m\u001b[0;34m.\u001b[0m\u001b[0m_validate_key\u001b[0m\u001b[0;34m(\u001b[0m\u001b[0mkey\u001b[0m\u001b[0;34m,\u001b[0m \u001b[0maxis\u001b[0m\u001b[0;34m)\u001b[0m\u001b[0;34m\u001b[0m\u001b[0;34m\u001b[0m\u001b[0m\n\u001b[0;32m-> 1164\u001b[0;31m         \u001b[0;32mreturn\u001b[0m \u001b[0mself\u001b[0m\u001b[0;34m.\u001b[0m\u001b[0m_get_label\u001b[0m\u001b[0;34m(\u001b[0m\u001b[0mkey\u001b[0m\u001b[0;34m,\u001b[0m \u001b[0maxis\u001b[0m\u001b[0;34m=\u001b[0m\u001b[0maxis\u001b[0m\u001b[0;34m)\u001b[0m\u001b[0;34m\u001b[0m\u001b[0;34m\u001b[0m\u001b[0m\n\u001b[0m\u001b[1;32m   1165\u001b[0m \u001b[0;34m\u001b[0m\u001b[0m\n\u001b[1;32m   1166\u001b[0m     \u001b[0;32mdef\u001b[0m \u001b[0m_get_slice_axis\u001b[0m\u001b[0;34m(\u001b[0m\u001b[0mself\u001b[0m\u001b[0;34m,\u001b[0m \u001b[0mslice_obj\u001b[0m\u001b[0;34m:\u001b[0m \u001b[0mslice\u001b[0m\u001b[0;34m,\u001b[0m \u001b[0maxis\u001b[0m\u001b[0;34m:\u001b[0m \u001b[0mint\u001b[0m\u001b[0;34m)\u001b[0m\u001b[0;34m:\u001b[0m\u001b[0;34m\u001b[0m\u001b[0;34m\u001b[0m\u001b[0m\n",
      "\u001b[0;32m~/opt/anaconda3/lib/python3.9/site-packages/pandas/core/indexing.py\u001b[0m in \u001b[0;36m_get_label\u001b[0;34m(self, label, axis)\u001b[0m\n\u001b[1;32m   1111\u001b[0m     \u001b[0;32mdef\u001b[0m \u001b[0m_get_label\u001b[0m\u001b[0;34m(\u001b[0m\u001b[0mself\u001b[0m\u001b[0;34m,\u001b[0m \u001b[0mlabel\u001b[0m\u001b[0;34m,\u001b[0m \u001b[0maxis\u001b[0m\u001b[0;34m:\u001b[0m \u001b[0mint\u001b[0m\u001b[0;34m)\u001b[0m\u001b[0;34m:\u001b[0m\u001b[0;34m\u001b[0m\u001b[0;34m\u001b[0m\u001b[0m\n\u001b[1;32m   1112\u001b[0m         \u001b[0;31m# GH#5667 this will fail if the label is not present in the axis.\u001b[0m\u001b[0;34m\u001b[0m\u001b[0;34m\u001b[0m\u001b[0m\n\u001b[0;32m-> 1113\u001b[0;31m         \u001b[0;32mreturn\u001b[0m \u001b[0mself\u001b[0m\u001b[0;34m.\u001b[0m\u001b[0mobj\u001b[0m\u001b[0;34m.\u001b[0m\u001b[0mxs\u001b[0m\u001b[0;34m(\u001b[0m\u001b[0mlabel\u001b[0m\u001b[0;34m,\u001b[0m \u001b[0maxis\u001b[0m\u001b[0;34m=\u001b[0m\u001b[0maxis\u001b[0m\u001b[0;34m)\u001b[0m\u001b[0;34m\u001b[0m\u001b[0;34m\u001b[0m\u001b[0m\n\u001b[0m\u001b[1;32m   1114\u001b[0m \u001b[0;34m\u001b[0m\u001b[0m\n\u001b[1;32m   1115\u001b[0m     \u001b[0;32mdef\u001b[0m \u001b[0m_handle_lowerdim_multi_index_axis0\u001b[0m\u001b[0;34m(\u001b[0m\u001b[0mself\u001b[0m\u001b[0;34m,\u001b[0m \u001b[0mtup\u001b[0m\u001b[0;34m:\u001b[0m \u001b[0mtuple\u001b[0m\u001b[0;34m)\u001b[0m\u001b[0;34m:\u001b[0m\u001b[0;34m\u001b[0m\u001b[0;34m\u001b[0m\u001b[0m\n",
      "\u001b[0;32m~/opt/anaconda3/lib/python3.9/site-packages/pandas/core/generic.py\u001b[0m in \u001b[0;36mxs\u001b[0;34m(self, key, axis, level, drop_level)\u001b[0m\n\u001b[1;32m   3774\u001b[0m                 \u001b[0;32mraise\u001b[0m \u001b[0mTypeError\u001b[0m\u001b[0;34m(\u001b[0m\u001b[0;34mf\"Expected label or tuple of labels, got {key}\"\u001b[0m\u001b[0;34m)\u001b[0m \u001b[0;32mfrom\u001b[0m \u001b[0me\u001b[0m\u001b[0;34m\u001b[0m\u001b[0;34m\u001b[0m\u001b[0m\n\u001b[1;32m   3775\u001b[0m         \u001b[0;32melse\u001b[0m\u001b[0;34m:\u001b[0m\u001b[0;34m\u001b[0m\u001b[0;34m\u001b[0m\u001b[0m\n\u001b[0;32m-> 3776\u001b[0;31m             \u001b[0mloc\u001b[0m \u001b[0;34m=\u001b[0m \u001b[0mindex\u001b[0m\u001b[0;34m.\u001b[0m\u001b[0mget_loc\u001b[0m\u001b[0;34m(\u001b[0m\u001b[0mkey\u001b[0m\u001b[0;34m)\u001b[0m\u001b[0;34m\u001b[0m\u001b[0;34m\u001b[0m\u001b[0m\n\u001b[0m\u001b[1;32m   3777\u001b[0m \u001b[0;34m\u001b[0m\u001b[0m\n\u001b[1;32m   3778\u001b[0m             \u001b[0;32mif\u001b[0m \u001b[0misinstance\u001b[0m\u001b[0;34m(\u001b[0m\u001b[0mloc\u001b[0m\u001b[0;34m,\u001b[0m \u001b[0mnp\u001b[0m\u001b[0;34m.\u001b[0m\u001b[0mndarray\u001b[0m\u001b[0;34m)\u001b[0m\u001b[0;34m:\u001b[0m\u001b[0;34m\u001b[0m\u001b[0;34m\u001b[0m\u001b[0m\n",
      "\u001b[0;32m~/opt/anaconda3/lib/python3.9/site-packages/pandas/core/indexes/base.py\u001b[0m in \u001b[0;36mget_loc\u001b[0;34m(self, key, method, tolerance)\u001b[0m\n\u001b[1;32m   3361\u001b[0m                 \u001b[0;32mreturn\u001b[0m \u001b[0mself\u001b[0m\u001b[0;34m.\u001b[0m\u001b[0m_engine\u001b[0m\u001b[0;34m.\u001b[0m\u001b[0mget_loc\u001b[0m\u001b[0;34m(\u001b[0m\u001b[0mcasted_key\u001b[0m\u001b[0;34m)\u001b[0m\u001b[0;34m\u001b[0m\u001b[0;34m\u001b[0m\u001b[0m\n\u001b[1;32m   3362\u001b[0m             \u001b[0;32mexcept\u001b[0m \u001b[0mKeyError\u001b[0m \u001b[0;32mas\u001b[0m \u001b[0merr\u001b[0m\u001b[0;34m:\u001b[0m\u001b[0;34m\u001b[0m\u001b[0;34m\u001b[0m\u001b[0m\n\u001b[0;32m-> 3363\u001b[0;31m                 \u001b[0;32mraise\u001b[0m \u001b[0mKeyError\u001b[0m\u001b[0;34m(\u001b[0m\u001b[0mkey\u001b[0m\u001b[0;34m)\u001b[0m \u001b[0;32mfrom\u001b[0m \u001b[0merr\u001b[0m\u001b[0;34m\u001b[0m\u001b[0;34m\u001b[0m\u001b[0m\n\u001b[0m\u001b[1;32m   3364\u001b[0m \u001b[0;34m\u001b[0m\u001b[0m\n\u001b[1;32m   3365\u001b[0m         \u001b[0;32mif\u001b[0m \u001b[0mis_scalar\u001b[0m\u001b[0;34m(\u001b[0m\u001b[0mkey\u001b[0m\u001b[0;34m)\u001b[0m \u001b[0;32mand\u001b[0m \u001b[0misna\u001b[0m\u001b[0;34m(\u001b[0m\u001b[0mkey\u001b[0m\u001b[0;34m)\u001b[0m \u001b[0;32mand\u001b[0m \u001b[0;32mnot\u001b[0m \u001b[0mself\u001b[0m\u001b[0;34m.\u001b[0m\u001b[0mhasnans\u001b[0m\u001b[0;34m:\u001b[0m\u001b[0;34m\u001b[0m\u001b[0;34m\u001b[0m\u001b[0m\n",
      "\u001b[0;31mKeyError\u001b[0m: 'plus_14.days'"
     ]
    }
   ],
   "source": [
    "COVID_cases_5['date'] == COVID_cases_5['plus_14.days'].values"
   ]
  },
  {
   "cell_type": "code",
   "execution_count": null,
   "id": "9f00c7cc",
   "metadata": {},
   "outputs": [],
   "source": [
    "master_df.loc[master_df['department_id'] == 1, 'department_name'] = \"frozen\""
   ]
  },
  {
   "cell_type": "code",
   "execution_count": null,
   "id": "bc0ce413",
   "metadata": {},
   "outputs": [],
   "source": []
  },
  {
   "cell_type": "code",
   "execution_count": null,
   "id": "fa988b52",
   "metadata": {},
   "outputs": [],
   "source": []
  },
  {
   "cell_type": "code",
   "execution_count": null,
   "id": "c498095b",
   "metadata": {},
   "outputs": [],
   "source": []
  },
  {
   "cell_type": "code",
   "execution_count": null,
   "id": "e254ba67",
   "metadata": {},
   "outputs": [],
   "source": [
    "# Using DataFrame.query() method extract column values.\n",
    "COVID_cases_6=COVID_cases_5.query('Fee == 25000')['Courses']\n",
    "print(df2)\n",
    "\n",
    "#Output:\n",
    "r2    Pyspark\n",
    "Name: Courses, dtype: object"
   ]
  },
  {
   "cell_type": "code",
   "execution_count": 41,
   "id": "99eeee25",
   "metadata": {},
   "outputs": [
    {
     "ename": "SyntaxError",
     "evalue": "invalid syntax (2450681139.py, line 1)",
     "output_type": "error",
     "traceback": [
      "\u001b[0;36m  File \u001b[0;32m\"/var/folders/5y/s1_zpnxx04z7kvvp3b6fff9w0000gn/T/ipykernel_38510/2450681139.py\"\u001b[0;36m, line \u001b[0;32m1\u001b[0m\n\u001b[0;31m    COVID_cases_6['cases_+14'] = COVID_cases_5.loc[(COVID_cases_5['date'] = COVID_cases_5['plus_14_days'])['cases_per_100K']\u001b[0m\n\u001b[0m                                                                          ^\u001b[0m\n\u001b[0;31mSyntaxError\u001b[0m\u001b[0;31m:\u001b[0m invalid syntax\n"
     ]
    }
   ],
   "source": [
    "COVID_cases_6['cases_+14'] = COVID_cases_5.loc[(COVID_cases_5['date'] = COVID_cases_5['plus_14_days'])['cases_per_100K']"
   ]
  },
  {
   "cell_type": "code",
   "execution_count": null,
   "id": "6d3f41f2",
   "metadata": {},
   "outputs": [],
   "source": [
    "df2=df.loc[(df['Discount'] >= 1000) & (df['Discount'] <= 2000)]\n",
    "print(df2)"
   ]
  },
  {
   "cell_type": "code",
   "execution_count": null,
   "id": "d48bd77e",
   "metadata": {},
   "outputs": [],
   "source": []
  },
  {
   "cell_type": "code",
   "execution_count": null,
   "id": "558417b9",
   "metadata": {},
   "outputs": [],
   "source": []
  },
  {
   "cell_type": "code",
   "execution_count": null,
   "id": "98d87b2e",
   "metadata": {},
   "outputs": [],
   "source": [
    "COVID_cases_5.loc[(COVID_cases_5['date'] == COVID_cases_5['plus_14_days'].apply(max, axis=0)"
   ]
  },
  {
   "cell_type": "code",
   "execution_count": null,
   "id": "74ae276e",
   "metadata": {},
   "outputs": [],
   "source": []
  },
  {
   "cell_type": "code",
   "execution_count": null,
   "id": "a552d4ea",
   "metadata": {},
   "outputs": [],
   "source": [
    "COVID_cases_6 = COVID_cases_5.loc[(COVID_cases_5['date'] >= 1000) & (df['Discount'] <= 2000)]"
   ]
  },
  {
   "cell_type": "code",
   "execution_count": null,
   "id": "5ad6f1ed",
   "metadata": {},
   "outputs": [],
   "source": []
  },
  {
   "cell_type": "code",
   "execution_count": null,
   "id": "9f3af4e2",
   "metadata": {},
   "outputs": [],
   "source": [
    "COVID_cases_5['cases_+14'] = COVID_cases_5"
   ]
  },
  {
   "cell_type": "code",
   "execution_count": null,
   "id": "f7cffa71",
   "metadata": {},
   "outputs": [],
   "source": []
  },
  {
   "cell_type": "code",
   "execution_count": null,
   "id": "62c3c539",
   "metadata": {},
   "outputs": [],
   "source": []
  },
  {
   "cell_type": "code",
   "execution_count": null,
   "id": "e91b1d73",
   "metadata": {},
   "outputs": [],
   "source": [
    "COVID_cases_5.loc[COVID_cases_5['customer_number_dependents'] == 0, 'parental_status'] = \"non-parent\""
   ]
  },
  {
   "cell_type": "code",
   "execution_count": null,
   "id": "5bd4ac39",
   "metadata": {},
   "outputs": [],
   "source": []
  },
  {
   "cell_type": "code",
   "execution_count": null,
   "id": "a46997c7",
   "metadata": {},
   "outputs": [],
   "source": [
    "E_Price=[]\n",
    "plus_14_cases = COVID_cases_5['timestamp'].apply(lambda x: x >= (COVID_cases_5['timestamp']+timedelta(minutes=2)))\n",
    "price_diff = df['Price'].apply(lambda x: x >= (df['Price']*1.1))\n",
    "for i in range(len(df)):\n",
    "    check = (time_diff|price_diff)[i]\n",
    "    ind = check.idxmax()\n",
    "    if ind != 0:\n",
    "        val = df.iloc[ind,1]\n",
    "    else:\n",
    "        val = np.nan\n",
    "    E_Price.append(val)    \n",
    "\n",
    "df['Exit_Price'] = E_Price\n",
    "df['Exit_Price'] = df.Exit_Price.astype(pd.Int32Dtype())\n",
    "print(df)"
   ]
  },
  {
   "cell_type": "code",
   "execution_count": null,
   "id": "138932bd",
   "metadata": {},
   "outputs": [],
   "source": [
    "E_Price=[]\n",
    "time_diff = df['timestamp'].apply(lambda x: x >= (df['timestamp']+timedelta(minutes=2)))\n",
    "price_diff = df['Price'].apply(lambda x: x >= (df['Price']*1.1))\n",
    "for i in range(len(df)):\n",
    "    check = (time_diff|price_diff)[i]\n",
    "    ind = check.idxmax()\n",
    "    if ind != 0:\n",
    "        val = df.iloc[ind,1]\n",
    "    else:\n",
    "        val = np.nan\n",
    "    E_Price.append(val)    \n",
    "\n",
    "df['Exit_Price'] = E_Price\n",
    "df['Exit_Price'] = df.Exit_Price.astype(pd.Int32Dtype())\n",
    "print(df)"
   ]
  },
  {
   "cell_type": "code",
   "execution_count": null,
   "id": "4f1acabc",
   "metadata": {},
   "outputs": [],
   "source": []
  },
  {
   "cell_type": "code",
   "execution_count": null,
   "id": "cf7f5ab7",
   "metadata": {},
   "outputs": [],
   "source": []
  },
  {
   "cell_type": "code",
   "execution_count": 38,
   "id": "22628f38",
   "metadata": {},
   "outputs": [],
   "source": [
    "# Delete columns on new DF to facilitate merge\n",
    "COVID_cases_6 = COVID_cases_5.drop(columns = ['date','cases_per_100K','community_transmission_level'],)"
   ]
  },
  {
   "cell_type": "code",
   "execution_count": 39,
   "id": "e99b03db",
   "metadata": {},
   "outputs": [
    {
     "data": {
      "text/html": [
       "<div>\n",
       "<style scoped>\n",
       "    .dataframe tbody tr th:only-of-type {\n",
       "        vertical-align: middle;\n",
       "    }\n",
       "\n",
       "    .dataframe tbody tr th {\n",
       "        vertical-align: top;\n",
       "    }\n",
       "\n",
       "    .dataframe thead th {\n",
       "        text-align: right;\n",
       "    }\n",
       "</style>\n",
       "<table border=\"1\" class=\"dataframe\">\n",
       "  <thead>\n",
       "    <tr style=\"text-align: right;\">\n",
       "      <th></th>\n",
       "      <th>state_name</th>\n",
       "      <th>county_name</th>\n",
       "      <th>fips_code</th>\n",
       "      <th>plus_14_days</th>\n",
       "    </tr>\n",
       "  </thead>\n",
       "  <tbody>\n",
       "    <tr>\n",
       "      <th>8</th>\n",
       "      <td>Kansas</td>\n",
       "      <td>Riley County</td>\n",
       "      <td>20161</td>\n",
       "      <td>2020-07-18</td>\n",
       "    </tr>\n",
       "    <tr>\n",
       "      <th>9</th>\n",
       "      <td>Indiana</td>\n",
       "      <td>Posey County</td>\n",
       "      <td>18129</td>\n",
       "      <td>2020-07-18</td>\n",
       "    </tr>\n",
       "    <tr>\n",
       "      <th>10</th>\n",
       "      <td>Georgia</td>\n",
       "      <td>Hart County</td>\n",
       "      <td>13147</td>\n",
       "      <td>2020-07-18</td>\n",
       "    </tr>\n",
       "  </tbody>\n",
       "</table>\n",
       "</div>"
      ],
      "text/plain": [
       "   state_name   county_name  fips_code plus_14_days\n",
       "8      Kansas  Riley County      20161   2020-07-18\n",
       "9     Indiana  Posey County      18129   2020-07-18\n",
       "10    Georgia   Hart County      13147   2020-07-18"
      ]
     },
     "execution_count": 39,
     "metadata": {},
     "output_type": "execute_result"
    }
   ],
   "source": [
    "COVID_cases_6.head(3)"
   ]
  },
  {
   "cell_type": "code",
   "execution_count": 37,
   "id": "45743943",
   "metadata": {},
   "outputs": [],
   "source": [
    "# Re-name date column\n",
    "COVID_cases_5 = COVID_cases_5.rename(columns = {'plus_14_days' : 'date', 'cases_per_100K' : 'cases_100K_+14'})"
   ]
  },
  {
   "cell_type": "code",
   "execution_count": 38,
   "id": "ca3e9b6e",
   "metadata": {},
   "outputs": [
    {
     "data": {
      "text/html": [
       "<div>\n",
       "<style scoped>\n",
       "    .dataframe tbody tr th:only-of-type {\n",
       "        vertical-align: middle;\n",
       "    }\n",
       "\n",
       "    .dataframe tbody tr th {\n",
       "        vertical-align: top;\n",
       "    }\n",
       "\n",
       "    .dataframe thead th {\n",
       "        text-align: right;\n",
       "    }\n",
       "</style>\n",
       "<table border=\"1\" class=\"dataframe\">\n",
       "  <thead>\n",
       "    <tr style=\"text-align: right;\">\n",
       "      <th></th>\n",
       "      <th>state_name</th>\n",
       "      <th>county_name</th>\n",
       "      <th>fips_code</th>\n",
       "      <th>cases_100K_+14</th>\n",
       "      <th>community_transmission_level</th>\n",
       "      <th>date</th>\n",
       "    </tr>\n",
       "  </thead>\n",
       "  <tbody>\n",
       "    <tr>\n",
       "      <th>8</th>\n",
       "      <td>Kansas</td>\n",
       "      <td>Riley County</td>\n",
       "      <td>20161</td>\n",
       "      <td>119.894</td>\n",
       "      <td>high</td>\n",
       "      <td>2020-07-18</td>\n",
       "    </tr>\n",
       "    <tr>\n",
       "      <th>9</th>\n",
       "      <td>Indiana</td>\n",
       "      <td>Posey County</td>\n",
       "      <td>18129</td>\n",
       "      <td>39.328</td>\n",
       "      <td>moderate</td>\n",
       "      <td>2020-07-18</td>\n",
       "    </tr>\n",
       "    <tr>\n",
       "      <th>10</th>\n",
       "      <td>Georgia</td>\n",
       "      <td>Hart County</td>\n",
       "      <td>13147</td>\n",
       "      <td>95.402</td>\n",
       "      <td>high</td>\n",
       "      <td>2020-07-18</td>\n",
       "    </tr>\n",
       "  </tbody>\n",
       "</table>\n",
       "</div>"
      ],
      "text/plain": [
       "   state_name   county_name  fips_code  cases_100K_+14  \\\n",
       "8      Kansas  Riley County      20161         119.894   \n",
       "9     Indiana  Posey County      18129          39.328   \n",
       "10    Georgia   Hart County      13147          95.402   \n",
       "\n",
       "   community_transmission_level       date  \n",
       "8                          high 2020-07-18  \n",
       "9                      moderate 2020-07-18  \n",
       "10                         high 2020-07-18  "
      ]
     },
     "execution_count": 38,
     "metadata": {},
     "output_type": "execute_result"
    }
   ],
   "source": [
    "COVID_cases_5.head(3)"
   ]
  },
  {
   "cell_type": "code",
   "execution_count": 38,
   "id": "594e4eba",
   "metadata": {},
   "outputs": [
    {
     "data": {
      "text/html": [
       "<div>\n",
       "<style scoped>\n",
       "    .dataframe tbody tr th:only-of-type {\n",
       "        vertical-align: middle;\n",
       "    }\n",
       "\n",
       "    .dataframe tbody tr th {\n",
       "        vertical-align: top;\n",
       "    }\n",
       "\n",
       "    .dataframe thead th {\n",
       "        text-align: right;\n",
       "    }\n",
       "</style>\n",
       "<table border=\"1\" class=\"dataframe\">\n",
       "  <thead>\n",
       "    <tr style=\"text-align: right;\">\n",
       "      <th></th>\n",
       "      <th>state_name</th>\n",
       "      <th>county_name</th>\n",
       "      <th>fips_code</th>\n",
       "      <th>date</th>\n",
       "      <th>cases_per_100K</th>\n",
       "      <th>community_transmission_level</th>\n",
       "      <th>plus_14_days</th>\n",
       "    </tr>\n",
       "  </thead>\n",
       "  <tbody>\n",
       "    <tr>\n",
       "      <th>8</th>\n",
       "      <td>Kansas</td>\n",
       "      <td>Riley County</td>\n",
       "      <td>20161</td>\n",
       "      <td>2020-07-04</td>\n",
       "      <td>119.894</td>\n",
       "      <td>high</td>\n",
       "      <td>2020-07-18</td>\n",
       "    </tr>\n",
       "    <tr>\n",
       "      <th>9</th>\n",
       "      <td>Indiana</td>\n",
       "      <td>Posey County</td>\n",
       "      <td>18129</td>\n",
       "      <td>2020-07-04</td>\n",
       "      <td>39.328</td>\n",
       "      <td>moderate</td>\n",
       "      <td>2020-07-18</td>\n",
       "    </tr>\n",
       "    <tr>\n",
       "      <th>10</th>\n",
       "      <td>Georgia</td>\n",
       "      <td>Hart County</td>\n",
       "      <td>13147</td>\n",
       "      <td>2020-07-04</td>\n",
       "      <td>95.402</td>\n",
       "      <td>high</td>\n",
       "      <td>2020-07-18</td>\n",
       "    </tr>\n",
       "  </tbody>\n",
       "</table>\n",
       "</div>"
      ],
      "text/plain": [
       "   state_name   county_name  fips_code       date  cases_per_100K  \\\n",
       "8      Kansas  Riley County      20161 2020-07-04         119.894   \n",
       "9     Indiana  Posey County      18129 2020-07-04          39.328   \n",
       "10    Georgia   Hart County      13147 2020-07-04          95.402   \n",
       "\n",
       "   community_transmission_level plus_14_days  \n",
       "8                          high   2020-07-18  \n",
       "9                      moderate   2020-07-18  \n",
       "10                         high   2020-07-18  "
      ]
     },
     "execution_count": 38,
     "metadata": {},
     "output_type": "execute_result"
    }
   ],
   "source": [
    "COVID_cases_4.head(3)"
   ]
  },
  {
   "cell_type": "code",
   "execution_count": 39,
   "id": "03fe3254",
   "metadata": {},
   "outputs": [],
   "source": [
    "COVID_cases_4 = COVID_cases_4.drop(columns = ['plus_14_days'])"
   ]
  },
  {
   "cell_type": "code",
   "execution_count": 40,
   "id": "f9332be1",
   "metadata": {},
   "outputs": [
    {
     "data": {
      "text/html": [
       "<div>\n",
       "<style scoped>\n",
       "    .dataframe tbody tr th:only-of-type {\n",
       "        vertical-align: middle;\n",
       "    }\n",
       "\n",
       "    .dataframe tbody tr th {\n",
       "        vertical-align: top;\n",
       "    }\n",
       "\n",
       "    .dataframe thead th {\n",
       "        text-align: right;\n",
       "    }\n",
       "</style>\n",
       "<table border=\"1\" class=\"dataframe\">\n",
       "  <thead>\n",
       "    <tr style=\"text-align: right;\">\n",
       "      <th></th>\n",
       "      <th>state_name</th>\n",
       "      <th>county_name</th>\n",
       "      <th>fips_code</th>\n",
       "      <th>date</th>\n",
       "      <th>cases_per_100K</th>\n",
       "      <th>community_transmission_level</th>\n",
       "    </tr>\n",
       "  </thead>\n",
       "  <tbody>\n",
       "    <tr>\n",
       "      <th>8</th>\n",
       "      <td>Kansas</td>\n",
       "      <td>Riley County</td>\n",
       "      <td>20161</td>\n",
       "      <td>2020-07-04</td>\n",
       "      <td>119.894</td>\n",
       "      <td>high</td>\n",
       "    </tr>\n",
       "    <tr>\n",
       "      <th>9</th>\n",
       "      <td>Indiana</td>\n",
       "      <td>Posey County</td>\n",
       "      <td>18129</td>\n",
       "      <td>2020-07-04</td>\n",
       "      <td>39.328</td>\n",
       "      <td>moderate</td>\n",
       "    </tr>\n",
       "    <tr>\n",
       "      <th>10</th>\n",
       "      <td>Georgia</td>\n",
       "      <td>Hart County</td>\n",
       "      <td>13147</td>\n",
       "      <td>2020-07-04</td>\n",
       "      <td>95.402</td>\n",
       "      <td>high</td>\n",
       "    </tr>\n",
       "  </tbody>\n",
       "</table>\n",
       "</div>"
      ],
      "text/plain": [
       "   state_name   county_name  fips_code       date  cases_per_100K  \\\n",
       "8      Kansas  Riley County      20161 2020-07-04         119.894   \n",
       "9     Indiana  Posey County      18129 2020-07-04          39.328   \n",
       "10    Georgia   Hart County      13147 2020-07-04          95.402   \n",
       "\n",
       "   community_transmission_level  \n",
       "8                          high  \n",
       "9                      moderate  \n",
       "10                         high  "
      ]
     },
     "execution_count": 40,
     "metadata": {},
     "output_type": "execute_result"
    }
   ],
   "source": [
    "COVID_cases_4.head(3)"
   ]
  },
  {
   "cell_type": "code",
   "execution_count": 41,
   "id": "2335aa25",
   "metadata": {},
   "outputs": [],
   "source": [
    "# Merge dataframes to create new variable\n",
    "COVID_cases_6 = COVID_cases_4.merge(COVID_cases_5, on = ['date', 'state_name','county_name','fips_code','community_transmission_level'])"
   ]
  },
  {
   "cell_type": "code",
   "execution_count": 42,
   "id": "51963085",
   "metadata": {},
   "outputs": [
    {
     "data": {
      "text/html": [
       "<div>\n",
       "<style scoped>\n",
       "    .dataframe tbody tr th:only-of-type {\n",
       "        vertical-align: middle;\n",
       "    }\n",
       "\n",
       "    .dataframe tbody tr th {\n",
       "        vertical-align: top;\n",
       "    }\n",
       "\n",
       "    .dataframe thead th {\n",
       "        text-align: right;\n",
       "    }\n",
       "</style>\n",
       "<table border=\"1\" class=\"dataframe\">\n",
       "  <thead>\n",
       "    <tr style=\"text-align: right;\">\n",
       "      <th></th>\n",
       "      <th>state_name</th>\n",
       "      <th>county_name</th>\n",
       "      <th>fips_code</th>\n",
       "      <th>date</th>\n",
       "      <th>cases_per_100K</th>\n",
       "      <th>community_transmission_level</th>\n",
       "      <th>cases_100K_+14</th>\n",
       "    </tr>\n",
       "  </thead>\n",
       "  <tbody>\n",
       "    <tr>\n",
       "      <th>0</th>\n",
       "      <td>Indiana</td>\n",
       "      <td>Posey County</td>\n",
       "      <td>18129</td>\n",
       "      <td>2020-07-04</td>\n",
       "      <td>39.328</td>\n",
       "      <td>moderate</td>\n",
       "      <td>NaN</td>\n",
       "    </tr>\n",
       "    <tr>\n",
       "      <th>1</th>\n",
       "      <td>Georgia</td>\n",
       "      <td>Hart County</td>\n",
       "      <td>13147</td>\n",
       "      <td>2020-07-04</td>\n",
       "      <td>95.402</td>\n",
       "      <td>high</td>\n",
       "      <td>NaN</td>\n",
       "    </tr>\n",
       "    <tr>\n",
       "      <th>2</th>\n",
       "      <td>New Jersey</td>\n",
       "      <td>Ocean County</td>\n",
       "      <td>34029</td>\n",
       "      <td>2020-07-04</td>\n",
       "      <td>24.704</td>\n",
       "      <td>moderate</td>\n",
       "      <td>32.609</td>\n",
       "    </tr>\n",
       "  </tbody>\n",
       "</table>\n",
       "</div>"
      ],
      "text/plain": [
       "   state_name   county_name  fips_code       date  cases_per_100K  \\\n",
       "0     Indiana  Posey County      18129 2020-07-04          39.328   \n",
       "1     Georgia   Hart County      13147 2020-07-04          95.402   \n",
       "2  New Jersey  Ocean County      34029 2020-07-04          24.704   \n",
       "\n",
       "  community_transmission_level  cases_100K_+14  \n",
       "0                     moderate             NaN  \n",
       "1                         high             NaN  \n",
       "2                     moderate          32.609  "
      ]
     },
     "execution_count": 42,
     "metadata": {},
     "output_type": "execute_result"
    }
   ],
   "source": [
    "COVID_cases_6.head(3)"
   ]
  },
  {
   "cell_type": "markdown",
   "id": "841bdd69",
   "metadata": {},
   "source": [
    "#### +30 Day Variable"
   ]
  },
  {
   "cell_type": "code",
   "execution_count": 43,
   "id": "18815679",
   "metadata": {},
   "outputs": [],
   "source": [
    "# Create new column for +30 days\n",
    "COVID_cases_6[\"plus_30_days\"] = COVID_cases_6[\"date\"] + timedelta(days=30)"
   ]
  },
  {
   "cell_type": "code",
   "execution_count": 44,
   "id": "4aa44886",
   "metadata": {},
   "outputs": [
    {
     "data": {
      "text/html": [
       "<div>\n",
       "<style scoped>\n",
       "    .dataframe tbody tr th:only-of-type {\n",
       "        vertical-align: middle;\n",
       "    }\n",
       "\n",
       "    .dataframe tbody tr th {\n",
       "        vertical-align: top;\n",
       "    }\n",
       "\n",
       "    .dataframe thead th {\n",
       "        text-align: right;\n",
       "    }\n",
       "</style>\n",
       "<table border=\"1\" class=\"dataframe\">\n",
       "  <thead>\n",
       "    <tr style=\"text-align: right;\">\n",
       "      <th></th>\n",
       "      <th>state_name</th>\n",
       "      <th>county_name</th>\n",
       "      <th>fips_code</th>\n",
       "      <th>date</th>\n",
       "      <th>cases_per_100K</th>\n",
       "      <th>community_transmission_level</th>\n",
       "      <th>cases_100K_+14</th>\n",
       "      <th>plus_30_days</th>\n",
       "    </tr>\n",
       "  </thead>\n",
       "  <tbody>\n",
       "    <tr>\n",
       "      <th>0</th>\n",
       "      <td>Indiana</td>\n",
       "      <td>Posey County</td>\n",
       "      <td>18129</td>\n",
       "      <td>2020-07-04</td>\n",
       "      <td>39.328</td>\n",
       "      <td>moderate</td>\n",
       "      <td>NaN</td>\n",
       "      <td>2020-08-03</td>\n",
       "    </tr>\n",
       "    <tr>\n",
       "      <th>1</th>\n",
       "      <td>Georgia</td>\n",
       "      <td>Hart County</td>\n",
       "      <td>13147</td>\n",
       "      <td>2020-07-04</td>\n",
       "      <td>95.402</td>\n",
       "      <td>high</td>\n",
       "      <td>NaN</td>\n",
       "      <td>2020-08-03</td>\n",
       "    </tr>\n",
       "    <tr>\n",
       "      <th>2</th>\n",
       "      <td>New Jersey</td>\n",
       "      <td>Ocean County</td>\n",
       "      <td>34029</td>\n",
       "      <td>2020-07-04</td>\n",
       "      <td>24.704</td>\n",
       "      <td>moderate</td>\n",
       "      <td>32.609</td>\n",
       "      <td>2020-08-03</td>\n",
       "    </tr>\n",
       "  </tbody>\n",
       "</table>\n",
       "</div>"
      ],
      "text/plain": [
       "   state_name   county_name  fips_code       date  cases_per_100K  \\\n",
       "0     Indiana  Posey County      18129 2020-07-04          39.328   \n",
       "1     Georgia   Hart County      13147 2020-07-04          95.402   \n",
       "2  New Jersey  Ocean County      34029 2020-07-04          24.704   \n",
       "\n",
       "  community_transmission_level  cases_100K_+14 plus_30_days  \n",
       "0                     moderate             NaN   2020-08-03  \n",
       "1                         high             NaN   2020-08-03  \n",
       "2                     moderate          32.609   2020-08-03  "
      ]
     },
     "execution_count": 44,
     "metadata": {},
     "output_type": "execute_result"
    }
   ],
   "source": [
    "COVID_cases_6.head(3)"
   ]
  },
  {
   "cell_type": "code",
   "execution_count": 45,
   "id": "5bf8a473",
   "metadata": {},
   "outputs": [],
   "source": [
    "# Delete date on new DF to facilitate merge\n",
    "COVID_cases_7 = COVID_cases_6.drop(columns = ['date'])"
   ]
  },
  {
   "cell_type": "code",
   "execution_count": 46,
   "id": "617022ba",
   "metadata": {},
   "outputs": [
    {
     "data": {
      "text/html": [
       "<div>\n",
       "<style scoped>\n",
       "    .dataframe tbody tr th:only-of-type {\n",
       "        vertical-align: middle;\n",
       "    }\n",
       "\n",
       "    .dataframe tbody tr th {\n",
       "        vertical-align: top;\n",
       "    }\n",
       "\n",
       "    .dataframe thead th {\n",
       "        text-align: right;\n",
       "    }\n",
       "</style>\n",
       "<table border=\"1\" class=\"dataframe\">\n",
       "  <thead>\n",
       "    <tr style=\"text-align: right;\">\n",
       "      <th></th>\n",
       "      <th>state_name</th>\n",
       "      <th>county_name</th>\n",
       "      <th>fips_code</th>\n",
       "      <th>cases_per_100K</th>\n",
       "      <th>community_transmission_level</th>\n",
       "      <th>cases_100K_+14</th>\n",
       "      <th>plus_30_days</th>\n",
       "    </tr>\n",
       "  </thead>\n",
       "  <tbody>\n",
       "    <tr>\n",
       "      <th>0</th>\n",
       "      <td>Indiana</td>\n",
       "      <td>Posey County</td>\n",
       "      <td>18129</td>\n",
       "      <td>39.328</td>\n",
       "      <td>moderate</td>\n",
       "      <td>NaN</td>\n",
       "      <td>2020-08-03</td>\n",
       "    </tr>\n",
       "    <tr>\n",
       "      <th>1</th>\n",
       "      <td>Georgia</td>\n",
       "      <td>Hart County</td>\n",
       "      <td>13147</td>\n",
       "      <td>95.402</td>\n",
       "      <td>high</td>\n",
       "      <td>NaN</td>\n",
       "      <td>2020-08-03</td>\n",
       "    </tr>\n",
       "    <tr>\n",
       "      <th>2</th>\n",
       "      <td>New Jersey</td>\n",
       "      <td>Ocean County</td>\n",
       "      <td>34029</td>\n",
       "      <td>24.704</td>\n",
       "      <td>moderate</td>\n",
       "      <td>32.609</td>\n",
       "      <td>2020-08-03</td>\n",
       "    </tr>\n",
       "  </tbody>\n",
       "</table>\n",
       "</div>"
      ],
      "text/plain": [
       "   state_name   county_name  fips_code  cases_per_100K  \\\n",
       "0     Indiana  Posey County      18129          39.328   \n",
       "1     Georgia   Hart County      13147          95.402   \n",
       "2  New Jersey  Ocean County      34029          24.704   \n",
       "\n",
       "  community_transmission_level  cases_100K_+14 plus_30_days  \n",
       "0                     moderate             NaN   2020-08-03  \n",
       "1                         high             NaN   2020-08-03  \n",
       "2                     moderate          32.609   2020-08-03  "
      ]
     },
     "execution_count": 46,
     "metadata": {},
     "output_type": "execute_result"
    }
   ],
   "source": [
    "COVID_cases_7.head(3)"
   ]
  },
  {
   "cell_type": "code",
   "execution_count": 47,
   "id": "0bda1d59",
   "metadata": {},
   "outputs": [],
   "source": [
    "# Re-name date column\n",
    "COVID_cases_8 = COVID_cases_7.rename(columns = {'plus_30_days' : 'date', 'cases_per_100K' : 'cases_100K_+30'})"
   ]
  },
  {
   "cell_type": "code",
   "execution_count": 48,
   "id": "8dba3394",
   "metadata": {},
   "outputs": [
    {
     "data": {
      "text/html": [
       "<div>\n",
       "<style scoped>\n",
       "    .dataframe tbody tr th:only-of-type {\n",
       "        vertical-align: middle;\n",
       "    }\n",
       "\n",
       "    .dataframe tbody tr th {\n",
       "        vertical-align: top;\n",
       "    }\n",
       "\n",
       "    .dataframe thead th {\n",
       "        text-align: right;\n",
       "    }\n",
       "</style>\n",
       "<table border=\"1\" class=\"dataframe\">\n",
       "  <thead>\n",
       "    <tr style=\"text-align: right;\">\n",
       "      <th></th>\n",
       "      <th>state_name</th>\n",
       "      <th>county_name</th>\n",
       "      <th>fips_code</th>\n",
       "      <th>cases_100K_+30</th>\n",
       "      <th>community_transmission_level</th>\n",
       "      <th>cases_100K_+14</th>\n",
       "      <th>date</th>\n",
       "    </tr>\n",
       "  </thead>\n",
       "  <tbody>\n",
       "    <tr>\n",
       "      <th>0</th>\n",
       "      <td>Indiana</td>\n",
       "      <td>Posey County</td>\n",
       "      <td>18129</td>\n",
       "      <td>39.328</td>\n",
       "      <td>moderate</td>\n",
       "      <td>NaN</td>\n",
       "      <td>2020-08-03</td>\n",
       "    </tr>\n",
       "    <tr>\n",
       "      <th>1</th>\n",
       "      <td>Georgia</td>\n",
       "      <td>Hart County</td>\n",
       "      <td>13147</td>\n",
       "      <td>95.402</td>\n",
       "      <td>high</td>\n",
       "      <td>NaN</td>\n",
       "      <td>2020-08-03</td>\n",
       "    </tr>\n",
       "    <tr>\n",
       "      <th>2</th>\n",
       "      <td>New Jersey</td>\n",
       "      <td>Ocean County</td>\n",
       "      <td>34029</td>\n",
       "      <td>24.704</td>\n",
       "      <td>moderate</td>\n",
       "      <td>32.609</td>\n",
       "      <td>2020-08-03</td>\n",
       "    </tr>\n",
       "  </tbody>\n",
       "</table>\n",
       "</div>"
      ],
      "text/plain": [
       "   state_name   county_name  fips_code  cases_100K_+30  \\\n",
       "0     Indiana  Posey County      18129          39.328   \n",
       "1     Georgia   Hart County      13147          95.402   \n",
       "2  New Jersey  Ocean County      34029          24.704   \n",
       "\n",
       "  community_transmission_level  cases_100K_+14       date  \n",
       "0                     moderate             NaN 2020-08-03  \n",
       "1                         high             NaN 2020-08-03  \n",
       "2                     moderate          32.609 2020-08-03  "
      ]
     },
     "execution_count": 48,
     "metadata": {},
     "output_type": "execute_result"
    }
   ],
   "source": [
    "COVID_cases_8.head(3)"
   ]
  },
  {
   "cell_type": "code",
   "execution_count": 49,
   "id": "6088ea0a",
   "metadata": {},
   "outputs": [
    {
     "data": {
      "text/html": [
       "<div>\n",
       "<style scoped>\n",
       "    .dataframe tbody tr th:only-of-type {\n",
       "        vertical-align: middle;\n",
       "    }\n",
       "\n",
       "    .dataframe tbody tr th {\n",
       "        vertical-align: top;\n",
       "    }\n",
       "\n",
       "    .dataframe thead th {\n",
       "        text-align: right;\n",
       "    }\n",
       "</style>\n",
       "<table border=\"1\" class=\"dataframe\">\n",
       "  <thead>\n",
       "    <tr style=\"text-align: right;\">\n",
       "      <th></th>\n",
       "      <th>state_name</th>\n",
       "      <th>county_name</th>\n",
       "      <th>fips_code</th>\n",
       "      <th>date</th>\n",
       "      <th>cases_per_100K</th>\n",
       "      <th>community_transmission_level</th>\n",
       "      <th>cases_100K_+14</th>\n",
       "      <th>plus_30_days</th>\n",
       "    </tr>\n",
       "  </thead>\n",
       "  <tbody>\n",
       "    <tr>\n",
       "      <th>0</th>\n",
       "      <td>Indiana</td>\n",
       "      <td>Posey County</td>\n",
       "      <td>18129</td>\n",
       "      <td>2020-07-04</td>\n",
       "      <td>39.328</td>\n",
       "      <td>moderate</td>\n",
       "      <td>NaN</td>\n",
       "      <td>2020-08-03</td>\n",
       "    </tr>\n",
       "    <tr>\n",
       "      <th>1</th>\n",
       "      <td>Georgia</td>\n",
       "      <td>Hart County</td>\n",
       "      <td>13147</td>\n",
       "      <td>2020-07-04</td>\n",
       "      <td>95.402</td>\n",
       "      <td>high</td>\n",
       "      <td>NaN</td>\n",
       "      <td>2020-08-03</td>\n",
       "    </tr>\n",
       "    <tr>\n",
       "      <th>2</th>\n",
       "      <td>New Jersey</td>\n",
       "      <td>Ocean County</td>\n",
       "      <td>34029</td>\n",
       "      <td>2020-07-04</td>\n",
       "      <td>24.704</td>\n",
       "      <td>moderate</td>\n",
       "      <td>32.609</td>\n",
       "      <td>2020-08-03</td>\n",
       "    </tr>\n",
       "  </tbody>\n",
       "</table>\n",
       "</div>"
      ],
      "text/plain": [
       "   state_name   county_name  fips_code       date  cases_per_100K  \\\n",
       "0     Indiana  Posey County      18129 2020-07-04          39.328   \n",
       "1     Georgia   Hart County      13147 2020-07-04          95.402   \n",
       "2  New Jersey  Ocean County      34029 2020-07-04          24.704   \n",
       "\n",
       "  community_transmission_level  cases_100K_+14 plus_30_days  \n",
       "0                     moderate             NaN   2020-08-03  \n",
       "1                         high             NaN   2020-08-03  \n",
       "2                     moderate          32.609   2020-08-03  "
      ]
     },
     "execution_count": 49,
     "metadata": {},
     "output_type": "execute_result"
    }
   ],
   "source": [
    "COVID_cases_6.head(3)"
   ]
  },
  {
   "cell_type": "code",
   "execution_count": 50,
   "id": "bfdaf030",
   "metadata": {},
   "outputs": [],
   "source": [
    "COVID_cases_6 = COVID_cases_6.drop(columns = ['plus_30_days'])"
   ]
  },
  {
   "cell_type": "code",
   "execution_count": 51,
   "id": "edf9bb61",
   "metadata": {
    "scrolled": true
   },
   "outputs": [
    {
     "data": {
      "text/html": [
       "<div>\n",
       "<style scoped>\n",
       "    .dataframe tbody tr th:only-of-type {\n",
       "        vertical-align: middle;\n",
       "    }\n",
       "\n",
       "    .dataframe tbody tr th {\n",
       "        vertical-align: top;\n",
       "    }\n",
       "\n",
       "    .dataframe thead th {\n",
       "        text-align: right;\n",
       "    }\n",
       "</style>\n",
       "<table border=\"1\" class=\"dataframe\">\n",
       "  <thead>\n",
       "    <tr style=\"text-align: right;\">\n",
       "      <th></th>\n",
       "      <th>state_name</th>\n",
       "      <th>county_name</th>\n",
       "      <th>fips_code</th>\n",
       "      <th>date</th>\n",
       "      <th>cases_per_100K</th>\n",
       "      <th>community_transmission_level</th>\n",
       "      <th>cases_100K_+14</th>\n",
       "    </tr>\n",
       "  </thead>\n",
       "  <tbody>\n",
       "    <tr>\n",
       "      <th>0</th>\n",
       "      <td>Indiana</td>\n",
       "      <td>Posey County</td>\n",
       "      <td>18129</td>\n",
       "      <td>2020-07-04</td>\n",
       "      <td>39.328</td>\n",
       "      <td>moderate</td>\n",
       "      <td>NaN</td>\n",
       "    </tr>\n",
       "    <tr>\n",
       "      <th>1</th>\n",
       "      <td>Georgia</td>\n",
       "      <td>Hart County</td>\n",
       "      <td>13147</td>\n",
       "      <td>2020-07-04</td>\n",
       "      <td>95.402</td>\n",
       "      <td>high</td>\n",
       "      <td>NaN</td>\n",
       "    </tr>\n",
       "    <tr>\n",
       "      <th>2</th>\n",
       "      <td>New Jersey</td>\n",
       "      <td>Ocean County</td>\n",
       "      <td>34029</td>\n",
       "      <td>2020-07-04</td>\n",
       "      <td>24.704</td>\n",
       "      <td>moderate</td>\n",
       "      <td>32.609</td>\n",
       "    </tr>\n",
       "  </tbody>\n",
       "</table>\n",
       "</div>"
      ],
      "text/plain": [
       "   state_name   county_name  fips_code       date  cases_per_100K  \\\n",
       "0     Indiana  Posey County      18129 2020-07-04          39.328   \n",
       "1     Georgia   Hart County      13147 2020-07-04          95.402   \n",
       "2  New Jersey  Ocean County      34029 2020-07-04          24.704   \n",
       "\n",
       "  community_transmission_level  cases_100K_+14  \n",
       "0                     moderate             NaN  \n",
       "1                         high             NaN  \n",
       "2                     moderate          32.609  "
      ]
     },
     "execution_count": 51,
     "metadata": {},
     "output_type": "execute_result"
    }
   ],
   "source": [
    "COVID_cases_6.head(3)"
   ]
  },
  {
   "cell_type": "code",
   "execution_count": 52,
   "id": "b0267762",
   "metadata": {},
   "outputs": [],
   "source": [
    "# Merge dataframes to create new variable\n",
    "COVID_cases_9 = COVID_cases_6.merge(COVID_cases_8, on = ['date', 'state_name','county_name','fips_code','community_transmission_level','cases_100K_+14'])"
   ]
  },
  {
   "cell_type": "code",
   "execution_count": 53,
   "id": "022190ca",
   "metadata": {},
   "outputs": [
    {
     "data": {
      "text/html": [
       "<div>\n",
       "<style scoped>\n",
       "    .dataframe tbody tr th:only-of-type {\n",
       "        vertical-align: middle;\n",
       "    }\n",
       "\n",
       "    .dataframe tbody tr th {\n",
       "        vertical-align: top;\n",
       "    }\n",
       "\n",
       "    .dataframe thead th {\n",
       "        text-align: right;\n",
       "    }\n",
       "</style>\n",
       "<table border=\"1\" class=\"dataframe\">\n",
       "  <thead>\n",
       "    <tr style=\"text-align: right;\">\n",
       "      <th></th>\n",
       "      <th>state_name</th>\n",
       "      <th>county_name</th>\n",
       "      <th>fips_code</th>\n",
       "      <th>date</th>\n",
       "      <th>cases_per_100K</th>\n",
       "      <th>community_transmission_level</th>\n",
       "      <th>cases_100K_+14</th>\n",
       "      <th>cases_100K_+30</th>\n",
       "    </tr>\n",
       "  </thead>\n",
       "  <tbody>\n",
       "    <tr>\n",
       "      <th>0</th>\n",
       "      <td>Nebraska</td>\n",
       "      <td>Grant County</td>\n",
       "      <td>31075</td>\n",
       "      <td>2020-09-01</td>\n",
       "      <td>0.0</td>\n",
       "      <td>low</td>\n",
       "      <td>0.0</td>\n",
       "      <td>0.0</td>\n",
       "    </tr>\n",
       "    <tr>\n",
       "      <th>1</th>\n",
       "      <td>Texas</td>\n",
       "      <td>Upton County</td>\n",
       "      <td>48461</td>\n",
       "      <td>2020-09-13</td>\n",
       "      <td>0.0</td>\n",
       "      <td>high</td>\n",
       "      <td>NaN</td>\n",
       "      <td>0.0</td>\n",
       "    </tr>\n",
       "    <tr>\n",
       "      <th>2</th>\n",
       "      <td>Puerto Rico</td>\n",
       "      <td>Culebra Municipio</td>\n",
       "      <td>72049</td>\n",
       "      <td>2020-10-20</td>\n",
       "      <td>0.0</td>\n",
       "      <td>low</td>\n",
       "      <td>0.0</td>\n",
       "      <td>0.0</td>\n",
       "    </tr>\n",
       "  </tbody>\n",
       "</table>\n",
       "</div>"
      ],
      "text/plain": [
       "    state_name        county_name  fips_code       date  cases_per_100K  \\\n",
       "0     Nebraska       Grant County      31075 2020-09-01             0.0   \n",
       "1        Texas       Upton County      48461 2020-09-13             0.0   \n",
       "2  Puerto Rico  Culebra Municipio      72049 2020-10-20             0.0   \n",
       "\n",
       "  community_transmission_level  cases_100K_+14  cases_100K_+30  \n",
       "0                          low             0.0             0.0  \n",
       "1                         high             NaN             0.0  \n",
       "2                          low             0.0             0.0  "
      ]
     },
     "execution_count": 53,
     "metadata": {},
     "output_type": "execute_result"
    }
   ],
   "source": [
    "COVID_cases_9.head(3)"
   ]
  },
  {
   "cell_type": "markdown",
   "id": "aa720939",
   "metadata": {},
   "source": [
    "#### + 60 Day Variable"
   ]
  },
  {
   "cell_type": "code",
   "execution_count": 54,
   "id": "130b1786",
   "metadata": {},
   "outputs": [],
   "source": [
    "# Create new column for +60 days\n",
    "COVID_cases_9[\"plus_60_days\"] = COVID_cases_9[\"date\"] + timedelta(days=60)"
   ]
  },
  {
   "cell_type": "code",
   "execution_count": 55,
   "id": "542ac4f8",
   "metadata": {},
   "outputs": [
    {
     "data": {
      "text/html": [
       "<div>\n",
       "<style scoped>\n",
       "    .dataframe tbody tr th:only-of-type {\n",
       "        vertical-align: middle;\n",
       "    }\n",
       "\n",
       "    .dataframe tbody tr th {\n",
       "        vertical-align: top;\n",
       "    }\n",
       "\n",
       "    .dataframe thead th {\n",
       "        text-align: right;\n",
       "    }\n",
       "</style>\n",
       "<table border=\"1\" class=\"dataframe\">\n",
       "  <thead>\n",
       "    <tr style=\"text-align: right;\">\n",
       "      <th></th>\n",
       "      <th>state_name</th>\n",
       "      <th>county_name</th>\n",
       "      <th>fips_code</th>\n",
       "      <th>date</th>\n",
       "      <th>cases_per_100K</th>\n",
       "      <th>community_transmission_level</th>\n",
       "      <th>cases_100K_+14</th>\n",
       "      <th>cases_100K_+30</th>\n",
       "      <th>plus_60_days</th>\n",
       "    </tr>\n",
       "  </thead>\n",
       "  <tbody>\n",
       "    <tr>\n",
       "      <th>0</th>\n",
       "      <td>Nebraska</td>\n",
       "      <td>Grant County</td>\n",
       "      <td>31075</td>\n",
       "      <td>2020-09-01</td>\n",
       "      <td>0.0</td>\n",
       "      <td>low</td>\n",
       "      <td>0.0</td>\n",
       "      <td>0.0</td>\n",
       "      <td>2020-10-31</td>\n",
       "    </tr>\n",
       "    <tr>\n",
       "      <th>1</th>\n",
       "      <td>Texas</td>\n",
       "      <td>Upton County</td>\n",
       "      <td>48461</td>\n",
       "      <td>2020-09-13</td>\n",
       "      <td>0.0</td>\n",
       "      <td>high</td>\n",
       "      <td>NaN</td>\n",
       "      <td>0.0</td>\n",
       "      <td>2020-11-12</td>\n",
       "    </tr>\n",
       "    <tr>\n",
       "      <th>2</th>\n",
       "      <td>Puerto Rico</td>\n",
       "      <td>Culebra Municipio</td>\n",
       "      <td>72049</td>\n",
       "      <td>2020-10-20</td>\n",
       "      <td>0.0</td>\n",
       "      <td>low</td>\n",
       "      <td>0.0</td>\n",
       "      <td>0.0</td>\n",
       "      <td>2020-12-19</td>\n",
       "    </tr>\n",
       "  </tbody>\n",
       "</table>\n",
       "</div>"
      ],
      "text/plain": [
       "    state_name        county_name  fips_code       date  cases_per_100K  \\\n",
       "0     Nebraska       Grant County      31075 2020-09-01             0.0   \n",
       "1        Texas       Upton County      48461 2020-09-13             0.0   \n",
       "2  Puerto Rico  Culebra Municipio      72049 2020-10-20             0.0   \n",
       "\n",
       "  community_transmission_level  cases_100K_+14  cases_100K_+30 plus_60_days  \n",
       "0                          low             0.0             0.0   2020-10-31  \n",
       "1                         high             NaN             0.0   2020-11-12  \n",
       "2                          low             0.0             0.0   2020-12-19  "
      ]
     },
     "execution_count": 55,
     "metadata": {},
     "output_type": "execute_result"
    }
   ],
   "source": [
    "COVID_cases_9.head(3)"
   ]
  },
  {
   "cell_type": "code",
   "execution_count": 56,
   "id": "b58fbf4d",
   "metadata": {},
   "outputs": [],
   "source": [
    "# Delete date on new DF to facilitate merge\n",
    "COVID_cases_10 = COVID_cases_9.drop(columns = ['date'])"
   ]
  },
  {
   "cell_type": "code",
   "execution_count": 57,
   "id": "f2915b2b",
   "metadata": {},
   "outputs": [],
   "source": [
    "# Re-name date column\n",
    "COVID_cases_11 = COVID_cases_10.rename(columns = {'plus_60_days' : 'date', 'cases_per_100K' : 'cases_100K_+60'})"
   ]
  },
  {
   "cell_type": "code",
   "execution_count": 58,
   "id": "fcd2918f",
   "metadata": {},
   "outputs": [
    {
     "data": {
      "text/html": [
       "<div>\n",
       "<style scoped>\n",
       "    .dataframe tbody tr th:only-of-type {\n",
       "        vertical-align: middle;\n",
       "    }\n",
       "\n",
       "    .dataframe tbody tr th {\n",
       "        vertical-align: top;\n",
       "    }\n",
       "\n",
       "    .dataframe thead th {\n",
       "        text-align: right;\n",
       "    }\n",
       "</style>\n",
       "<table border=\"1\" class=\"dataframe\">\n",
       "  <thead>\n",
       "    <tr style=\"text-align: right;\">\n",
       "      <th></th>\n",
       "      <th>state_name</th>\n",
       "      <th>county_name</th>\n",
       "      <th>fips_code</th>\n",
       "      <th>cases_100K_+60</th>\n",
       "      <th>community_transmission_level</th>\n",
       "      <th>cases_100K_+14</th>\n",
       "      <th>cases_100K_+30</th>\n",
       "      <th>date</th>\n",
       "    </tr>\n",
       "  </thead>\n",
       "  <tbody>\n",
       "    <tr>\n",
       "      <th>0</th>\n",
       "      <td>Nebraska</td>\n",
       "      <td>Grant County</td>\n",
       "      <td>31075</td>\n",
       "      <td>0.0</td>\n",
       "      <td>low</td>\n",
       "      <td>0.0</td>\n",
       "      <td>0.0</td>\n",
       "      <td>2020-10-31</td>\n",
       "    </tr>\n",
       "    <tr>\n",
       "      <th>1</th>\n",
       "      <td>Texas</td>\n",
       "      <td>Upton County</td>\n",
       "      <td>48461</td>\n",
       "      <td>0.0</td>\n",
       "      <td>high</td>\n",
       "      <td>NaN</td>\n",
       "      <td>0.0</td>\n",
       "      <td>2020-11-12</td>\n",
       "    </tr>\n",
       "    <tr>\n",
       "      <th>2</th>\n",
       "      <td>Puerto Rico</td>\n",
       "      <td>Culebra Municipio</td>\n",
       "      <td>72049</td>\n",
       "      <td>0.0</td>\n",
       "      <td>low</td>\n",
       "      <td>0.0</td>\n",
       "      <td>0.0</td>\n",
       "      <td>2020-12-19</td>\n",
       "    </tr>\n",
       "  </tbody>\n",
       "</table>\n",
       "</div>"
      ],
      "text/plain": [
       "    state_name        county_name  fips_code  cases_100K_+60  \\\n",
       "0     Nebraska       Grant County      31075             0.0   \n",
       "1        Texas       Upton County      48461             0.0   \n",
       "2  Puerto Rico  Culebra Municipio      72049             0.0   \n",
       "\n",
       "  community_transmission_level  cases_100K_+14  cases_100K_+30       date  \n",
       "0                          low             0.0             0.0 2020-10-31  \n",
       "1                         high             NaN             0.0 2020-11-12  \n",
       "2                          low             0.0             0.0 2020-12-19  "
      ]
     },
     "execution_count": 58,
     "metadata": {},
     "output_type": "execute_result"
    }
   ],
   "source": [
    "COVID_cases_11.head(3)"
   ]
  },
  {
   "cell_type": "code",
   "execution_count": 59,
   "id": "b046e5a9",
   "metadata": {},
   "outputs": [
    {
     "data": {
      "text/html": [
       "<div>\n",
       "<style scoped>\n",
       "    .dataframe tbody tr th:only-of-type {\n",
       "        vertical-align: middle;\n",
       "    }\n",
       "\n",
       "    .dataframe tbody tr th {\n",
       "        vertical-align: top;\n",
       "    }\n",
       "\n",
       "    .dataframe thead th {\n",
       "        text-align: right;\n",
       "    }\n",
       "</style>\n",
       "<table border=\"1\" class=\"dataframe\">\n",
       "  <thead>\n",
       "    <tr style=\"text-align: right;\">\n",
       "      <th></th>\n",
       "      <th>state_name</th>\n",
       "      <th>county_name</th>\n",
       "      <th>fips_code</th>\n",
       "      <th>date</th>\n",
       "      <th>cases_per_100K</th>\n",
       "      <th>community_transmission_level</th>\n",
       "      <th>cases_100K_+14</th>\n",
       "      <th>cases_100K_+30</th>\n",
       "      <th>plus_60_days</th>\n",
       "    </tr>\n",
       "  </thead>\n",
       "  <tbody>\n",
       "    <tr>\n",
       "      <th>0</th>\n",
       "      <td>Nebraska</td>\n",
       "      <td>Grant County</td>\n",
       "      <td>31075</td>\n",
       "      <td>2020-09-01</td>\n",
       "      <td>0.0</td>\n",
       "      <td>low</td>\n",
       "      <td>0.0</td>\n",
       "      <td>0.0</td>\n",
       "      <td>2020-10-31</td>\n",
       "    </tr>\n",
       "    <tr>\n",
       "      <th>1</th>\n",
       "      <td>Texas</td>\n",
       "      <td>Upton County</td>\n",
       "      <td>48461</td>\n",
       "      <td>2020-09-13</td>\n",
       "      <td>0.0</td>\n",
       "      <td>high</td>\n",
       "      <td>NaN</td>\n",
       "      <td>0.0</td>\n",
       "      <td>2020-11-12</td>\n",
       "    </tr>\n",
       "    <tr>\n",
       "      <th>2</th>\n",
       "      <td>Puerto Rico</td>\n",
       "      <td>Culebra Municipio</td>\n",
       "      <td>72049</td>\n",
       "      <td>2020-10-20</td>\n",
       "      <td>0.0</td>\n",
       "      <td>low</td>\n",
       "      <td>0.0</td>\n",
       "      <td>0.0</td>\n",
       "      <td>2020-12-19</td>\n",
       "    </tr>\n",
       "  </tbody>\n",
       "</table>\n",
       "</div>"
      ],
      "text/plain": [
       "    state_name        county_name  fips_code       date  cases_per_100K  \\\n",
       "0     Nebraska       Grant County      31075 2020-09-01             0.0   \n",
       "1        Texas       Upton County      48461 2020-09-13             0.0   \n",
       "2  Puerto Rico  Culebra Municipio      72049 2020-10-20             0.0   \n",
       "\n",
       "  community_transmission_level  cases_100K_+14  cases_100K_+30 plus_60_days  \n",
       "0                          low             0.0             0.0   2020-10-31  \n",
       "1                         high             NaN             0.0   2020-11-12  \n",
       "2                          low             0.0             0.0   2020-12-19  "
      ]
     },
     "execution_count": 59,
     "metadata": {},
     "output_type": "execute_result"
    }
   ],
   "source": [
    "COVID_cases_9.head(3)"
   ]
  },
  {
   "cell_type": "code",
   "execution_count": 60,
   "id": "5350cea3",
   "metadata": {},
   "outputs": [],
   "source": [
    "COVID_cases_9 = COVID_cases_9.drop(columns = ['plus_60_days'])"
   ]
  },
  {
   "cell_type": "code",
   "execution_count": 61,
   "id": "47bd33af",
   "metadata": {},
   "outputs": [],
   "source": [
    "# Merge dataframes to create new variable\n",
    "COVID_cases_12 = COVID_cases_9.merge(COVID_cases_11, on = ['date', 'state_name','county_name','fips_code','community_transmission_level','cases_100K_+14','cases_100K_+30'])"
   ]
  },
  {
   "cell_type": "code",
   "execution_count": 62,
   "id": "c697ac6b",
   "metadata": {},
   "outputs": [
    {
     "data": {
      "text/html": [
       "<div>\n",
       "<style scoped>\n",
       "    .dataframe tbody tr th:only-of-type {\n",
       "        vertical-align: middle;\n",
       "    }\n",
       "\n",
       "    .dataframe tbody tr th {\n",
       "        vertical-align: top;\n",
       "    }\n",
       "\n",
       "    .dataframe thead th {\n",
       "        text-align: right;\n",
       "    }\n",
       "</style>\n",
       "<table border=\"1\" class=\"dataframe\">\n",
       "  <thead>\n",
       "    <tr style=\"text-align: right;\">\n",
       "      <th></th>\n",
       "      <th>state_name</th>\n",
       "      <th>county_name</th>\n",
       "      <th>fips_code</th>\n",
       "      <th>date</th>\n",
       "      <th>cases_per_100K</th>\n",
       "      <th>community_transmission_level</th>\n",
       "      <th>cases_100K_+14</th>\n",
       "      <th>cases_100K_+30</th>\n",
       "      <th>cases_100K_+60</th>\n",
       "    </tr>\n",
       "  </thead>\n",
       "  <tbody>\n",
       "    <tr>\n",
       "      <th>0</th>\n",
       "      <td>Nebraska</td>\n",
       "      <td>Grant County</td>\n",
       "      <td>31075</td>\n",
       "      <td>2020-09-01</td>\n",
       "      <td>0.0</td>\n",
       "      <td>low</td>\n",
       "      <td>0.0</td>\n",
       "      <td>0.0</td>\n",
       "      <td>0.0</td>\n",
       "    </tr>\n",
       "    <tr>\n",
       "      <th>1</th>\n",
       "      <td>Texas</td>\n",
       "      <td>King County</td>\n",
       "      <td>48269</td>\n",
       "      <td>2020-11-07</td>\n",
       "      <td>0.0</td>\n",
       "      <td>low</td>\n",
       "      <td>0.0</td>\n",
       "      <td>0.0</td>\n",
       "      <td>0.0</td>\n",
       "    </tr>\n",
       "    <tr>\n",
       "      <th>2</th>\n",
       "      <td>California</td>\n",
       "      <td>Sierra County</td>\n",
       "      <td>6091</td>\n",
       "      <td>2020-08-03</td>\n",
       "      <td>0.0</td>\n",
       "      <td>low</td>\n",
       "      <td>0.0</td>\n",
       "      <td>0.0</td>\n",
       "      <td>0.0</td>\n",
       "    </tr>\n",
       "  </tbody>\n",
       "</table>\n",
       "</div>"
      ],
      "text/plain": [
       "   state_name    county_name  fips_code       date  cases_per_100K  \\\n",
       "0    Nebraska   Grant County      31075 2020-09-01             0.0   \n",
       "1       Texas    King County      48269 2020-11-07             0.0   \n",
       "2  California  Sierra County       6091 2020-08-03             0.0   \n",
       "\n",
       "  community_transmission_level  cases_100K_+14  cases_100K_+30  cases_100K_+60  \n",
       "0                          low             0.0             0.0             0.0  \n",
       "1                          low             0.0             0.0             0.0  \n",
       "2                          low             0.0             0.0             0.0  "
      ]
     },
     "execution_count": 62,
     "metadata": {},
     "output_type": "execute_result"
    }
   ],
   "source": [
    "COVID_cases_12.head(3)"
   ]
  },
  {
   "cell_type": "markdown",
   "id": "69b8e693",
   "metadata": {},
   "source": [
    "## 4. Download Cleaned Data"
   ]
  },
  {
   "cell_type": "code",
   "execution_count": 63,
   "id": "f6a87910",
   "metadata": {},
   "outputs": [],
   "source": [
    "#Download cleaned data\n",
    "COVID_cases_12.to_csv(os.path.join(path, 'COVID_cases_per_100K.csv'))"
   ]
  },
  {
   "cell_type": "code",
   "execution_count": null,
   "id": "068eadce",
   "metadata": {},
   "outputs": [],
   "source": []
  }
 ],
 "metadata": {
  "kernelspec": {
   "display_name": "Python 3 (ipykernel)",
   "language": "python",
   "name": "python3"
  },
  "language_info": {
   "codemirror_mode": {
    "name": "ipython",
    "version": 3
   },
   "file_extension": ".py",
   "mimetype": "text/x-python",
   "name": "python",
   "nbconvert_exporter": "python",
   "pygments_lexer": "ipython3",
   "version": "3.9.7"
  }
 },
 "nbformat": 4,
 "nbformat_minor": 5
}
