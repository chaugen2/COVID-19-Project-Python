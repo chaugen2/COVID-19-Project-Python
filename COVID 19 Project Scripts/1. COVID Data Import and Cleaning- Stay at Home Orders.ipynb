{
 "cells": [
  {
   "cell_type": "markdown",
   "id": "11b85d1c",
   "metadata": {},
   "source": [
    "## Import Libraries, Create Folder Path"
   ]
  },
  {
   "cell_type": "code",
   "execution_count": 1,
   "id": "5b5b0125",
   "metadata": {},
   "outputs": [],
   "source": [
    "# Import libraries\n",
    "import pandas as pd\n",
    "import numpy as np\n",
    "import os"
   ]
  },
  {
   "cell_type": "code",
   "execution_count": 2,
   "id": "467117a6",
   "metadata": {},
   "outputs": [],
   "source": [
    "# Create path to folder\n",
    "path = r'/Users/caitlin/iCloud/Caitlin/COVID Data'"
   ]
  },
  {
   "cell_type": "code",
   "execution_count": 3,
   "id": "c63f61d5",
   "metadata": {},
   "outputs": [
    {
     "data": {
      "text/plain": [
       "'/Users/caitlin/iCloud/Caitlin/COVID Data'"
      ]
     },
     "execution_count": 3,
     "metadata": {},
     "output_type": "execute_result"
    }
   ],
   "source": [
    "path"
   ]
  },
  {
   "cell_type": "markdown",
   "id": "5035865b",
   "metadata": {},
   "source": [
    "## Upload Data - Stay at Home Orders"
   ]
  },
  {
   "cell_type": "code",
   "execution_count": 4,
   "id": "7403e697",
   "metadata": {},
   "outputs": [
    {
     "name": "stderr",
     "output_type": "stream",
     "text": [
      "/Users/caitlin/opt/anaconda3/lib/python3.9/site-packages/IPython/core/interactiveshell.py:3444: DtypeWarning: Columns (9) have mixed types.Specify dtype option on import or set low_memory=False.\n",
      "  exec(code_obj, self.user_global_ns, self.user_ns)\n"
     ]
    }
   ],
   "source": [
    "# Import data file\n",
    "COVID_home_order = pd.read_csv(os.path.join(path, 'COVID_home_orders.csv'), index_col = False)"
   ]
  },
  {
   "cell_type": "code",
   "execution_count": 5,
   "id": "e91c6f90",
   "metadata": {},
   "outputs": [],
   "source": [
    "# Show all columns\n",
    "pd.options.display.max_columns = None"
   ]
  },
  {
   "cell_type": "code",
   "execution_count": 6,
   "id": "95d81699",
   "metadata": {},
   "outputs": [
    {
     "data": {
      "text/plain": [
       "(1677927, 11)"
      ]
     },
     "execution_count": 6,
     "metadata": {},
     "output_type": "execute_result"
    }
   ],
   "source": [
    "# Examine shape\n",
    "COVID_home_order.shape"
   ]
  },
  {
   "cell_type": "code",
   "execution_count": 7,
   "id": "b1cb7e21",
   "metadata": {},
   "outputs": [
    {
     "name": "stdout",
     "output_type": "stream",
     "text": [
      "<class 'pandas.core.frame.DataFrame'>\n",
      "RangeIndex: 1677927 entries, 0 to 1677926\n",
      "Data columns (total 11 columns):\n",
      " #   Column                             Non-Null Count    Dtype \n",
      "---  ------                             --------------    ----- \n",
      " 0   State_Tribe_Territory              1677927 non-null  object\n",
      " 1   County_Name                        1677927 non-null  object\n",
      " 2   FIPS_State                         1677927 non-null  int64 \n",
      " 3   FIPS_County                        1677927 non-null  int64 \n",
      " 4   date                               1677927 non-null  object\n",
      " 5   Order_code                         1677927 non-null  int64 \n",
      " 6   Stay_at_Home_Order_Recommendation  1461933 non-null  object\n",
      " 7   Express_Preemption                 1448788 non-null  object\n",
      " 8   Source_of_Action                   1461223 non-null  object\n",
      " 9   URL                                721717 non-null   object\n",
      " 10  Citation                           1461933 non-null  object\n",
      "dtypes: int64(3), object(8)\n",
      "memory usage: 140.8+ MB\n"
     ]
    }
   ],
   "source": [
    "# Check info\n",
    "COVID_home_order.info()"
   ]
  },
  {
   "cell_type": "code",
   "execution_count": 8,
   "id": "a2894185",
   "metadata": {},
   "outputs": [
    {
     "data": {
      "text/html": [
       "<div>\n",
       "<style scoped>\n",
       "    .dataframe tbody tr th:only-of-type {\n",
       "        vertical-align: middle;\n",
       "    }\n",
       "\n",
       "    .dataframe tbody tr th {\n",
       "        vertical-align: top;\n",
       "    }\n",
       "\n",
       "    .dataframe thead th {\n",
       "        text-align: right;\n",
       "    }\n",
       "</style>\n",
       "<table border=\"1\" class=\"dataframe\">\n",
       "  <thead>\n",
       "    <tr style=\"text-align: right;\">\n",
       "      <th></th>\n",
       "      <th>State_Tribe_Territory</th>\n",
       "      <th>County_Name</th>\n",
       "      <th>FIPS_State</th>\n",
       "      <th>FIPS_County</th>\n",
       "      <th>date</th>\n",
       "      <th>Order_code</th>\n",
       "      <th>Stay_at_Home_Order_Recommendation</th>\n",
       "      <th>Express_Preemption</th>\n",
       "      <th>Source_of_Action</th>\n",
       "      <th>URL</th>\n",
       "      <th>Citation</th>\n",
       "    </tr>\n",
       "  </thead>\n",
       "  <tbody>\n",
       "    <tr>\n",
       "      <th>0</th>\n",
       "      <td>AL</td>\n",
       "      <td>Autauga County</td>\n",
       "      <td>1</td>\n",
       "      <td>1</td>\n",
       "      <td>3/15/2020</td>\n",
       "      <td>7</td>\n",
       "      <td>NaN</td>\n",
       "      <td>NaN</td>\n",
       "      <td>NaN</td>\n",
       "      <td>NaN</td>\n",
       "      <td>NaN</td>\n",
       "    </tr>\n",
       "    <tr>\n",
       "      <th>1</th>\n",
       "      <td>AL</td>\n",
       "      <td>Autauga County</td>\n",
       "      <td>1</td>\n",
       "      <td>1</td>\n",
       "      <td>3/16/2020</td>\n",
       "      <td>7</td>\n",
       "      <td>NaN</td>\n",
       "      <td>NaN</td>\n",
       "      <td>NaN</td>\n",
       "      <td>NaN</td>\n",
       "      <td>NaN</td>\n",
       "    </tr>\n",
       "    <tr>\n",
       "      <th>2</th>\n",
       "      <td>AL</td>\n",
       "      <td>Autauga County</td>\n",
       "      <td>1</td>\n",
       "      <td>1</td>\n",
       "      <td>3/17/2020</td>\n",
       "      <td>7</td>\n",
       "      <td>NaN</td>\n",
       "      <td>NaN</td>\n",
       "      <td>NaN</td>\n",
       "      <td>NaN</td>\n",
       "      <td>NaN</td>\n",
       "    </tr>\n",
       "    <tr>\n",
       "      <th>3</th>\n",
       "      <td>AL</td>\n",
       "      <td>Autauga County</td>\n",
       "      <td>1</td>\n",
       "      <td>1</td>\n",
       "      <td>3/18/2020</td>\n",
       "      <td>7</td>\n",
       "      <td>NaN</td>\n",
       "      <td>NaN</td>\n",
       "      <td>NaN</td>\n",
       "      <td>NaN</td>\n",
       "      <td>NaN</td>\n",
       "    </tr>\n",
       "    <tr>\n",
       "      <th>4</th>\n",
       "      <td>AL</td>\n",
       "      <td>Autauga County</td>\n",
       "      <td>1</td>\n",
       "      <td>1</td>\n",
       "      <td>3/19/2020</td>\n",
       "      <td>7</td>\n",
       "      <td>NaN</td>\n",
       "      <td>NaN</td>\n",
       "      <td>NaN</td>\n",
       "      <td>NaN</td>\n",
       "      <td>NaN</td>\n",
       "    </tr>\n",
       "  </tbody>\n",
       "</table>\n",
       "</div>"
      ],
      "text/plain": [
       "  State_Tribe_Territory     County_Name  FIPS_State  FIPS_County       date  \\\n",
       "0                    AL  Autauga County           1            1  3/15/2020   \n",
       "1                    AL  Autauga County           1            1  3/16/2020   \n",
       "2                    AL  Autauga County           1            1  3/17/2020   \n",
       "3                    AL  Autauga County           1            1  3/18/2020   \n",
       "4                    AL  Autauga County           1            1  3/19/2020   \n",
       "\n",
       "   Order_code Stay_at_Home_Order_Recommendation Express_Preemption  \\\n",
       "0           7                               NaN                NaN   \n",
       "1           7                               NaN                NaN   \n",
       "2           7                               NaN                NaN   \n",
       "3           7                               NaN                NaN   \n",
       "4           7                               NaN                NaN   \n",
       "\n",
       "  Source_of_Action  URL Citation  \n",
       "0              NaN  NaN      NaN  \n",
       "1              NaN  NaN      NaN  \n",
       "2              NaN  NaN      NaN  \n",
       "3              NaN  NaN      NaN  \n",
       "4              NaN  NaN      NaN  "
      ]
     },
     "execution_count": 8,
     "metadata": {},
     "output_type": "execute_result"
    }
   ],
   "source": [
    "# Examine columns for home order data\n",
    "COVID_home_order.head()"
   ]
  },
  {
   "cell_type": "markdown",
   "id": "c806e9d3",
   "metadata": {},
   "source": [
    "## Consistency Checks and Cleaning - Stay at Home Orders"
   ]
  },
  {
   "cell_type": "markdown",
   "id": "d4e3e8aa",
   "metadata": {},
   "source": [
    "### Drop Columns"
   ]
  },
  {
   "cell_type": "code",
   "execution_count": 9,
   "id": "cca92e5b",
   "metadata": {},
   "outputs": [],
   "source": [
    "# Drop unnecessary columns\n",
    "## The source of the data is not important - the focus is on the actual close orders.\n",
    "COVID_home_2 = COVID_home_order.drop(columns = ['Express_Preemption', 'Source_of_Action','URL','Citation'],)"
   ]
  },
  {
   "cell_type": "code",
   "execution_count": 10,
   "id": "fe16abac",
   "metadata": {},
   "outputs": [
    {
     "data": {
      "text/html": [
       "<div>\n",
       "<style scoped>\n",
       "    .dataframe tbody tr th:only-of-type {\n",
       "        vertical-align: middle;\n",
       "    }\n",
       "\n",
       "    .dataframe tbody tr th {\n",
       "        vertical-align: top;\n",
       "    }\n",
       "\n",
       "    .dataframe thead th {\n",
       "        text-align: right;\n",
       "    }\n",
       "</style>\n",
       "<table border=\"1\" class=\"dataframe\">\n",
       "  <thead>\n",
       "    <tr style=\"text-align: right;\">\n",
       "      <th></th>\n",
       "      <th>State_Tribe_Territory</th>\n",
       "      <th>County_Name</th>\n",
       "      <th>FIPS_State</th>\n",
       "      <th>FIPS_County</th>\n",
       "      <th>date</th>\n",
       "      <th>Order_code</th>\n",
       "      <th>Stay_at_Home_Order_Recommendation</th>\n",
       "    </tr>\n",
       "  </thead>\n",
       "  <tbody>\n",
       "    <tr>\n",
       "      <th>0</th>\n",
       "      <td>AL</td>\n",
       "      <td>Autauga County</td>\n",
       "      <td>1</td>\n",
       "      <td>1</td>\n",
       "      <td>3/15/2020</td>\n",
       "      <td>7</td>\n",
       "      <td>NaN</td>\n",
       "    </tr>\n",
       "    <tr>\n",
       "      <th>1</th>\n",
       "      <td>AL</td>\n",
       "      <td>Autauga County</td>\n",
       "      <td>1</td>\n",
       "      <td>1</td>\n",
       "      <td>3/16/2020</td>\n",
       "      <td>7</td>\n",
       "      <td>NaN</td>\n",
       "    </tr>\n",
       "    <tr>\n",
       "      <th>2</th>\n",
       "      <td>AL</td>\n",
       "      <td>Autauga County</td>\n",
       "      <td>1</td>\n",
       "      <td>1</td>\n",
       "      <td>3/17/2020</td>\n",
       "      <td>7</td>\n",
       "      <td>NaN</td>\n",
       "    </tr>\n",
       "    <tr>\n",
       "      <th>3</th>\n",
       "      <td>AL</td>\n",
       "      <td>Autauga County</td>\n",
       "      <td>1</td>\n",
       "      <td>1</td>\n",
       "      <td>3/18/2020</td>\n",
       "      <td>7</td>\n",
       "      <td>NaN</td>\n",
       "    </tr>\n",
       "    <tr>\n",
       "      <th>4</th>\n",
       "      <td>AL</td>\n",
       "      <td>Autauga County</td>\n",
       "      <td>1</td>\n",
       "      <td>1</td>\n",
       "      <td>3/19/2020</td>\n",
       "      <td>7</td>\n",
       "      <td>NaN</td>\n",
       "    </tr>\n",
       "  </tbody>\n",
       "</table>\n",
       "</div>"
      ],
      "text/plain": [
       "  State_Tribe_Territory     County_Name  FIPS_State  FIPS_County       date  \\\n",
       "0                    AL  Autauga County           1            1  3/15/2020   \n",
       "1                    AL  Autauga County           1            1  3/16/2020   \n",
       "2                    AL  Autauga County           1            1  3/17/2020   \n",
       "3                    AL  Autauga County           1            1  3/18/2020   \n",
       "4                    AL  Autauga County           1            1  3/19/2020   \n",
       "\n",
       "   Order_code Stay_at_Home_Order_Recommendation  \n",
       "0           7                               NaN  \n",
       "1           7                               NaN  \n",
       "2           7                               NaN  \n",
       "3           7                               NaN  \n",
       "4           7                               NaN  "
      ]
     },
     "execution_count": 10,
     "metadata": {},
     "output_type": "execute_result"
    }
   ],
   "source": [
    "# Check column drop\n",
    "COVID_home_2.head()"
   ]
  },
  {
   "cell_type": "markdown",
   "id": "e47a3f74",
   "metadata": {},
   "source": [
    "### Find duplicates"
   ]
  },
  {
   "cell_type": "code",
   "execution_count": 11,
   "id": "f58e7707",
   "metadata": {},
   "outputs": [],
   "source": [
    "# Find home order duplicates\n",
    "COVID_home_order_dups = COVID_home_2[COVID_home_2.duplicated()]"
   ]
  },
  {
   "cell_type": "code",
   "execution_count": 12,
   "id": "86faa90a",
   "metadata": {},
   "outputs": [
    {
     "data": {
      "text/html": [
       "<div>\n",
       "<style scoped>\n",
       "    .dataframe tbody tr th:only-of-type {\n",
       "        vertical-align: middle;\n",
       "    }\n",
       "\n",
       "    .dataframe tbody tr th {\n",
       "        vertical-align: top;\n",
       "    }\n",
       "\n",
       "    .dataframe thead th {\n",
       "        text-align: right;\n",
       "    }\n",
       "</style>\n",
       "<table border=\"1\" class=\"dataframe\">\n",
       "  <thead>\n",
       "    <tr style=\"text-align: right;\">\n",
       "      <th></th>\n",
       "      <th>State_Tribe_Territory</th>\n",
       "      <th>County_Name</th>\n",
       "      <th>FIPS_State</th>\n",
       "      <th>FIPS_County</th>\n",
       "      <th>date</th>\n",
       "      <th>Order_code</th>\n",
       "      <th>Stay_at_Home_Order_Recommendation</th>\n",
       "    </tr>\n",
       "  </thead>\n",
       "  <tbody>\n",
       "  </tbody>\n",
       "</table>\n",
       "</div>"
      ],
      "text/plain": [
       "Empty DataFrame\n",
       "Columns: [State_Tribe_Territory, County_Name, FIPS_State, FIPS_County, date, Order_code, Stay_at_Home_Order_Recommendation]\n",
       "Index: []"
      ]
     },
     "execution_count": 12,
     "metadata": {},
     "output_type": "execute_result"
    }
   ],
   "source": [
    "COVID_home_order_dups"
   ]
  },
  {
   "cell_type": "code",
   "execution_count": 13,
   "id": "ff7838ea",
   "metadata": {
    "scrolled": true
   },
   "outputs": [
    {
     "data": {
      "text/plain": [
       "(0, 7)"
      ]
     },
     "execution_count": 13,
     "metadata": {},
     "output_type": "execute_result"
    }
   ],
   "source": [
    "COVID_home_order_dups.shape"
   ]
  },
  {
   "cell_type": "markdown",
   "id": "3ba64f28",
   "metadata": {},
   "source": [
    "No duplicates found."
   ]
  },
  {
   "cell_type": "markdown",
   "id": "bf5c43d0",
   "metadata": {},
   "source": [
    "I am merging this dataset with mask mandate data. That dataset starts 10 April. I am also only interested in the time before vaccines because I do not want to adjust for vaccines as another variable. The first vaccine was issued in the US on 14 Dec 2020, so I am ending on that date."
   ]
  },
  {
   "cell_type": "markdown",
   "id": "70fc72b8",
   "metadata": {},
   "source": [
    "### Change date column format"
   ]
  },
  {
   "cell_type": "code",
   "execution_count": 14,
   "id": "0a9cc65f",
   "metadata": {},
   "outputs": [],
   "source": [
    "# Change date column to datetime format so it behaves as a number\n",
    "COVID_home_2['date'] = pd.to_datetime(COVID_home_2['date'])"
   ]
  },
  {
   "cell_type": "code",
   "execution_count": 15,
   "id": "03c4c339",
   "metadata": {},
   "outputs": [
    {
     "name": "stdout",
     "output_type": "stream",
     "text": [
      "<class 'pandas.core.frame.DataFrame'>\n",
      "RangeIndex: 1677927 entries, 0 to 1677926\n",
      "Data columns (total 7 columns):\n",
      " #   Column                             Non-Null Count    Dtype         \n",
      "---  ------                             --------------    -----         \n",
      " 0   State_Tribe_Territory              1677927 non-null  object        \n",
      " 1   County_Name                        1677927 non-null  object        \n",
      " 2   FIPS_State                         1677927 non-null  int64         \n",
      " 3   FIPS_County                        1677927 non-null  int64         \n",
      " 4   date                               1677927 non-null  datetime64[ns]\n",
      " 5   Order_code                         1677927 non-null  int64         \n",
      " 6   Stay_at_Home_Order_Recommendation  1461933 non-null  object        \n",
      "dtypes: datetime64[ns](1), int64(3), object(3)\n",
      "memory usage: 89.6+ MB\n"
     ]
    }
   ],
   "source": [
    "# Check change\n",
    "COVID_home_2.info()"
   ]
  },
  {
   "cell_type": "markdown",
   "id": "b51f0679",
   "metadata": {},
   "source": [
    "## Take out unwanted values"
   ]
  },
  {
   "cell_type": "code",
   "execution_count": 16,
   "id": "927cf5c0",
   "metadata": {},
   "outputs": [
    {
     "data": {
      "text/plain": [
       "Timestamp('2021-08-15 00:00:00')"
      ]
     },
     "execution_count": 16,
     "metadata": {},
     "output_type": "execute_result"
    }
   ],
   "source": [
    "# Check min and max values to see which ones to eliminate\n",
    "COVID_home_2['date'].max()"
   ]
  },
  {
   "cell_type": "code",
   "execution_count": 17,
   "id": "e2b4d12e",
   "metadata": {
    "scrolled": true
   },
   "outputs": [
    {
     "data": {
      "text/plain": [
       "Timestamp('2020-03-15 00:00:00')"
      ]
     },
     "execution_count": 17,
     "metadata": {},
     "output_type": "execute_result"
    }
   ],
   "source": [
    "COVID_home_2['date'].min()"
   ]
  },
  {
   "cell_type": "code",
   "execution_count": 18,
   "id": "df125051",
   "metadata": {},
   "outputs": [],
   "source": [
    "# Make subset of desired time values\n",
    "COVID_home_3 = COVID_home_2[(COVID_home_2['date'] >= '2020-04-10') & (COVID_home_2['date'] < '2020-12-14')]"
   ]
  },
  {
   "cell_type": "code",
   "execution_count": 19,
   "id": "9355f13c",
   "metadata": {},
   "outputs": [
    {
     "data": {
      "text/plain": [
       "Timestamp('2020-12-13 00:00:00')"
      ]
     },
     "execution_count": 19,
     "metadata": {},
     "output_type": "execute_result"
    }
   ],
   "source": [
    "COVID_home_3['date'].max()"
   ]
  },
  {
   "cell_type": "code",
   "execution_count": 20,
   "id": "130df7bc",
   "metadata": {},
   "outputs": [
    {
     "data": {
      "text/plain": [
       "Timestamp('2020-04-10 00:00:00')"
      ]
     },
     "execution_count": 20,
     "metadata": {},
     "output_type": "execute_result"
    }
   ],
   "source": [
    "COVID_home_3['date'].min()"
   ]
  },
  {
   "cell_type": "code",
   "execution_count": 21,
   "id": "a970ba80",
   "metadata": {},
   "outputs": [
    {
     "data": {
      "text/plain": [
       "(801784, 7)"
      ]
     },
     "execution_count": 21,
     "metadata": {},
     "output_type": "execute_result"
    }
   ],
   "source": [
    "COVID_home_3.shape"
   ]
  },
  {
   "cell_type": "markdown",
   "id": "890c3643",
   "metadata": {},
   "source": [
    "Only interested in 50 states and DC, eliminate other values."
   ]
  },
  {
   "cell_type": "code",
   "execution_count": 22,
   "id": "794892e4",
   "metadata": {},
   "outputs": [
    {
     "data": {
      "text/plain": [
       "FIPS_State  State_Tribe_Territory\n",
       "1           AL                       16616\n",
       "2           AK                        7192\n",
       "4           AZ                        3720\n",
       "5           AR                       18600\n",
       "6           CA                       14384\n",
       "8           CO                       15872\n",
       "9           CT                        1984\n",
       "10          DE                         744\n",
       "11          DC                         248\n",
       "12          FL                       16616\n",
       "13          GA                       39432\n",
       "15          HI                        1240\n",
       "16          ID                       10912\n",
       "17          IL                       25296\n",
       "18          IN                       22816\n",
       "19          IA                       24552\n",
       "20          KS                       26040\n",
       "21          KY                       29760\n",
       "22          LA                       15872\n",
       "23          ME                        3968\n",
       "24          MD                        5952\n",
       "25          MA                        3472\n",
       "26          MI                       20584\n",
       "27          MN                       21576\n",
       "28          MS                       20336\n",
       "29          MO                       28520\n",
       "30          MT                       13888\n",
       "31          NE                       23064\n",
       "32          NV                        4216\n",
       "33          NH                        2480\n",
       "34          NJ                        5208\n",
       "35          NM                        8184\n",
       "36          NY                       15376\n",
       "37          NC                       24800\n",
       "38          ND                       13144\n",
       "39          OH                       21824\n",
       "40          OK                       19096\n",
       "41          OR                        8928\n",
       "42          PA                       16616\n",
       "44          RI                        1240\n",
       "45          SC                       11408\n",
       "46          SD                       16368\n",
       "47          TN                       23560\n",
       "48          TX                       62992\n",
       "49          UT                        7192\n",
       "50          VT                        3472\n",
       "51          VA                       32984\n",
       "53          WA                        9672\n",
       "54          WV                       13640\n",
       "55          WI                       17856\n",
       "56          WY                        5704\n",
       "60          AS                        1240\n",
       "66          GU                         248\n",
       "69          MP                         992\n",
       "72          PR                       19344\n",
       "78          VI                         744\n",
       "Name: State_Tribe_Territory, dtype: int64"
      ]
     },
     "execution_count": 22,
     "metadata": {},
     "output_type": "execute_result"
    }
   ],
   "source": [
    "# Group by to index state names by FIPS code\n",
    "COVID_home_3.groupby(['FIPS_State'])['State_Tribe_Territory'].value_counts()"
   ]
  },
  {
   "cell_type": "code",
   "execution_count": 23,
   "id": "ff7db799",
   "metadata": {},
   "outputs": [],
   "source": [
    "# Remove all but 50 states and DC\n",
    "COVID_home_4 = COVID_home_3[(COVID_home_3.FIPS_State != 78) \n",
    "                            & (COVID_home_3.FIPS_State != 72) \n",
    "                            & (COVID_home_3.FIPS_State != 69)\n",
    "                            & (COVID_home_3.FIPS_State != 66)\n",
    "                            & (COVID_home_3.FIPS_State != 60)]"
   ]
  },
  {
   "cell_type": "code",
   "execution_count": 24,
   "id": "081af822",
   "metadata": {},
   "outputs": [
    {
     "data": {
      "text/plain": [
       "FIPS_State  State_Tribe_Territory\n",
       "1           AL                       16616\n",
       "2           AK                        7192\n",
       "4           AZ                        3720\n",
       "5           AR                       18600\n",
       "6           CA                       14384\n",
       "8           CO                       15872\n",
       "9           CT                        1984\n",
       "10          DE                         744\n",
       "11          DC                         248\n",
       "12          FL                       16616\n",
       "13          GA                       39432\n",
       "15          HI                        1240\n",
       "16          ID                       10912\n",
       "17          IL                       25296\n",
       "18          IN                       22816\n",
       "19          IA                       24552\n",
       "20          KS                       26040\n",
       "21          KY                       29760\n",
       "22          LA                       15872\n",
       "23          ME                        3968\n",
       "24          MD                        5952\n",
       "25          MA                        3472\n",
       "26          MI                       20584\n",
       "27          MN                       21576\n",
       "28          MS                       20336\n",
       "29          MO                       28520\n",
       "30          MT                       13888\n",
       "31          NE                       23064\n",
       "32          NV                        4216\n",
       "33          NH                        2480\n",
       "34          NJ                        5208\n",
       "35          NM                        8184\n",
       "36          NY                       15376\n",
       "37          NC                       24800\n",
       "38          ND                       13144\n",
       "39          OH                       21824\n",
       "40          OK                       19096\n",
       "41          OR                        8928\n",
       "42          PA                       16616\n",
       "44          RI                        1240\n",
       "45          SC                       11408\n",
       "46          SD                       16368\n",
       "47          TN                       23560\n",
       "48          TX                       62992\n",
       "49          UT                        7192\n",
       "50          VT                        3472\n",
       "51          VA                       32984\n",
       "53          WA                        9672\n",
       "54          WV                       13640\n",
       "55          WI                       17856\n",
       "56          WY                        5704\n",
       "Name: State_Tribe_Territory, dtype: int64"
      ]
     },
     "execution_count": 24,
     "metadata": {},
     "output_type": "execute_result"
    }
   ],
   "source": [
    "# Index by group by to confirm drop\n",
    "COVID_home_4.groupby(['FIPS_State'])['State_Tribe_Territory'].value_counts(dropna = False)"
   ]
  },
  {
   "cell_type": "code",
   "execution_count": 25,
   "id": "89dfb2e6",
   "metadata": {},
   "outputs": [
    {
     "data": {
      "text/plain": [
       "(779216, 7)"
      ]
     },
     "execution_count": 25,
     "metadata": {},
     "output_type": "execute_result"
    }
   ],
   "source": [
    "COVID_home_4.shape"
   ]
  },
  {
   "cell_type": "markdown",
   "id": "8b1bd29e",
   "metadata": {},
   "source": [
    "The DF is taking up a lot of memory, so changing int64 where there are not as many values."
   ]
  },
  {
   "cell_type": "markdown",
   "id": "12aceb8b",
   "metadata": {},
   "source": [
    "## Reduce memeory by changing data types"
   ]
  },
  {
   "cell_type": "code",
   "execution_count": 26,
   "id": "dd57e486",
   "metadata": {},
   "outputs": [
    {
     "name": "stderr",
     "output_type": "stream",
     "text": [
      "/var/folders/w8/gy54n1g94d31tmr9tf_tq_ym0000gn/T/ipykernel_10659/2222209805.py:2: SettingWithCopyWarning: \n",
      "A value is trying to be set on a copy of a slice from a DataFrame.\n",
      "Try using .loc[row_indexer,col_indexer] = value instead\n",
      "\n",
      "See the caveats in the documentation: https://pandas.pydata.org/pandas-docs/stable/user_guide/indexing.html#returning-a-view-versus-a-copy\n",
      "  COVID_home_4['Order_code'] = COVID_home_4['Order_code'].astype('int8')\n"
     ]
    }
   ],
   "source": [
    "# Change int values to lower int values to save memory - order code only has 2 values so int8\n",
    "COVID_home_4['Order_code'] = COVID_home_4['Order_code'].astype('int8')"
   ]
  },
  {
   "cell_type": "code",
   "execution_count": 27,
   "id": "bde61d4f",
   "metadata": {},
   "outputs": [
    {
     "name": "stderr",
     "output_type": "stream",
     "text": [
      "/var/folders/w8/gy54n1g94d31tmr9tf_tq_ym0000gn/T/ipykernel_10659/3096496573.py:2: SettingWithCopyWarning: \n",
      "A value is trying to be set on a copy of a slice from a DataFrame.\n",
      "Try using .loc[row_indexer,col_indexer] = value instead\n",
      "\n",
      "See the caveats in the documentation: https://pandas.pydata.org/pandas-docs/stable/user_guide/indexing.html#returning-a-view-versus-a-copy\n",
      "  COVID_home_4['FIPS_State'] = COVID_home_4['FIPS_State'].astype('int8')\n"
     ]
    }
   ],
   "source": [
    "# Change int values to lower int values to save memory - FIPS only has ~50 values so int8\n",
    "COVID_home_4['FIPS_State'] = COVID_home_4['FIPS_State'].astype('int8')"
   ]
  },
  {
   "cell_type": "code",
   "execution_count": 28,
   "id": "6bf7ff1d",
   "metadata": {},
   "outputs": [
    {
     "data": {
      "text/plain": [
       "840"
      ]
     },
     "execution_count": 28,
     "metadata": {},
     "output_type": "execute_result"
    }
   ],
   "source": [
    "#Check max value for county for int change\n",
    "COVID_home_4['FIPS_County'].max()"
   ]
  },
  {
   "cell_type": "code",
   "execution_count": 29,
   "id": "41b7080b",
   "metadata": {},
   "outputs": [
    {
     "name": "stderr",
     "output_type": "stream",
     "text": [
      "/var/folders/w8/gy54n1g94d31tmr9tf_tq_ym0000gn/T/ipykernel_10659/3800716095.py:2: SettingWithCopyWarning: \n",
      "A value is trying to be set on a copy of a slice from a DataFrame.\n",
      "Try using .loc[row_indexer,col_indexer] = value instead\n",
      "\n",
      "See the caveats in the documentation: https://pandas.pydata.org/pandas-docs/stable/user_guide/indexing.html#returning-a-view-versus-a-copy\n",
      "  COVID_home_4['FIPS_County'] = COVID_home_4['FIPS_County'].astype('int16')\n"
     ]
    }
   ],
   "source": [
    "# Change FIPS county to int 16 because that has max value over 30,000\n",
    "COVID_home_4['FIPS_County'] = COVID_home_4['FIPS_County'].astype('int16')"
   ]
  },
  {
   "cell_type": "code",
   "execution_count": 30,
   "id": "1c99c513",
   "metadata": {},
   "outputs": [
    {
     "name": "stdout",
     "output_type": "stream",
     "text": [
      "<class 'pandas.core.frame.DataFrame'>\n",
      "Int64Index: 779216 entries, 26 to 917445\n",
      "Data columns (total 7 columns):\n",
      " #   Column                             Non-Null Count   Dtype         \n",
      "---  ------                             --------------   -----         \n",
      " 0   State_Tribe_Territory              779216 non-null  object        \n",
      " 1   County_Name                        779216 non-null  object        \n",
      " 2   FIPS_State                         779216 non-null  int8          \n",
      " 3   FIPS_County                        779216 non-null  int16         \n",
      " 4   date                               779216 non-null  datetime64[ns]\n",
      " 5   Order_code                         779216 non-null  int8          \n",
      " 6   Stay_at_Home_Order_Recommendation  700626 non-null  object        \n",
      "dtypes: datetime64[ns](1), int16(1), int8(2), object(3)\n",
      "memory usage: 32.7+ MB\n"
     ]
    }
   ],
   "source": [
    "# Check final changes - significantly reduced memory\n",
    "COVID_home_4.info()"
   ]
  },
  {
   "cell_type": "markdown",
   "id": "a54cf065",
   "metadata": {},
   "source": [
    "## Check for Missing Values"
   ]
  },
  {
   "cell_type": "code",
   "execution_count": 31,
   "id": "eb998510",
   "metadata": {},
   "outputs": [
    {
     "data": {
      "text/plain": [
       "State_Tribe_Territory                    0\n",
       "County_Name                              0\n",
       "FIPS_State                               0\n",
       "FIPS_County                              0\n",
       "date                                     0\n",
       "Order_code                               0\n",
       "Stay_at_Home_Order_Recommendation    78590\n",
       "dtype: int64"
      ]
     },
     "execution_count": 31,
     "metadata": {},
     "output_type": "execute_result"
    }
   ],
   "source": [
    "# Check for missing values in home order dataframe\n",
    "COVID_home_4.isnull().sum()"
   ]
  },
  {
   "cell_type": "code",
   "execution_count": 32,
   "id": "d71df45e",
   "metadata": {},
   "outputs": [],
   "source": [
    "#Create null subset\n",
    "COVID_home_nan = COVID_home_4[COVID_home_4['Stay_at_Home_Order_Recommendation'].isnull() == True]"
   ]
  },
  {
   "cell_type": "code",
   "execution_count": 33,
   "id": "e34d371d",
   "metadata": {},
   "outputs": [
    {
     "data": {
      "text/html": [
       "<div>\n",
       "<style scoped>\n",
       "    .dataframe tbody tr th:only-of-type {\n",
       "        vertical-align: middle;\n",
       "    }\n",
       "\n",
       "    .dataframe tbody tr th {\n",
       "        vertical-align: top;\n",
       "    }\n",
       "\n",
       "    .dataframe thead th {\n",
       "        text-align: right;\n",
       "    }\n",
       "</style>\n",
       "<table border=\"1\" class=\"dataframe\">\n",
       "  <thead>\n",
       "    <tr style=\"text-align: right;\">\n",
       "      <th></th>\n",
       "      <th>State_Tribe_Territory</th>\n",
       "      <th>County_Name</th>\n",
       "      <th>FIPS_State</th>\n",
       "      <th>FIPS_County</th>\n",
       "      <th>date</th>\n",
       "      <th>Order_code</th>\n",
       "      <th>Stay_at_Home_Order_Recommendation</th>\n",
       "    </tr>\n",
       "  </thead>\n",
       "  <tbody>\n",
       "    <tr>\n",
       "      <th>19888</th>\n",
       "      <td>AR</td>\n",
       "      <td>Arkansas County</td>\n",
       "      <td>5</td>\n",
       "      <td>1</td>\n",
       "      <td>2020-07-10</td>\n",
       "      <td>7</td>\n",
       "      <td>NaN</td>\n",
       "    </tr>\n",
       "    <tr>\n",
       "      <th>19889</th>\n",
       "      <td>AR</td>\n",
       "      <td>Arkansas County</td>\n",
       "      <td>5</td>\n",
       "      <td>1</td>\n",
       "      <td>2020-07-11</td>\n",
       "      <td>7</td>\n",
       "      <td>NaN</td>\n",
       "    </tr>\n",
       "    <tr>\n",
       "      <th>20188</th>\n",
       "      <td>AR</td>\n",
       "      <td>Arkansas County</td>\n",
       "      <td>5</td>\n",
       "      <td>1</td>\n",
       "      <td>2020-07-12</td>\n",
       "      <td>7</td>\n",
       "      <td>NaN</td>\n",
       "    </tr>\n",
       "    <tr>\n",
       "      <th>20213</th>\n",
       "      <td>AR</td>\n",
       "      <td>Arkansas County</td>\n",
       "      <td>5</td>\n",
       "      <td>1</td>\n",
       "      <td>2020-07-13</td>\n",
       "      <td>7</td>\n",
       "      <td>NaN</td>\n",
       "    </tr>\n",
       "    <tr>\n",
       "      <th>20511</th>\n",
       "      <td>AR</td>\n",
       "      <td>Arkansas County</td>\n",
       "      <td>5</td>\n",
       "      <td>1</td>\n",
       "      <td>2020-07-14</td>\n",
       "      <td>7</td>\n",
       "      <td>NaN</td>\n",
       "    </tr>\n",
       "    <tr>\n",
       "      <th>...</th>\n",
       "      <td>...</td>\n",
       "      <td>...</td>\n",
       "      <td>...</td>\n",
       "      <td>...</td>\n",
       "      <td>...</td>\n",
       "      <td>...</td>\n",
       "      <td>...</td>\n",
       "    </tr>\n",
       "    <tr>\n",
       "      <th>917441</th>\n",
       "      <td>WY</td>\n",
       "      <td>Weston County</td>\n",
       "      <td>56</td>\n",
       "      <td>45</td>\n",
       "      <td>2020-12-09</td>\n",
       "      <td>7</td>\n",
       "      <td>NaN</td>\n",
       "    </tr>\n",
       "    <tr>\n",
       "      <th>917442</th>\n",
       "      <td>WY</td>\n",
       "      <td>Weston County</td>\n",
       "      <td>56</td>\n",
       "      <td>45</td>\n",
       "      <td>2020-12-10</td>\n",
       "      <td>7</td>\n",
       "      <td>NaN</td>\n",
       "    </tr>\n",
       "    <tr>\n",
       "      <th>917443</th>\n",
       "      <td>WY</td>\n",
       "      <td>Weston County</td>\n",
       "      <td>56</td>\n",
       "      <td>45</td>\n",
       "      <td>2020-12-11</td>\n",
       "      <td>7</td>\n",
       "      <td>NaN</td>\n",
       "    </tr>\n",
       "    <tr>\n",
       "      <th>917444</th>\n",
       "      <td>WY</td>\n",
       "      <td>Weston County</td>\n",
       "      <td>56</td>\n",
       "      <td>45</td>\n",
       "      <td>2020-12-12</td>\n",
       "      <td>7</td>\n",
       "      <td>NaN</td>\n",
       "    </tr>\n",
       "    <tr>\n",
       "      <th>917445</th>\n",
       "      <td>WY</td>\n",
       "      <td>Weston County</td>\n",
       "      <td>56</td>\n",
       "      <td>45</td>\n",
       "      <td>2020-12-13</td>\n",
       "      <td>7</td>\n",
       "      <td>NaN</td>\n",
       "    </tr>\n",
       "  </tbody>\n",
       "</table>\n",
       "<p>78590 rows × 7 columns</p>\n",
       "</div>"
      ],
      "text/plain": [
       "       State_Tribe_Territory      County_Name  FIPS_State  FIPS_County  \\\n",
       "19888                     AR  Arkansas County           5            1   \n",
       "19889                     AR  Arkansas County           5            1   \n",
       "20188                     AR  Arkansas County           5            1   \n",
       "20213                     AR  Arkansas County           5            1   \n",
       "20511                     AR  Arkansas County           5            1   \n",
       "...                      ...              ...         ...          ...   \n",
       "917441                    WY    Weston County          56           45   \n",
       "917442                    WY    Weston County          56           45   \n",
       "917443                    WY    Weston County          56           45   \n",
       "917444                    WY    Weston County          56           45   \n",
       "917445                    WY    Weston County          56           45   \n",
       "\n",
       "             date  Order_code Stay_at_Home_Order_Recommendation  \n",
       "19888  2020-07-10           7                               NaN  \n",
       "19889  2020-07-11           7                               NaN  \n",
       "20188  2020-07-12           7                               NaN  \n",
       "20213  2020-07-13           7                               NaN  \n",
       "20511  2020-07-14           7                               NaN  \n",
       "...           ...         ...                               ...  \n",
       "917441 2020-12-09           7                               NaN  \n",
       "917442 2020-12-10           7                               NaN  \n",
       "917443 2020-12-11           7                               NaN  \n",
       "917444 2020-12-12           7                               NaN  \n",
       "917445 2020-12-13           7                               NaN  \n",
       "\n",
       "[78590 rows x 7 columns]"
      ]
     },
     "execution_count": 33,
     "metadata": {},
     "output_type": "execute_result"
    }
   ],
   "source": [
    "COVID_home_nan"
   ]
  },
  {
   "cell_type": "code",
   "execution_count": 34,
   "id": "a0897b20",
   "metadata": {},
   "outputs": [
    {
     "data": {
      "text/plain": [
       "7    78590\n",
       "Name: Order_code, dtype: int64"
      ]
     },
     "execution_count": 34,
     "metadata": {},
     "output_type": "execute_result"
    }
   ],
   "source": [
    "# Count values of nan values.\n",
    "COVID_home_nan['Order_code'].value_counts(dropna=False)"
   ]
  },
  {
   "cell_type": "markdown",
   "id": "b81ed599",
   "metadata": {},
   "source": [
    "The NaNs have been inaccurately labeled. They are no orders to stay home. Change to that code. They are all 7, which is stay at home, so that needs to be changed."
   ]
  },
  {
   "cell_type": "code",
   "execution_count": 35,
   "id": "cca7c784",
   "metadata": {},
   "outputs": [
    {
     "name": "stderr",
     "output_type": "stream",
     "text": [
      "/var/folders/w8/gy54n1g94d31tmr9tf_tq_ym0000gn/T/ipykernel_10659/2029589630.py:2: SettingWithCopyWarning: \n",
      "A value is trying to be set on a copy of a slice from a DataFrame.\n",
      "Try using .loc[row_indexer,col_indexer] = value instead\n",
      "\n",
      "See the caveats in the documentation: https://pandas.pydata.org/pandas-docs/stable/user_guide/indexing.html#returning-a-view-versus-a-copy\n",
      "  COVID_home_4['Stay_at_Home_Order_Recommendation'] = COVID_home_4['Stay_at_Home_Order_Recommendation'].fillna('No order for individuals to stay home')\n"
     ]
    }
   ],
   "source": [
    "# Rename values from NaN to no order\n",
    "COVID_home_4['Stay_at_Home_Order_Recommendation'] = COVID_home_4['Stay_at_Home_Order_Recommendation'].fillna('No order for individuals to stay home')"
   ]
  },
  {
   "cell_type": "code",
   "execution_count": 36,
   "id": "30b8a40c",
   "metadata": {},
   "outputs": [
    {
     "data": {
      "text/plain": [
       "State_Tribe_Territory                0\n",
       "County_Name                          0\n",
       "FIPS_State                           0\n",
       "FIPS_County                          0\n",
       "date                                 0\n",
       "Order_code                           0\n",
       "Stay_at_Home_Order_Recommendation    0\n",
       "dtype: int64"
      ]
     },
     "execution_count": 36,
     "metadata": {},
     "output_type": "execute_result"
    }
   ],
   "source": [
    "# Check values have been changed\n",
    "COVID_home_4.isnull().sum()"
   ]
  },
  {
   "cell_type": "markdown",
   "id": "b720e446",
   "metadata": {},
   "source": [
    "## Check for mixed types"
   ]
  },
  {
   "cell_type": "code",
   "execution_count": 37,
   "id": "0a7c4ac8",
   "metadata": {},
   "outputs": [],
   "source": [
    "# Check for mixed types\n",
    "for col in COVID_home_4.columns.tolist():\n",
    "    weird = (COVID_home_4[[col]].applymap(type) != COVID_home_4[[col]].iloc[0].apply(type)).any(axis = 1) \n",
    "    if len (COVID_home_4[weird]) > 0:\n",
    "        print (col)"
   ]
  },
  {
   "cell_type": "markdown",
   "id": "6deda374",
   "metadata": {},
   "source": [
    "It appears that through cleaning the data, mixed type was addressed."
   ]
  },
  {
   "cell_type": "code",
   "execution_count": 38,
   "id": "d3610be7",
   "metadata": {},
   "outputs": [],
   "source": [
    "#Check for Duplicates\n",
    "COVID_home_dups = COVID_home_4[COVID_home_4.duplicated()]"
   ]
  },
  {
   "cell_type": "code",
   "execution_count": 39,
   "id": "8dfaa3d1",
   "metadata": {},
   "outputs": [
    {
     "data": {
      "text/html": [
       "<div>\n",
       "<style scoped>\n",
       "    .dataframe tbody tr th:only-of-type {\n",
       "        vertical-align: middle;\n",
       "    }\n",
       "\n",
       "    .dataframe tbody tr th {\n",
       "        vertical-align: top;\n",
       "    }\n",
       "\n",
       "    .dataframe thead th {\n",
       "        text-align: right;\n",
       "    }\n",
       "</style>\n",
       "<table border=\"1\" class=\"dataframe\">\n",
       "  <thead>\n",
       "    <tr style=\"text-align: right;\">\n",
       "      <th></th>\n",
       "      <th>State_Tribe_Territory</th>\n",
       "      <th>County_Name</th>\n",
       "      <th>FIPS_State</th>\n",
       "      <th>FIPS_County</th>\n",
       "      <th>date</th>\n",
       "      <th>Order_code</th>\n",
       "      <th>Stay_at_Home_Order_Recommendation</th>\n",
       "    </tr>\n",
       "  </thead>\n",
       "  <tbody>\n",
       "  </tbody>\n",
       "</table>\n",
       "</div>"
      ],
      "text/plain": [
       "Empty DataFrame\n",
       "Columns: [State_Tribe_Territory, County_Name, FIPS_State, FIPS_County, date, Order_code, Stay_at_Home_Order_Recommendation]\n",
       "Index: []"
      ]
     },
     "execution_count": 39,
     "metadata": {},
     "output_type": "execute_result"
    }
   ],
   "source": [
    "COVID_home_dups"
   ]
  },
  {
   "cell_type": "markdown",
   "id": "ab67a033",
   "metadata": {},
   "source": [
    "No duplicates"
   ]
  },
  {
   "cell_type": "markdown",
   "id": "7b7a2545",
   "metadata": {},
   "source": [
    "There is no numerical data for this dataset, so I am just cleaning and downloading it."
   ]
  },
  {
   "cell_type": "markdown",
   "id": "1731a8de",
   "metadata": {},
   "source": [
    "## Re-Name Columns for Later Merge"
   ]
  },
  {
   "cell_type": "code",
   "execution_count": 49,
   "id": "a2060bc4",
   "metadata": {},
   "outputs": [],
   "source": [
    "# Rename column for later merge\n",
    "COVID_home_5 = COVID_home_4.rename(columns = {'Order_code' : 'order_code_home'})"
   ]
  },
  {
   "cell_type": "code",
   "execution_count": 51,
   "id": "c5c1ce80",
   "metadata": {},
   "outputs": [],
   "source": [
    "COVID_home_5 = COVID_home_4.rename(columns = {'State_Tribe_Territory' : 'state'})"
   ]
  },
  {
   "cell_type": "code",
   "execution_count": 52,
   "id": "dee722bb",
   "metadata": {},
   "outputs": [
    {
     "data": {
      "text/html": [
       "<div>\n",
       "<style scoped>\n",
       "    .dataframe tbody tr th:only-of-type {\n",
       "        vertical-align: middle;\n",
       "    }\n",
       "\n",
       "    .dataframe tbody tr th {\n",
       "        vertical-align: top;\n",
       "    }\n",
       "\n",
       "    .dataframe thead th {\n",
       "        text-align: right;\n",
       "    }\n",
       "</style>\n",
       "<table border=\"1\" class=\"dataframe\">\n",
       "  <thead>\n",
       "    <tr style=\"text-align: right;\">\n",
       "      <th></th>\n",
       "      <th>state</th>\n",
       "      <th>County_Name</th>\n",
       "      <th>FIPS_State</th>\n",
       "      <th>FIPS_County</th>\n",
       "      <th>date</th>\n",
       "      <th>order_code_home</th>\n",
       "      <th>Stay_at_Home_Order_Recommendation</th>\n",
       "    </tr>\n",
       "  </thead>\n",
       "  <tbody>\n",
       "    <tr>\n",
       "      <th>26</th>\n",
       "      <td>AL</td>\n",
       "      <td>Autauga County</td>\n",
       "      <td>1</td>\n",
       "      <td>1</td>\n",
       "      <td>2020-04-10</td>\n",
       "      <td>1</td>\n",
       "      <td>Mandatory for all individuals</td>\n",
       "    </tr>\n",
       "    <tr>\n",
       "      <th>27</th>\n",
       "      <td>AL</td>\n",
       "      <td>Autauga County</td>\n",
       "      <td>1</td>\n",
       "      <td>1</td>\n",
       "      <td>2020-04-11</td>\n",
       "      <td>1</td>\n",
       "      <td>Mandatory for all individuals</td>\n",
       "    </tr>\n",
       "    <tr>\n",
       "      <th>28</th>\n",
       "      <td>AL</td>\n",
       "      <td>Autauga County</td>\n",
       "      <td>1</td>\n",
       "      <td>1</td>\n",
       "      <td>2020-04-12</td>\n",
       "      <td>1</td>\n",
       "      <td>Mandatory for all individuals</td>\n",
       "    </tr>\n",
       "    <tr>\n",
       "      <th>29</th>\n",
       "      <td>AL</td>\n",
       "      <td>Autauga County</td>\n",
       "      <td>1</td>\n",
       "      <td>1</td>\n",
       "      <td>2020-04-13</td>\n",
       "      <td>1</td>\n",
       "      <td>Mandatory for all individuals</td>\n",
       "    </tr>\n",
       "    <tr>\n",
       "      <th>30</th>\n",
       "      <td>AL</td>\n",
       "      <td>Autauga County</td>\n",
       "      <td>1</td>\n",
       "      <td>1</td>\n",
       "      <td>2020-04-14</td>\n",
       "      <td>1</td>\n",
       "      <td>Mandatory for all individuals</td>\n",
       "    </tr>\n",
       "  </tbody>\n",
       "</table>\n",
       "</div>"
      ],
      "text/plain": [
       "   state     County_Name  FIPS_State  FIPS_County       date  order_code_home  \\\n",
       "26    AL  Autauga County           1            1 2020-04-10                1   \n",
       "27    AL  Autauga County           1            1 2020-04-11                1   \n",
       "28    AL  Autauga County           1            1 2020-04-12                1   \n",
       "29    AL  Autauga County           1            1 2020-04-13                1   \n",
       "30    AL  Autauga County           1            1 2020-04-14                1   \n",
       "\n",
       "   Stay_at_Home_Order_Recommendation  \n",
       "26     Mandatory for all individuals  \n",
       "27     Mandatory for all individuals  \n",
       "28     Mandatory for all individuals  \n",
       "29     Mandatory for all individuals  \n",
       "30     Mandatory for all individuals  "
      ]
     },
     "execution_count": 52,
     "metadata": {},
     "output_type": "execute_result"
    }
   ],
   "source": [
    "COVID_home_5.head()"
   ]
  },
  {
   "cell_type": "markdown",
   "id": "84e21d14",
   "metadata": {},
   "source": [
    "# Download Final Cleaned Data"
   ]
  },
  {
   "cell_type": "code",
   "execution_count": 53,
   "id": "f5fdba8f",
   "metadata": {},
   "outputs": [],
   "source": [
    "#Download cleaned data\n",
    "COVID_home_5.to_pickle(os.path.join(path, 'COVID_home_clean.pkl'))"
   ]
  }
 ],
 "metadata": {
  "kernelspec": {
   "display_name": "Python 3 (ipykernel)",
   "language": "python",
   "name": "python3"
  },
  "language_info": {
   "codemirror_mode": {
    "name": "ipython",
    "version": 3
   },
   "file_extension": ".py",
   "mimetype": "text/x-python",
   "name": "python",
   "nbconvert_exporter": "python",
   "pygments_lexer": "ipython3",
   "version": "3.9.7"
  }
 },
 "nbformat": 4,
 "nbformat_minor": 5
}
